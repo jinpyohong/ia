{
 "cells": [
  {
   "cell_type": "markdown",
   "metadata": {},
   "source": [
    "# EX. Playing Cards\n",
    "Card는 4종류의 suits(club, diamond, heart, spade)와 13가지의 ranks(2-10, J, Q, K, A)의 조합으로 이루어 지며, card deck는 서로 다른 52개의 card의 묶음이다. Rank가 낮은 순에서 높은 순으로 정렬하면 아래와 같다. Suit간에는 높고 낮음이 없다. "
   ]
  },
  {
   "cell_type": "code",
   "execution_count": 1,
   "metadata": {},
   "outputs": [],
   "source": [
    "suits = ('Club', 'Diamond', 'Heart','Spade')\n",
    "ranks = ('2', '3', '4', '5', '6', '7', '8', '10', 'J', 'Q', 'K', 'A')"
   ]
  },
  {
   "cell_type": "markdown",
   "metadata": {},
   "source": [
    "한 장의 card는 suit과 rank의 tuple로 표현할 수 있다.\n",
    "\n",
    "```Python\n",
    "card = (suit, rank)\n",
    "```"
   ]
  },
  {
   "cell_type": "markdown",
   "metadata": {},
   "source": [
    "## Q1. \n",
    "4종의 suits과 13가지의 ranks를 조합하면 52장의 card들의 list로 ```deck```를 만들 수 있다.\n",
    "```deck```를 만들어라. "
   ]
  },
  {
   "cell_type": "code",
   "execution_count": null,
   "metadata": {},
   "outputs": [],
   "source": []
  },
  {
   "cell_type": "markdown",
   "metadata": {},
   "source": [
    "## Q2.\t\n",
    "카드의 높고 낮음, 즉 ranking은 suit과 관련없이 rank를 비교하여 결정된다. 위 ranks에서 왼편은 낮고, 오른편은 높게 정렬되었다. \n",
    "\n",
    "Card의 rank에 따라 다음과 같은 정수로 return하는 함수를 정의하고 testing하라.\n",
    "- '2' --> 0\n",
    "- '3' --> 1\n",
    "- ...\n",
    "- 'A' --> 13"
   ]
  },
  {
   "cell_type": "code",
   "execution_count": null,
   "metadata": {},
   "outputs": [],
   "source": []
  },
  {
   "cell_type": "markdown",
   "metadata": {},
   "source": [
    "## Q3.\t\n",
    "Card deck를 다음과 같이 random 하게 shuffle해 놓자."
   ]
  },
  {
   "cell_type": "code",
   "execution_count": null,
   "metadata": {},
   "outputs": [],
   "source": [
    "import random\n",
    "random.shuffle(deck)\n",
    "print(deck)"
   ]
  },
  {
   "cell_type": "markdown",
   "metadata": {},
   "source": [
    "Q2에서 작성한 함수는 sorting할 때 key function으로 이용할 수 있다. Deck를 rank가 낮은 것에서 높은 것으로 sorting하라. 단, rank가 같으면 suit 명을 사전순으로 열거하면 된다. "
   ]
  },
  {
   "cell_type": "code",
   "execution_count": null,
   "metadata": {},
   "outputs": [],
   "source": []
  }
 ],
 "metadata": {
  "kernelspec": {
   "display_name": "Python 3",
   "language": "python",
   "name": "python3"
  },
  "language_info": {
   "codemirror_mode": {
    "name": "ipython",
    "version": 3
   },
   "file_extension": ".py",
   "mimetype": "text/x-python",
   "name": "python",
   "nbconvert_exporter": "python",
   "pygments_lexer": "ipython3",
   "version": "3.6.4"
  }
 },
 "nbformat": 4,
 "nbformat_minor": 2
}
