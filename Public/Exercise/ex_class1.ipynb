{
 "cells": [
  {
   "cell_type": "markdown",
   "metadata": {},
   "source": [
    "# Ex. Classes and Objects"
   ]
  },
  {
   "cell_type": "markdown",
   "metadata": {},
   "source": [
    "Visual Studio Code를 이용하여 new Python file 'ex7.py' 파일을 만들고, 새 강의노트에 있는 Point class와 Rectangle class를 copy 여기에 copy하라. 그전에 사용했던 `test` function도 이 파일로 이동하라.\n",
    "\n",
    "아래 주문에 따라 추가하면서 testing하여 최종 완성된 script file과 output file(test 결과)을 zip 파일로 묶어 eclass에 제출하라."
   ]
  },
  {
   "cell_type": "markdown",
   "metadata": {},
   "source": [
    "#### Point class에서 다음을 추가하고 시험하라.\n",
    "1. Add magic methods for supporting operator `==` and `!=`.\n",
    "\n",
    "1. Add a method `reflect_x` which returns a new `Point`, one which is the reflection of the point about the x-axis. For example, \n",
    "```Python\n",
    ">>> Point(3, 5).reflect_x()\n",
    "Point(3, -5)\n",
    "```\n",
    "\n",
    "1. Add a method `slope_from_origin` which returns the slope of the line joining the origin to the point. For example,\n",
    "```Python\n",
    ">>> Point(4, 10).slope_from_origin()\n",
    "2.5\n",
    "```\n",
    "어떤 좌표에서 exception이 발생하는가? Error message를 output하고 중단하지 않게 exception handling 하라.\n",
    "\n",
    "1. The equation of a straight line is “y = ax + b”. The coefficients a and b completely describe the line. Write a method in the Point class so that if a point instance is given another point, it will compute the equation of the straight line joining the two points. It must return the two coefficients as a tuple of two values. For example,\n",
    "```Python\n",
    ">>> print(Point(4, 11).get_line_to(Point(6, 15)))\n",
    "(2, 3)\n",
    "```\n",
    "This tells us that the equation of the line joining the two points is “y = 2x + 3”.\n",
    "\n",
    "어떤 경우에 exception이 발생하는가? Error message를 output하고 중단되지 않게 exception handling하라."
   ]
  },
  {
   "cell_type": "markdown",
   "metadata": {},
   "source": [
    "#### Rectangle class를 가지고 다음 지시에 따라 method를 추가하고 시험하라."
   ]
  },
  {
   "cell_type": "markdown",
   "metadata": {},
   "source": [
    "1. Add a method `area` to the Rectangle class that returns the area of any instance:\n",
    "\n",
    "1. Write a `perimeter` method in the Rectangle class so that we can find the perimeter of any rectangle instance:\n",
    "\n",
    "1. Write a `flip` method in the Rectangle class that swaps the width and the height of any rectangle instance:\n",
    "\n",
    "```Python\n",
    "r = Rectangle(Point(100, 50), 10, 5)\n",
    "test(r.area() == 50)\n",
    "test(r.perimeter() == 30)\n",
    "r.flip()    # this method modifies its attributes\n",
    "test(r.width == 5 and r.height == 10)\n",
    "```\n",
    "\n",
    "4. Write a new method `contains` in the `Rectangle` class to test if a `Point` falls within the rectangle. For this exercise, assume that a rectangle at (0,0) with width 10 and height 5 has open upper bounds on the width and height, i.e. it stretches in the x direction from [0 to 10), where 0 is included but 10 is excluded, and from [0 to 5) in the y direction. So it does not contain the point (10, 2). These tests should pass: \n",
    "\n",
    "```Python\n",
    "r = Rectangle(Point(0, 0), 10, 5)\n",
    "test(r.contains(Point(0, 0)))\n",
    "test(r.contains(Point(3, 3)))\n",
    "test(not r.contains(Point(3, 7)))\n",
    "test(not r.contains(Point(3, 5)))\n",
    "test(r.contains(Point(3, 4.99999)))\n",
    "test(not r.contains(Point(-3, -3)))\n",
    "```"
   ]
  }
 ],
 "metadata": {
  "kernelspec": {
   "display_name": "Python 3",
   "language": "python",
   "name": "python3"
  },
  "language_info": {
   "codemirror_mode": {
    "name": "ipython",
    "version": 3
   },
   "file_extension": ".py",
   "mimetype": "text/x-python",
   "name": "python",
   "nbconvert_exporter": "python",
   "pygments_lexer": "ipython3",
   "version": "3.7.3"
  }
 },
 "nbformat": 4,
 "nbformat_minor": 2
}
