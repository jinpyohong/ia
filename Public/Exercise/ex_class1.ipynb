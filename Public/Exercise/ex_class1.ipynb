{
 "cells": [
  {
   "cell_type": "markdown",
   "metadata": {},
   "source": [
    "## EX. Classes and Objects"
   ]
  },
  {
   "cell_type": "markdown",
   "metadata": {},
   "source": [
    "Q1. 아래 주어진 Point class에 다음 지시에 따라 method들을 추가하고 잘 동작하는지 시험하라."
   ]
  },
  {
   "cell_type": "code",
   "execution_count": null,
   "metadata": {},
   "outputs": [],
   "source": [
    "class Point:    \n",
    "    \"\"\"2D Point class\"\"\"\n",
    "    \n",
    "    def __init__(self, x=0, y=0):\n",
    "        self.x = x\n",
    "        self.y = y\n",
    "    \n",
    "    def __str__(self):\n",
    "        return \"({0}, {1})\".format(self.x, self.y)\n",
    "\n",
    "    def __repr__(self):\n",
    "        return \"Point({0}, {1})\".format(self.x, self.y)\n",
    "\n",
    "    def distance(self, other):\n",
    "        return ((self.x - other.x)**2 + (self.y - other.y)**2) ** 0.5    "
   ]
  },
  {
   "cell_type": "markdown",
   "metadata": {},
   "source": [
    "1. Add a method `reflect_x` which returns a new `Point`, one which is the reflection of the point about the x-axis. For example, \n",
    "```Python\n",
    ">>> Point(3, 5).reflect_x()\n",
    "Point(3, -5)```\n",
    "\n",
    "1. Add a method `slope_from_origin` which returns the slope of the line joining the origin to the point. For example,\n",
    "```Python\n",
    ">>> Point(4, 10).slope_from_origin()\n",
    "2.5\n",
    "```\n",
    "What cases will cause this method to fail? (Exception 나오는 예를 보여라.)\n",
    "\n",
    "1. The equation of a straight line is “y = ax + b”. The coefficients a and b completely describe the line. Write a method in the Point class so that if a point instance is given another point, it will compute the equation of the straight line joining the two points. It must return the two coefficients as a tuple of two values. For example,\n",
    "```Python\n",
    ">>> print(Point(4, 11).get_line_to(Point(6, 15)))\n",
    "(2, 3)\n",
    "```\n",
    "This tells us that the equation of the line joining the two points is “y = 2x + 3”.\n",
    "When will this method fail?"
   ]
  },
  {
   "cell_type": "markdown",
   "metadata": {},
   "source": [
    "Q2. 아래 Rectangle class를 가지고 다음 지시에 따라 method를 추가하고 시험하라."
   ]
  },
  {
   "cell_type": "code",
   "execution_count": null,
   "metadata": {},
   "outputs": [],
   "source": [
    "class Rectangle:\n",
    "    \"\"\" A class to manufacture rectangle objects \"\"\"\n",
    "\n",
    "    def __init__(self, posn, w, h):\n",
    "        \"\"\" Initialize rectangle at posn, with width w, height h \"\"\"\n",
    "        self.corner = posn\n",
    "        self.width = w\n",
    "        self.height = h\n",
    "\n",
    "    def __str__(self):\n",
    "        return  \"({0}, {1}, {2})\".format(\n",
    "            self.corner, self.width, self.height)\n",
    "    \n",
    "    def grow(self, delta_width, delta_height):\n",
    "        \"\"\" Grow (or shrink) this object by the deltas \"\"\"\n",
    "        self.width += delta_width\n",
    "        self.height += delta_height\n",
    "\n",
    "    def move(self, dx, dy):\n",
    "        \"\"\" Move this object by the deltas \"\"\"\n",
    "        self.corner.x += dx\n",
    "        self.corner.y += dy"
   ]
  },
  {
   "cell_type": "markdown",
   "metadata": {},
   "source": [
    "Add a method area to the Rectangle class that returns the area of any instance:"
   ]
  },
  {
   "cell_type": "code",
   "execution_count": null,
   "metadata": {},
   "outputs": [],
   "source": [
    "r = Rectangle(Point(0, 0), 10, 5)\n",
    "test(r.area() == 50)"
   ]
  },
  {
   "cell_type": "markdown",
   "metadata": {},
   "source": [
    "Write a `perimeter` method in the Rectangle class so that we can find the perimeter of any rectangle instance:"
   ]
  },
  {
   "cell_type": "code",
   "execution_count": null,
   "metadata": {},
   "outputs": [],
   "source": [
    "r = Rectangle(Point(0, 0), 10, 5)\n",
    "test(r.perimeter() == 30)"
   ]
  },
  {
   "cell_type": "markdown",
   "metadata": {},
   "source": [
    "Write a `flip` method in the Rectangle class that swaps the width and the height of any rectangle instance:"
   ]
  },
  {
   "cell_type": "code",
   "execution_count": null,
   "metadata": {},
   "outputs": [],
   "source": [
    "r = Rectangle(Point(100, 50), 10, 5)\n",
    "test(r.width == 10 and r.height == 5)\n",
    "r.flip()\n",
    "test(r.width == 5 and r.height == 10)"
   ]
  },
  {
   "cell_type": "markdown",
   "metadata": {},
   "source": [
    "Write a new method `contains` in the `Rectangle` class to test if a `Point` falls within the rectangle. For this exercise, assume that a rectangle at (0,0) with width 10 and height 5 has open upper bounds on the width and height, i.e. it stretches in the x direction from [0 to 10), where 0 is included but 10 is excluded, and from [0 to 5) in the y direction. So it does not contain the point (10, 2). These tests should pass:"
   ]
  },
  {
   "cell_type": "code",
   "execution_count": null,
   "metadata": {},
   "outputs": [],
   "source": [
    "r = Rectangle(Point(0, 0), 10, 5)\n",
    "test(r.contains(Point(0, 0)))\n",
    "test(r.contains(Point(3, 3)))\n",
    "test(not r.contains(Point(3, 7)))\n",
    "test(not r.contains(Point(3, 5)))\n",
    "test(r.contains(Point(3, 4.99999)))\n",
    "test(not r.contains(Point(-3, -3)))"
   ]
  }
 ],
 "metadata": {
  "kernelspec": {
   "display_name": "Python 3",
   "language": "python",
   "name": "python3"
  },
  "language_info": {
   "codemirror_mode": {
    "name": "ipython",
    "version": 3
   },
   "file_extension": ".py",
   "mimetype": "text/x-python",
   "name": "python",
   "nbconvert_exporter": "python",
   "pygments_lexer": "ipython3",
   "version": "3.6.4"
  }
 },
 "nbformat": 4,
 "nbformat_minor": 2
}
