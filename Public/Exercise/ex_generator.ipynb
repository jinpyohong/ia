{
 "cells": [
  {
   "cell_type": "markdown",
   "metadata": {},
   "source": [
    "# Exercise: range generator function\n",
    "간단한 `test` function이 주어져 있다."
   ]
  },
  {
   "cell_type": "code",
   "execution_count": 1,
   "metadata": {},
   "outputs": [],
   "source": [
    "import sys\n",
    "\n",
    "def test(did_pass):\n",
    "    \"\"\"  Print the result of a test.  \"\"\"\n",
    "    linenum = sys._getframe(1).f_lineno   # Get the caller's line number.\n",
    "    if did_pass:\n",
    "        msg = \"Test at line {0} ok.\".format(linenum)\n",
    "    else:\n",
    "        msg = (\"Test at line {0} FAILED.\".format(linenum))\n",
    "    print(msg)"
   ]
  },
  {
   "cell_type": "markdown",
   "metadata": {},
   "source": [
    "Q1. list를 return하는 `lrange()` function을 작성하고 시험하라."
   ]
  },
  {
   "cell_type": "code",
   "execution_count": 3,
   "metadata": {},
   "outputs": [
    {
     "name": "stdout",
     "output_type": "stream",
     "text": [
      "[0, 1, 2, 3]\n",
      "Test at line 11 ok.\n",
      "Test at line 12 ok.\n"
     ]
    }
   ],
   "source": [
    "def lrange1(start, stop, step):\n",
    "    if step == 0:\n",
    "        raise ValueError('step must be non-zero')\n",
    "    ...\n",
    "    \n",
    "print(lrange1(0, 4, 1))\n",
    "test(lrange1(-1, 7, 2) == [-1, 1, 3, 5])\n",
    "test(lrange1(10, 1, -2) == [10, 8, 6, 4, 2])"
   ]
  },
  {
   "cell_type": "markdown",
   "metadata": {},
   "source": [
    "Q2.\n",
    "- 3번째 argument가 생략되면 `lrange1(start, stop, 1)`\n",
    "- 2번째 3번째 argument가 생략되면 `lrange1(0, start, 1)`\n",
    "\n",
    "로 동작하여 list를 return하는 함수 lrange(start, stop, step)을 작성하라."
   ]
  },
  {
   "cell_type": "code",
   "execution_count": 4,
   "metadata": {},
   "outputs": [
    {
     "name": "stdout",
     "output_type": "stream",
     "text": [
      "[0, 1, 2, 3]\n",
      "Test at line 13 ok.\n",
      "Test at line 14 ok.\n",
      "Test at line 15 ok.\n"
     ]
    }
   ],
   "source": [
    "def lrange(start, stop=None, step=1):\n",
    "    ...\n",
    "\n",
    "print(lrange(4))\n",
    "test(sum(i for i in lrange(1, 11)) == 55)\n",
    "test(lrange(-1, 7, 2) == list(range(-1, 7, 2)))\n",
    "test(lrange(10, 1, -2) == list(range(10, 1, -2)))"
   ]
  },
  {
   "cell_type": "markdown",
   "metadata": {},
   "source": [
    "Q3. 위 두 함수를 합쳐 `range()`와 같이 동작하는 `xrange()` generator 함수를 작성하라."
   ]
  },
  {
   "cell_type": "code",
   "execution_count": 6,
   "metadata": {},
   "outputs": [
    {
     "name": "stdout",
     "output_type": "stream",
     "text": [
      "<generator object xrange at 0x000001DD49A67570>\n",
      "Test at line 11 ok.\n",
      "Test at line 12 ok.\n",
      "Test at line 13 ok.\n",
      "Test at line 14 ok.\n"
     ]
    }
   ],
   "source": [
    "def xrange(start, stop=None, step=1):\n",
    "    ...  \n",
    "\n",
    "print(xrange(4))\n",
    "test(list(xrange(4)) == list(range(4)))\n",
    "test(sum(i for i in xrange(1, 11)) == 55)\n",
    "test(list(xrange(-1, 7, 2)) == list(range(-1, 7, 2)))\n",
    "test(list(xrange(10, 1, -2)) == list(range(10, 1, -2)))"
   ]
  }
 ],
 "metadata": {
  "kernelspec": {
   "display_name": "Python 3",
   "language": "python",
   "name": "python3"
  },
  "language_info": {
   "codemirror_mode": {
    "name": "ipython",
    "version": 3
   },
   "file_extension": ".py",
   "mimetype": "text/x-python",
   "name": "python",
   "nbconvert_exporter": "python",
   "pygments_lexer": "ipython3",
   "version": "3.7.3"
  }
 },
 "nbformat": 4,
 "nbformat_minor": 2
}
