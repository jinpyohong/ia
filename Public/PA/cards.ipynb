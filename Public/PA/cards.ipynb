{
 "cells": [
  {
   "cell_type": "markdown",
   "metadata": {},
   "source": [
    "# PA. Playing Card\n",
    "\n",
    "Playing card: see https://www.britannica.com/topic/playing-card\n",
    "\n",
    "A deck of cards is 52 cards, divided into four suits, each containing 13 ranks. Each card is uniquely idedifieable by auit and rank.\n",
    "- Suits: spades, clubs, hearts, and diamonds  \n",
    "- Ranks: Ace, 2, ..., 10, Jack, Queen, King"
   ]
  },
  {
   "cell_type": "markdown",
   "metadata": {},
   "source": [
    "### A Card and A Deck\n",
    "Q: A card can be defined as a tuple `(rank, suit)` or a string concatenating rank and suit. Constitue a card deck from the suits and ranks. The suits and ranks ara given as below:"
   ]
  },
  {
   "cell_type": "code",
   "execution_count": 2,
   "metadata": {},
   "outputs": [
    {
     "data": {
      "text/plain": [
       "['AC', 'AD', 'AH', 'AS', '2C']"
      ]
     },
     "execution_count": 2,
     "metadata": {},
     "output_type": "execute_result"
    }
   ],
   "source": [
    "suits = ('C', 'D', 'H', 'S')\n",
    "ranks = ('A', '2', '3', '4', '5', '6', '7', '8', '9', '10', 'J', 'Q', 'K')\n",
    "pass\n",
    "a_deck[:5]"
   ]
  },
  {
   "cell_type": "markdown",
   "metadata": {},
   "source": [
    "Shuffle the deck. Pick a card from the top of the deck and print the name of card. Repeat 5 times."
   ]
  },
  {
   "cell_type": "code",
   "execution_count": 4,
   "metadata": {},
   "outputs": [
    {
     "name": "stdout",
     "output_type": "stream",
     "text": [
      "3C\n",
      "QS\n",
      "7D\n",
      "8D\n",
      "QH\n"
     ]
    },
    {
     "data": {
      "text/plain": [
       "42"
      ]
     },
     "execution_count": 4,
     "metadata": {},
     "output_type": "execute_result"
    }
   ],
   "source": [
    "import random\n",
    "random.shuffle(a_deck)\n",
    "for i in range(5):\n",
    "    card = a_deck.pop()\n",
    "    print(card)\n",
    "len(a_deck)"
   ]
  },
  {
   "cell_type": "markdown",
   "metadata": {},
   "source": [
    "## OO Approach\n",
    "Q. Write a `Card` class. Class instances are created by passing `rank + suit` string, for instance:\n",
    "```Python\n",
    ">>> card = Card('10D')\n",
    ">>> print(card)\n",
    "10D\n",
    ">>> card\n",
    "10D\n",
    "```\n",
    "value method를 implement하기 전에는 두 장의 card를 비교할 수 없다. 그러나, subclass에서 이 method만 implement한다면 비교가 가능하게 된다. 상속받을 class를 위해 정의하는 class를 'abstract class'라 한다. "
   ]
  },
  {
   "cell_type": "code",
   "execution_count": 6,
   "metadata": {},
   "outputs": [
    {
     "name": "stdout",
     "output_type": "stream",
     "text": [
      "KS 10D\n"
     ]
    }
   ],
   "source": [
    "suits = ('C', 'D', 'H', 'S')\n",
    "ranks = ('A', '2', '3', '4', '5', '6', '7', '8', '9', '10', 'J', 'Q', 'K')\n",
    "\n",
    "class Card:\n",
    "    \"\"\"Abstact class for playing cards\n",
    "    \"\"\"\n",
    "    def __init__(self, rank_suit):\n",
    "        pass\n",
    "        \n",
    "    def __repr__(self):\n",
    "        pass\n",
    "    \n",
    "    def value(self):\n",
    "        \"\"\"Subclasses should implement this method\n",
    "        \"\"\"\n",
    "        raise NotImplementedError(\"value method not implemented\")\n",
    "\n",
    "    def __gt__(self, other): return self.value() > other.value()\n",
    "    def __ge__(self, other): return self.value() >= other.value()\n",
    "    def __lt__(self, other): return self.value() < other.value()\n",
    "    def __le__(self, other): return self.value() <= other.value()\n",
    "    def __eq__(self, other): return self.value() == other.value()\n",
    "    def __ne__(self, other): return self.value() != other.value()\n",
    "\n",
    "card1 = Card('KS')\n",
    "card2 = Card(('10', 'D'))\n",
    "print(card1, card2)\n",
    "# card1 > card2      # cause Exception"
   ]
  },
  {
   "cell_type": "markdown",
   "metadata": {},
   "source": [
    "### Poker game\n",
    "단, Poker game에서 두 카드를 비교할 때 suit과 무관하게 rank로만 결정한다. 오름차 순서로 나열하면 다음과 같다. \n",
    "\n",
    "    '2', '3', '4', '5', '6', '7', '8', '9', '10', 'J', 'Q', 'K', 'A'\n",
    "\n",
    "Q. `Card` class를 상속받아 Poker game용 `PKCard` class를 정의하라. Card간에 높고 낮음을 비교하는 magic method를 작성하라.\n",
    ">Hint: 위 순서대로 정수를 return하는 value() method를 정의해 보자. 그러면 비교하는 magic method 구현이 쉬울 것이다."
   ]
  },
  {
   "cell_type": "code",
   "execution_count": 8,
   "metadata": {},
   "outputs": [
    {
     "name": "stdout",
     "output_type": "stream",
     "text": [
      "{'A': 14, '2': 2, '3': 3, '4': 4, '5': 5, '6': 6, '7': 7, '8': 8, '9': 9, '10': 10, 'J': 11, 'Q': 12, 'K': 13}\n",
      "True\n",
      "[9D, 9C, QC]\n",
      "[9D, 9C, QC]\n"
     ]
    }
   ],
   "source": [
    "# PKCard class here\n",
    "class PKCard(Card):\n",
    "    \"\"\"Card for Poker game\n",
    "    \"\"\"\n",
    "    pass\n",
    "    \n",
    "print(PKCard.VALUE)\n",
    "c1 = PKCard('QC')\n",
    "c2 = PKCard('9D')\n",
    "c3 = PKCard('9C')\n",
    "\n",
    "# comparison\n",
    "print(c1 > c2 == c3)\n",
    "\n",
    "# sorting\n",
    "cards = [c1, c2, c3]\n",
    "sorted_cards = sorted(cards)\n",
    "print(sorted_cards)\n",
    "cards.sort()\n",
    "print(cards)"
   ]
  },
  {
   "cell_type": "markdown",
   "metadata": {},
   "source": [
    "### Blackjack game\n",
    "Blackjack에서는 Ace는 1 또는 11 point로 사용할 수 있으며, rank가 2, 3, ..., 10인 카드는 2, 3, ..., 10 point으로 지정되고, \n",
    "그리고 face card들(즉, Jack, Queen, King)은 10 point이다.\n",
    "\n",
    "Q. Blackjack game용 `BJCard` class를 정의하라. 어느 class에서 상속받는 편이 좋겠는가?"
   ]
  },
  {
   "cell_type": "code",
   "execution_count": 30,
   "metadata": {},
   "outputs": [
    {
     "name": "stdout",
     "output_type": "stream",
     "text": [
      "AC 5D\n"
     ]
    }
   ],
   "source": [
    "class BJCard(Card):\n",
    "    \"\"\"Card for blackjack game\n",
    "    \"\"\"\n",
    "    POINTS = [[1, 11], [2], [3], [4], [5], [6], [7], [8], [9], [10], [10], [10], [10]]\n",
    "    VALUE = dict(zip(ranks, POINTS))\n",
    "    \n",
    "    def value(self):\n",
    "        pass\n",
    "    \n",
    "bj1 = BJCard('AC')\n",
    "bj2 = BJCard('5D')  \n",
    "print(bj1, bj2)\n",
    "assert bj1.value() == [1, 11]\n",
    "assert bj2.value() == [5]"
   ]
  },
  {
   "cell_type": "markdown",
   "metadata": {},
   "source": [
    "Blackjack game은 dealer와 한명 이상의 player가 승부를 겨루는 게임이다.\n",
    "Dealer와 겨뤄 지금까지 받은 카드들의 value 합이 21을 초과하지 않으면서 21에 가까운 쪽이 이긴다. Player가 두 장의 카드로 21을 만들었을 때는 무조건 player가 이긴다(이를 'Blackjack'이라 한다.) Player가 21을 넘게 되면 'burst'라 하며, 무조건 dealer에게 진다.\n",
    "\n",
    "Q. Player나 dealer가 받은(손에 쥔) 카드들을 나타내는 ```BJCards``` class를 정의하라. 이것은 `BJCard`들이 embedding(내장)된 composite object이 된다."
   ]
  },
  {
   "cell_type": "code",
   "execution_count": 31,
   "metadata": {},
   "outputs": [
    {
     "name": "stdout",
     "output_type": "stream",
     "text": [
      "[AC]: sums={1, 11} score=11\n",
      "[AC, 4D]: sums={5, 15} score=15\n",
      "[AC, 4D, 2S]: sums={17, 7} score=17\n",
      "[AC, 4D, 2S, KD]: sums={17} score=17\n",
      "[AC, 4D, 2S, KD, 4D]: sums={21} score=21\n",
      "[9S]: sums={9} score=9\n",
      "[9S, AS]: sums={10, 20} score=20\n",
      "[9S, AS, 5S]: sums={15} score=15\n",
      "[9S, AS, 5S, JD]: sums=set() score=-1\n",
      "[QS]: sums={10} score=10\n",
      "[QS, 4C]: sums={14} score=14\n",
      "[QS, 4C, 5H]: sums={19} score=19\n",
      "Bob wins.\n",
      "Sue loses.\n"
     ]
    }
   ],
   "source": [
    "class BJCards:\n",
    "    \"\"\"Player's cards in hand for blackjack\n",
    "    \"\"\"\n",
    "    def __init__(self):\n",
    "        self.cards = []\n",
    "        self.sums = {0}             # a set of possible sums\n",
    "        self.score = max(self.sums) # score is the largest sum \n",
    "                                    # score = -1 if burst\n",
    "        \n",
    "    def append(self, card):\n",
    "        \"\"\"Append card and derive the best score(<=21) \n",
    "        from all possible sums of points.\n",
    "        If score > 21, burst. Denote score as -1\n",
    "        \"\"\"\n",
    "        pass\n",
    "    \n",
    "    def __gt__(self, other): return self.score > other.score\n",
    "    def __ge__(self, other): return self.score >= other.score\n",
    "    def __lt__(self, other): return self.score < other.score\n",
    "    def __le__(self, other): return self.score <= other.score\n",
    "    def __eq__(self, other): return self.score == other.score\n",
    "    def __ne__(self, other): return self.score != other.score\n",
    "            \n",
    "    def __str__(self):\n",
    "        return \"{}: sums={} score={}\".format(self.cards, self.sums, self.score)\n",
    "\n",
    "def test_cards(card_list):\n",
    "    cards = BJCards()\n",
    "    for c in card_list:\n",
    "        cards.append(BJCard(c))\n",
    "        print(cards)\n",
    "    return cards\n",
    "\n",
    "bob_cards = test_cards(['AC', '4D', '2S', 'KD', '4D'])\n",
    "sue_cards = test_cards(['9S', 'AS', '5S', 'JD'])\n",
    "dealer_cards = test_cards(['QS', '4C', '5H'])\n",
    "\n",
    "if bob_cards > dealer_cards:\n",
    "    print('Bob wins.')\n",
    "if sue_cards < dealer_cards:\n",
    "    print('Sue loses.')"
   ]
  },
  {
   "cell_type": "markdown",
   "metadata": {},
   "source": [
    "### Deck class\n",
    "Attributes:\n",
    "- cards\n",
    "\n",
    "Methods:\n",
    "- shuffle\n",
    "- pop\n",
    "- `__str__`"
   ]
  },
  {
   "cell_type": "code",
   "execution_count": 22,
   "metadata": {},
   "outputs": [
    {
     "name": "stdout",
     "output_type": "stream",
     "text": [
      "[AC, 2C, 3C, 4C, 5C, 6C, 7C, 8C, 9C, 10C, JC, QC, KC, AD, 2D, 3D, 4D, 5D, 6D, 7D, 8D, 9D, 10D, JD, QD, KD, AH, 2H, 3H, 4H, 5H, 6H, 7H, 8H, 9H, 10H, JH, QH, KH, AS, 2S, 3S, 4S, 5S, 6S, 7S, 8S, 9S, 10S, JS, QS, KS]\n",
      "[KH, QS, 7H, KS, 8C, AD, 2H, 4D, 5C, 3H, 9D, 3C, KD, 2S, 2C, KC, QH, 5S, QC, 6S, JC, 8S, 8D, 6D, 9H, 4S, 3D, AS, AH, 10S, 7C, 9C, 6H, 10H, 4C, 10D, 10C, 4H, 7S, 8H, 2D, 5D, AC, 7D, 6C, QD, JS, JH, 3S, 9S, 5H, JD]\n",
      "JD\n",
      "<class '__main__.BJCard'>\n"
     ]
    }
   ],
   "source": [
    "import random\n",
    "class Deck:\n",
    "    def __init__(self, cls):\n",
    "        \"\"\"Create a deck of 'cls' card class\n",
    "        \"\"\"\n",
    "        self.cards = ...  # create all the cards\n",
    "    \n",
    "    ...\n",
    "\n",
    "    \n",
    "deck = Deck(BJCard)\n",
    "print(deck)\n",
    "deck.shuffle()\n",
    "print(deck)\n",
    "card = deck.pop()\n",
    "print(card)\n",
    "print(type(card))"
   ]
  },
  {
   "cell_type": "markdown",
   "metadata": {},
   "source": [
    "Q. Add method\n",
    "- `__len__(self)` to enable `len` builtin function\n",
    "- `__getitem__(self, index)` to enable indexing and slicing as well as iteration"
   ]
  },
  {
   "cell_type": "code",
   "execution_count": 18,
   "metadata": {},
   "outputs": [
    {
     "name": "stdout",
     "output_type": "stream",
     "text": [
      "51 cards left\n",
      "6C\n",
      "[5C, 6D, AC, QH, 4S]\n",
      "6C 8H 7S 9C KD 6H 9D 8D QD 8S KH 7D 4D 10C KS 9S AD QC 7C 3S JD 5S 9H 5H 2H KC 3C AS 10S 10D 5D AH 10H 3D 4H 6S 7H QS 3H 2S 8C 4C 2D JC 2C JS 5C 6D AC QH 4S \n"
     ]
    }
   ],
   "source": [
    "print(len(deck), 'cards left')\n",
    "# testing __getitem__ method\n",
    "print(deck[0])\n",
    "print(deck[-5:])\n",
    "for c in deck:\n",
    "    print(c, end=' ')\n",
    "print()"
   ]
  }
 ],
 "metadata": {
  "kernelspec": {
   "display_name": "Python 3",
   "language": "python",
   "name": "python3"
  },
  "language_info": {
   "codemirror_mode": {
    "name": "ipython",
    "version": 3
   },
   "file_extension": ".py",
   "mimetype": "text/x-python",
   "name": "python",
   "nbconvert_exporter": "python",
   "pygments_lexer": "ipython3",
   "version": "3.7.3"
  }
 },
 "nbformat": 4,
 "nbformat_minor": 2
}
