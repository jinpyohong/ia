{
 "cells": [
  {
   "cell_type": "markdown",
   "metadata": {},
   "source": [
    "# PA. SMS Store"
   ]
  },
  {
   "cell_type": "markdown",
   "metadata": {},
   "source": [
    "Create a new class, SMS_store. The class will instantiate SMS_store objects, similar to an inbox or outbox on a cellphone:\n",
    "```Python\n",
    "my_inbox = SMS_store()\n",
    "```\n",
    "This store can hold multiple SMS messages (i.e. its internal state will just be a list of messages). Each message will be represented as a tuple:\n",
    "```Python\n",
    "(has_been_viewed, from_number, time_arrived, text_of_SMS)\n",
    "```\n",
    "\n",
    "The inbox object should provide these methods:\n",
    "\n",
    "```Python\n",
    "my_inbox.add_new_arrival(from_number, time_arrived, text_of_SMS)\n",
    "  # Makes new SMS tuple, inserts it after other messages\n",
    "  # in the store. When creating this message, its\n",
    "  # has_been_viewed status is set False.\n",
    "\n",
    "my_inbox.message_count()\n",
    "  # Returns the number of sms messages in my_inbox\n",
    "\n",
    "my_inbox.get_unread_indexes()\n",
    "  # Returns list of indexes of all not-yet-viewed SMS messages\n",
    "\n",
    "my_inbox.get_message(i)\n",
    "  # Return (from_number, time_arrived, text_of_sms) for message[i]\n",
    "  # Also change its state to \"has been viewed\".\n",
    "  # If there is no message at position i, return None\n",
    "\n",
    "my_inbox.delete(i)     # Delete the message at index i\n",
    "my_inbox.clear()       # Delete all messages from inbox\n",
    "```\n",
    "\n",
    "Write the class, create a message store object, write tests for these methods, and implement the methods."
   ]
  },
  {
   "cell_type": "markdown",
   "metadata": {},
   "source": [
    "Getting the current time. For example, "
   ]
  },
  {
   "cell_type": "code",
   "execution_count": 6,
   "metadata": {},
   "outputs": [
    {
     "name": "stdout",
     "output_type": "stream",
     "text": [
      "1521775559.8128855\n",
      "Fri Mar 23 12:25:59 2018\n"
     ]
    }
   ],
   "source": [
    "import time\n",
    "time_stamp = time.time() # get the current time in seconds since Epoch\n",
    "print(time_stamp)\n",
    "print(time.ctime(time_stamp)) # Convert time to local time string"
   ]
  }
 ],
 "metadata": {
  "kernelspec": {
   "display_name": "Python 3",
   "language": "python",
   "name": "python3"
  },
  "language_info": {
   "codemirror_mode": {
    "name": "ipython",
    "version": 3
   },
   "file_extension": ".py",
   "mimetype": "text/x-python",
   "name": "python",
   "nbconvert_exporter": "python",
   "pygments_lexer": "ipython3",
   "version": "3.7.3"
  }
 },
 "nbformat": 4,
 "nbformat_minor": 2
}
