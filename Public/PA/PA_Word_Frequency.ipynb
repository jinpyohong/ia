{
 "cells": [
  {
   "cell_type": "markdown",
   "metadata": {},
   "source": [
    "## PA. Word Frequency\n",
    "임의의 text file에 있는 word들의 빈도수를 구하려 한다. word는 대소문자 구분없고 숫자, 특수 문자들은 단어에서 배제된다.\n",
    "따라서, word들의 list를 만들기 전에 file을 읽고 난 후\n",
    "- 대문자는 소문자로 변환\n",
    "- 숫자, 특수문자는 `' '` 로 변환해야 할 것이다.\n",
    "\n",
    "#### Input: \n",
    "*Alice in Wonderland* 동화책 파일을 download 받아 사용한다.\n",
    " http://openbookproject.net/thinkcs/python/english3e/_downloads/alice_in_wonderland.txt\n",
    "\n",
    "\n",
    "#### Hint:\n",
    "주어진 text를 한 번 scan으로 효율적으로 변환해 주는 string method를 사용하면 될 것이다.\n",
    "`maketrans` method는 변환시키는 dictionany를 정의해 주고, `translate` method는 이를 가지고 변환한 새로운 string을 generate한다."
   ]
  },
  {
   "cell_type": "code",
   "execution_count": 1,
   "metadata": {
    "scrolled": true
   },
   "outputs": [
    {
     "name": "stdout",
     "output_type": "stream",
     "text": [
      " well  i never    said alice \n"
     ]
    }
   ],
   "source": [
    "the_text = '\"Well, I never!\", said Alice.'\n",
    "my_substitutions = the_text.maketrans(\n",
    "  # If you find any of these\n",
    "  \"ABCDEFGHIJKLMNOPQRSTUVWXYZ0123456789!\\\"#$%&()*+,-./:;<=>?@[]^_`{|}~'\\\\\",\n",
    "  # Replace them by these\n",
    "  \"abcdefghijklmnopqrstuvwxyz                                          \")\n",
    "\n",
    "# Translate the text now.\n",
    "cleaned_text = the_text.translate(my_substitutions)\n",
    "print(cleaned_text)"
   ]
  },
  {
   "cell_type": "markdown",
   "metadata": {},
   "source": [
    "#### Q1. How many different words are used in the *Alice in Wonderland*?"
   ]
  },
  {
   "cell_type": "code",
   "execution_count": null,
   "metadata": {},
   "outputs": [],
   "source": []
  },
  {
   "cell_type": "markdown",
   "metadata": {},
   "source": [
    "#### Q2. List top 20 frequently used words and their frequencies in the *Alice in Wonderland*."
   ]
  },
  {
   "cell_type": "code",
   "execution_count": null,
   "metadata": {},
   "outputs": [],
   "source": []
  },
  {
   "cell_type": "markdown",
   "metadata": {},
   "source": [
    "#### Q3. \n",
    "As children learn to read, there are expectations that their vocabulary will grow. So a child of age 14 is expected to know more words than a child of age 8. When prescribing reading books for a grade, an important question might be “which words in this book are not in the expected vocabulary at this level?”\n",
    "\n",
    "Find the words in the book *Alice in the Wonderland* are not in the vocabulary given in the file  http://openbookproject.net/thinkcs/python/english3e/_downloads/vocab.txt.\n",
    "\n",
    "(어린이가 수준 이상이 되는 단어들을 찾아내는 문제다. 적절한 수준의 단어들로 채워진 단어장에 없으면 적정 수준을 초과한 어려운 단어라는 의미다.)"
   ]
  },
  {
   "cell_type": "markdown",
   "metadata": {},
   "source": [
    "___________________________________"
   ]
  },
  {
   "cell_type": "markdown",
   "metadata": {},
   "source": [
    "참고사항)<br/><br/>\n",
    "\n",
    "많은 질문 주셔서, 공통 질문사항에 대해 답변 말씀드립니다.\n",
    "<br/><br/>\n",
    "\n",
    "1. <br/>\n",
    "maketrans, translate 이용하는 거 맞습니다.\n",
    "\n",
    "2. <br/>\n",
    "is 와 are가 다른 단어 인거 처럼<br/>\n",
    "   daisy와 daisies도 다른 단어로 취급하겠습니다. [단수,복수 구분해주세요] \n",
    "\n",
    "3. <br/>\n",
    "\"'s\" 는 예외가 많습니다. (it has/ it is/ 소유격)<br/>\n",
    "예외적용 하겠습니다.<br/><br/>\n",
    "\n",
    "따라서, it's 를 그냥 새로운 한 단어로 생각해서 풀어주세요.<br/>\n",
    "가령 girls' 라고 하면 이것도 새로운 한 단어라고 생각해주세요.<br/>\n",
    "Alice랑 Alice's 각각 새로운 한단어라고 생각하시면 됩니다. <br/>\n",
    "만약, there's 와 there is 가 나왔으면<br/>\n",
    "전자는 1단어 후자는 2단어 입니다.<br/>\n",
    "\n",
    "\n",
    "\n",
    "\n",
    "\n",
    "\n",
    "\n",
    "\n",
    "\n",
    "\n",
    "\n"
   ]
  }
 ],
 "metadata": {
  "kernelspec": {
   "display_name": "Python 3",
   "language": "python",
   "name": "python3"
  },
  "language_info": {
   "codemirror_mode": {
    "name": "ipython",
    "version": 3
   },
   "file_extension": ".py",
   "mimetype": "text/x-python",
   "name": "python",
   "nbconvert_exporter": "python",
   "pygments_lexer": "ipython3",
   "version": "3.6.4"
  }
 },
 "nbformat": 4,
 "nbformat_minor": 2
}
