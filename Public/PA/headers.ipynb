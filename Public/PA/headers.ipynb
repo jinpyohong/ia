{
 "cells": [
  {
   "cell_type": "markdown",
   "metadata": {},
   "source": [
    "# Parsing HTTP Header lines\n",
    "HTTP server 구현에 필요한 module인 headers.py를 먼저 작성하자. Python starter code는 이 화면 메뉴에서 다음과 같이 download할 수 있다.\n",
    "```\n",
    "File >> Download as >> Python (.py)\n",
    "```\n",
    "Function ```parse_headers```와 ```to_bytes```를 완성하라."
   ]
  },
  {
   "cell_type": "code",
   "execution_count": 28,
   "metadata": {},
   "outputs": [
    {
     "name": "stdout",
     "output_type": "stream",
     "text": [
      "{'Host': 'mclab.hufs.ac.kr', 'Connection': 'close'}\n",
      "\n",
      "b'Date: Thu, 27 Sep 2018 04:25:01 GMT\\r\\nServer: Apache/2.2.22 (Ubuntu)\\r\\nLast-modified: Tue, 19 Sep 2017 06:13:15 GMT\\r\\nEtag: \"1e982f-569-55984c1337a5f\"\\r\\nAccept-ranges: bytes\\r\\nVary: Accept-Encoding\\r\\nConnection: close\\r\\nContent-type: text/html\\r\\nContent-lenght: 1385\\r\\n'\n"
     ]
    }
   ],
   "source": [
    "def parse_headers(rfile):\n",
    "    \"\"\"Read from rfile and parse header lines\n",
    "    :param rfile: input file-like object\n",
    "    :returns:     parsed header dict \n",
    "                  (Keys in the dict are capitalized for convention)\n",
    "    \"\"\"\n",
    "    \n",
    "    headers = {}\n",
    "    ### Your code here\n",
    "    return headers\n",
    "\n",
    "def to_bytes(headers):\n",
    "    \"\"\"Convert headers dict into plain bytes separated by CRLF\n",
    "    :param headers: header dict\n",
    "    :returns:       bytes\n",
    "    \"\"\"\n",
    "    \n",
    "    ### Your code here\n",
    "    return text.encode()\n",
    "\n",
    "# Tester\n",
    "if __name__ == '__main__':\n",
    "    # read request message from an HTTP client\n",
    "    import io\n",
    "    request_msg = b'''GET /test/index.html HTTP/1.1\\r\n",
    "host: mclab.hufs.ac.kr\\r\n",
    "CONNECTION: close\\r\n",
    "\\r\n",
    "'''\n",
    "    file = io.BytesIO(request_msg)\n",
    "    status = file.readline()   # read status line\n",
    "    request_headers = parse_headers(file)\n",
    "    print(request_headers)\n",
    "    \n",
    "    # Build response headers\n",
    "    headers = {\n",
    "        'Date': 'Thu, 27 Sep 2018 04:25:01 GMT', \n",
    "        'Server': 'Apache/2.2.22 (Ubuntu)', \n",
    "        'Last-modified': 'Tue, 19 Sep 2017 06:13:15 GMT', \n",
    "        'Etag': '\"1e982f-569-55984c1337a5f\"', \n",
    "        'Accept-ranges': 'bytes', \n",
    "        'Vary': 'Accept-Encoding',\n",
    "        'Connection': 'close', \n",
    "              }\n",
    "    headers['Content-type'] = 'text/html'\n",
    "    headers['Content-lenght'] = '1385'\n",
    "    header_lines = to_bytes(headers)\n",
    "    print()\n",
    "    print(header_lines)"
   ]
  }
 ],
 "metadata": {
  "kernelspec": {
   "display_name": "Python 3",
   "language": "python",
   "name": "python3"
  },
  "language_info": {
   "codemirror_mode": {
    "name": "ipython",
    "version": 3
   },
   "file_extension": ".py",
   "mimetype": "text/x-python",
   "name": "python",
   "nbconvert_exporter": "python",
   "pygments_lexer": "ipython3",
   "version": "3.6.4"
  }
 },
 "nbformat": 4,
 "nbformat_minor": 2
}
