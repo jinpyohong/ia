{
 "cells": [
  {
   "cell_type": "markdown",
   "metadata": {},
   "source": [
    "# Access Control in Python\n",
    "Java나 C++에서 private, public, protected attribute가 있지만, Python에서는 엄밀한 의미에서 없다.\n",
    "* `__`로 시작하는 name: 이름으로 access 불가능하다. (실제, 다른 이름으로 망가뜨림)\n",
    "* `_`로 시작하는 name: access 가능하지만, public이 아리라는 의도를 나타낼 뿐\n",
    "* 기타 name: public이다. (사실, Python name은 모두 public이다.)"
   ]
  },
  {
   "cell_type": "code",
   "execution_count": 2,
   "metadata": {},
   "outputs": [
    {
     "name": "stdout",
     "output_type": "stream",
     "text": [
      "Call public()\n",
      "Call _protected()\n"
     ]
    },
    {
     "ename": "AttributeError",
     "evalue": "'cTest' object has no attribute '__private'",
     "output_type": "error",
     "traceback": [
      "\u001b[1;31m---------------------------------------------------------------------------\u001b[0m",
      "\u001b[1;31mAttributeError\u001b[0m                            Traceback (most recent call last)",
      "\u001b[1;32m<ipython-input-2-30165765ae31>\u001b[0m in \u001b[0;36m<module>\u001b[1;34m\u001b[0m\n\u001b[0;32m     12\u001b[0m     \u001b[0mtest\u001b[0m\u001b[1;33m.\u001b[0m\u001b[0mpublic\u001b[0m\u001b[1;33m(\u001b[0m\u001b[1;33m)\u001b[0m\u001b[1;33m\u001b[0m\u001b[1;33m\u001b[0m\u001b[0m\n\u001b[0;32m     13\u001b[0m     \u001b[0mtest\u001b[0m\u001b[1;33m.\u001b[0m\u001b[0m_protected\u001b[0m\u001b[1;33m(\u001b[0m\u001b[1;33m)\u001b[0m\u001b[1;33m\u001b[0m\u001b[1;33m\u001b[0m\u001b[0m\n\u001b[1;32m---> 14\u001b[1;33m     \u001b[0mtest\u001b[0m\u001b[1;33m.\u001b[0m\u001b[0m__private\u001b[0m\u001b[1;33m(\u001b[0m\u001b[1;33m)\u001b[0m\u001b[1;33m\u001b[0m\u001b[1;33m\u001b[0m\u001b[0m\n\u001b[0m",
      "\u001b[1;31mAttributeError\u001b[0m: 'cTest' object has no attribute '__private'"
     ]
    }
   ],
   "source": [
    "class Access : \n",
    "    def __init__(self) : \n",
    "        pass \n",
    "    def public(self) :\n",
    "        print(\"Call public()\") \n",
    "    def _protected(self) : \n",
    "        print(\"Call _protected()\") \n",
    "    def __private(self) : \n",
    "        print(\"Call __private()\") \n",
    "if __name__ == \"__main__\": \n",
    "    access = Access() \n",
    "    access.public() \n",
    "    access._protected() \n",
    "    access.__private()     # AttributeError\n"
   ]
  },
  {
   "cell_type": "markdown",
   "metadata": {},
   "source": [
    "## Python property\n",
    "@property decorator는 method를 data attribute 처럼 보이게 만든다. 사실은 private attibute를 access하는 getter 이다. setter도 다음처럼 정의할 수 있다."
   ]
  },
  {
   "cell_type": "code",
   "execution_count": null,
   "metadata": {},
   "outputs": [],
   "source": [
    "class Cls:\n",
    "    def __init__(self):\n",
    "        self.__name = 'Kim'    # private attr\n",
    "    \n",
    "    @property\n",
    "    def name(self):\n",
    "        return self.__name\n",
    "    \n",
    "    @name.setter(self):\n",
    "        self.__name = name\n",
    "        \n",
    "obj = Cls()\n",
    "print(obj.name)\n",
    "obj.name = 'Hong'\n",
    "print(obj.name)"
   ]
  }
 ],
 "metadata": {
  "kernelspec": {
   "display_name": "Python 3",
   "language": "python",
   "name": "python3"
  },
  "language_info": {
   "codemirror_mode": {
    "name": "ipython",
    "version": 3
   },
   "file_extension": ".py",
   "mimetype": "text/x-python",
   "name": "python",
   "nbconvert_exporter": "python",
   "pygments_lexer": "ipython3",
   "version": "3.7.3"
  }
 },
 "nbformat": 4,
 "nbformat_minor": 2
}
