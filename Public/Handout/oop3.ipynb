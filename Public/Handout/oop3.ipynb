{
 "cells": [
  {
   "cell_type": "markdown",
   "metadata": {},
   "source": [
    "# Object-Oriented Programming (III)"
   ]
  },
  {
   "cell_type": "markdown",
   "metadata": {},
   "source": [
    "## Class Interface Techniques\n",
    "#### Abstact class\n",
    "후손 class에게 상속하기 위한 조상 class. Method를 완전하게 구현하지 않고 구현은 subclass에게 위임한다. 후손이 동일한 interface를 유지하기 위한 목적."
   ]
  },
  {
   "cell_type": "code",
   "execution_count": null,
   "metadata": {},
   "outputs": [],
   "source": [
    "class Super:\n",
    "    \"\"\"An abstract class\n",
    "    to be implemented later\"\"\"\n",
    "    def method(self):\n",
    "        print('in Super.method') # Default behavior\n",
    "    def delegate(self):\n",
    "        self.action()            # Not implement at this moment\n",
    "\n",
    "s = Super()\n",
    "s.method()"
   ]
  },
  {
   "cell_type": "markdown",
   "metadata": {},
   "source": [
    "#### 상속자\n",
    "조상으로 부터 모든 attribute과 method를 상속받아 사용한다. 본인이 한 일이 없다. 조상 덕..."
   ]
  },
  {
   "cell_type": "code",
   "execution_count": null,
   "metadata": {},
   "outputs": [],
   "source": [
    "class Inheritor(Super):\n",
    "    pass\n",
    "\n",
    "i = Inheritor()\n",
    "i.method()  # call super method"
   ]
  },
  {
   "cell_type": "markdown",
   "metadata": {},
   "source": [
    "#### 대체자\n",
    "조상으로 부터 상속 받되 일부 method는 대체한다. Overriding method."
   ]
  },
  {
   "cell_type": "code",
   "execution_count": null,
   "metadata": {},
   "outputs": [],
   "source": [
    "class Replacer(Super):\n",
    "    def method(self):\n",
    "        print('in Replace.method')\n",
    "\n",
    "r = Replacer()\n",
    "r.method()"
   ]
  },
  {
   "cell_type": "markdown",
   "metadata": {},
   "source": [
    "#### 확장자\n",
    "조상으로 부터 상속받은 method를 더 확장하여 발전시킨다."
   ]
  },
  {
   "cell_type": "code",
   "execution_count": null,
   "metadata": {},
   "outputs": [],
   "source": [
    "class Extender(Super):\n",
    "    def method(self):\n",
    "        print('Starting Extender.method')\n",
    "        Super.method(self)\n",
    "        print('ending Extender.method')\n",
    "\n",
    "e = Extender()\n",
    "e.method()"
   ]
  },
  {
   "cell_type": "markdown",
   "metadata": {},
   "source": [
    "#### 제공자\n",
    "조상(abstact class)이 이루지 못한(구현을 위임한) method를 구현하여 제공한다.\n",
    "- implementing `delegate` method by providing `action` method"
   ]
  },
  {
   "cell_type": "code",
   "execution_count": null,
   "metadata": {},
   "outputs": [],
   "source": [
    "class Provider(Super):\n",
    "    def action(self):\n",
    "        print('in Provider.action')\n",
    "        \n",
    "p = Provider()\n",
    "p.delegate()"
   ]
  },
  {
   "cell_type": "markdown",
   "metadata": {},
   "source": [
    "### Polymorphism (다형성)\n",
    "다형성이란, 하나의 interface를 통해 서로 다른 여러 타입을 제공하는 것을 의미한다. 보통 OOP 에서 말하는 다형성은 클래스에 선언된 메서드가 상속 받은 클래스에서 같은 이름으로 overriding 되어 여러 형태로 동작함을 의미한다."
   ]
  },
  {
   "cell_type": "markdown",
   "metadata": {},
   "source": [
    "### Example: stream processor"
   ]
  },
  {
   "cell_type": "code",
   "execution_count": null,
   "metadata": {},
   "outputs": [],
   "source": [
    "# Abstract class\n",
    "class Processor:\n",
    "    def __init__(self, reader, writer):\n",
    "        self.reader = reader\n",
    "        self.writer = writer\n",
    "    \n",
    "    def process(self):\n",
    "        for data in self.reader:\n",
    "            data = self.converter(data)\n",
    "            self.writer.write(data)\n",
    "    def converter(self, data):       # delegates implementation\n",
    "        raise NotImplemented('converter must be defined')"
   ]
  },
  {
   "cell_type": "code",
   "execution_count": null,
   "metadata": {},
   "outputs": [],
   "source": [
    "# Replacer or provider overriding converter\n",
    "class UpperCase(Processor):\n",
    "    def converter(self, data):\n",
    "        return data.upper()\n",
    "    \n",
    "class Capital(Processor):\n",
    "    def converter(self, data):\n",
    "        return data.capitalize()\n",
    "    \n",
    "import sys, io\n",
    "buf = '\\n'.join(['a', 'abcus', 'abandon', 'abandoned', 'abandonment'])\n",
    "upper = UpperCase(io.StringIO(buf), sys.stdout)\n",
    "upper.process()\n",
    "\n",
    "capital = Capital(io.StringIO(buf), sys.stdout)\n",
    "capital.process()"
   ]
  },
  {
   "cell_type": "markdown",
   "metadata": {},
   "source": [
    "### Example: Extending Types by Embedding\n",
    "list object을 이용하여 `Set` class 만들기"
   ]
  },
  {
   "cell_type": "code",
   "execution_count": null,
   "metadata": {},
   "outputs": [],
   "source": [
    "class Set:\n",
    "    def __init__(self, value = []):    # Constructor\n",
    "        self.data = []                 # Manages a list\n",
    "        self.concat(value)\n",
    "\n",
    "    def intersect(self, other):        # other is any sequence\n",
    "        res = []                       # self is the subject\n",
    "        for x in self.data:\n",
    "            if x in other:             # Pick common items\n",
    "                res.append(x)\n",
    "        return Set(res)                # Return a new Set\n",
    "\n",
    "    def union(self, other):            # other is any sequence\n",
    "        res = self.data[:]             # Copy of my list\n",
    "        for x in other:                # Add items in other\n",
    "            if not x in res:\n",
    "                res.append(x)\n",
    "        return Set(res)\n",
    "\n",
    "    def concat(self, value):           # value: list, Set...\n",
    "        for x in value:                # Removes duplicates\n",
    "            if not x in self.data:\n",
    "                self.data.append(x)\n",
    "\n",
    "    def __len__(self):          return len(self.data)            # len(self), if self\n",
    "    def __getitem__(self, key): return self.data[key]            # self[i], self[i:j]\n",
    "    def __and__(self, other):   return self.intersect(other)     # self & other\n",
    "    def __or__(self, other):    return self.union(other)         # self | other\n",
    "    def __repr__(self):         return 'Set({})'.format(repr(self.data))  # print(self),...\n",
    "    def __iter__(self):         return iter(self.data)           # for x in self,...\n",
    "\n",
    "x = Set([1,3,5,7, 1, 3])\n",
    "y = Set([2,1,4,5,6])\n",
    "print(x, y, len(x))\n",
    "print(x.intersect(y), y.union(x))\n",
    "print(x & y, x | y)\n",
    "print(x[2], y[:2])\n",
    "for element in x:\n",
    "    print(element, end=' ')\n",
    "print()\n",
    "list(x)"
   ]
  },
  {
   "cell_type": "markdown",
   "metadata": {},
   "source": [
    "#### 주의: *Polymorphism(다형성) means interfaces, not call signatures*\n",
    "\n",
    "Do not use C++ stype.\n",
    "\n",
    "```Python\n",
    "class C:\n",
    "    def meth(self, x):\n",
    "        ...\n",
    "    def meth(self, x, y, z):\n",
    "        ...\n",
    "```\n",
    "\n",
    "Use variable arguments list, instead."
   ]
  },
  {
   "cell_type": "code",
   "execution_count": null,
   "metadata": {},
   "outputs": [],
   "source": [
    "class C:\n",
    "    def meth(self, *args):\n",
    "        if len(args) == 1:\n",
    "            ...\n",
    "        for arg in args:\n",
    "            if type(arg) == int:\n",
    "                ...         "
   ]
  }
 ],
 "metadata": {
  "kernelspec": {
   "display_name": "Python 3",
   "language": "python",
   "name": "python3"
  },
  "language_info": {
   "codemirror_mode": {
    "name": "ipython",
    "version": 3
   },
   "file_extension": ".py",
   "mimetype": "text/x-python",
   "name": "python",
   "nbconvert_exporter": "python",
   "pygments_lexer": "ipython3",
   "version": "3.7.3"
  }
 },
 "nbformat": 4,
 "nbformat_minor": 2
}
