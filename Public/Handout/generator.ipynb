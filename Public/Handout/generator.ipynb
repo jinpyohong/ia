{
 "cells": [
  {
   "cell_type": "markdown",
   "metadata": {},
   "source": [
    "# Generators"
   ]
  },
  {
   "cell_type": "markdown",
   "metadata": {},
   "source": [
    "#### A Function returns a list containing Fibonacci series"
   ]
  },
  {
   "cell_type": "code",
   "execution_count": null,
   "metadata": {},
   "outputs": [],
   "source": [
    "def fib(n):\n",
    "    \"\"\"return a Fibonacci series up to n.\"\"\"\n",
    "    l = []\n",
    "    a, b = 0, 1\n",
    "    while a < n:\n",
    "        l.append(a)\n",
    "        a, b = b, a+b\n",
    "    return l\n",
    "\n",
    "fib(2000)"
   ]
  },
  {
   "cell_type": "markdown",
   "metadata": {},
   "source": [
    "## Gererator functions\n",
    "`return` 대신 `yield` statement가 있는 function이다.\n",
    "\n",
    "- `yield` statement로 데이터를 생산하여 return되고, \n",
    "- 'next()'로 call될 때, generator가 resume된다. (그전 data value들을 모두 기억한다) \n",
    "- Resume되는 시작 점은 `yield` 의 다음 statement이다.\n",
    "\n",
    "generator function을 call하는 일은 사실, generator object를 create하는 일이다."
   ]
  },
  {
   "cell_type": "code",
   "execution_count": null,
   "metadata": {},
   "outputs": [],
   "source": [
    "def gen_fib(n):\n",
    "    \"\"\"generate a Fibonacci series up to n.\"\"\"\n",
    "    a, b = 0, 1\n",
    "    while a < n:\n",
    "        yield a\n",
    "        a, b = b, a+b\n",
    "\n",
    "gen_fib(2000)"
   ]
  },
  {
   "cell_type": "code",
   "execution_count": null,
   "metadata": {
    "scrolled": true
   },
   "outputs": [],
   "source": [
    "list(gen_fib(1000))"
   ]
  },
  {
   "cell_type": "markdown",
   "metadata": {},
   "source": [
    "#### `for` loop and Iterables (generator objects) \n",
    "`for` loop을 돌면서 비로서 object가 generation된다. 이 object는 미리 memory에 잡히든 것이 아니라 필요할 때 하나씩 탄생한다. (memory 절약)"
   ]
  },
  {
   "cell_type": "code",
   "execution_count": null,
   "metadata": {},
   "outputs": [],
   "source": [
    "for i in gen_fib(2000):\n",
    "    print(i, end=' ')\n",
    "print()"
   ]
  },
  {
   "cell_type": "markdown",
   "metadata": {},
   "source": [
    "> `for` loop은 iterable object에 대해 다음 item을 달라고 `next(it)`를 call 하는 과정이 숨어있다.\n",
    "> 다음 item이 없으면, exit the loop."
   ]
  },
  {
   "cell_type": "markdown",
   "metadata": {},
   "source": [
    "### Generator의 이해"
   ]
  },
  {
   "cell_type": "code",
   "execution_count": null,
   "metadata": {},
   "outputs": [],
   "source": [
    "it = gen_fib(3)    # create the generator object, that is, iterable.\n",
    "print(next(it)) # get next item from the iterable\n",
    "print(next(it)) # get next item from the iterable\n",
    "print(next(it)) # get next item from the iterable\n",
    "print(next(it)) # get next item from the iterable"
   ]
  },
  {
   "cell_type": "code",
   "execution_count": null,
   "metadata": {},
   "outputs": [],
   "source": [
    "print(next(it)) # cause exception"
   ]
  },
  {
   "cell_type": "markdown",
   "metadata": {},
   "source": [
    "> function의 마지막에 이르게 되면, `StopIteration` exception을 발생된다. (처리하지 않으면 프로그램은 종료된다.)\n",
    "\n",
    "발생한 exception을 catch하여 처리하면 (아무 일도 하지 않았지만) 문제가 해결될 것이다. `for` loop은 다음과 같은 `while` loop을 간단히 표현한 문이다."
   ]
  },
  {
   "cell_type": "code",
   "execution_count": null,
   "metadata": {},
   "outputs": [],
   "source": [
    "it = gen_fib(3)\n",
    "try:\n",
    "    while True:\n",
    "        i = next(it)\n",
    "        print(i)\n",
    "except StopIteration:\n",
    "    pass"
   ]
  },
  {
   "cell_type": "markdown",
   "metadata": {},
   "source": [
    "`for` statement는 iterable(generator) object에 대해 `next()`로\n",
    "next item을 받아 오는 일을 반복 수행하고, StopIteration으로 loop을 빠져 나오게 한다."
   ]
  },
  {
   "cell_type": "markdown",
   "metadata": {},
   "source": [
    "## Generator Expressions"
   ]
  },
  {
   "cell_type": "code",
   "execution_count": null,
   "metadata": {},
   "outputs": [],
   "source": [
    "(i*i for i in range(100000))"
   ]
  },
  {
   "cell_type": "code",
   "execution_count": null,
   "metadata": {},
   "outputs": [],
   "source": [
    "sum(i*i for i in range(100000))                 # sum of squares"
   ]
  },
  {
   "cell_type": "code",
   "execution_count": null,
   "metadata": {},
   "outputs": [],
   "source": [
    "xvec = [10, 20, 30]\n",
    "yvec = [7, 5, 3]\n",
    "sum(x*y for x,y in zip(xvec, yvec))         # dot product"
   ]
  },
  {
   "cell_type": "code",
   "execution_count": null,
   "metadata": {
    "scrolled": true
   },
   "outputs": [],
   "source": [
    "from math import pi, sin\n",
    "sine_table = {x: sin(x*pi/180) for x in range(0, 91)}\n",
    "sine_table"
   ]
  },
  {
   "cell_type": "code",
   "execution_count": null,
   "metadata": {},
   "outputs": [],
   "source": [
    "unique_words = set(word  for line in page  for word in line.split())"
   ]
  },
  {
   "cell_type": "code",
   "execution_count": null,
   "metadata": {},
   "outputs": [],
   "source": [
    "data = 'golf'\n",
    "list(data[i] for i in range(len(data)-1, -1, -1))"
   ]
  }
 ],
 "metadata": {
  "kernelspec": {
   "display_name": "Python 3",
   "language": "python",
   "name": "python3"
  },
  "language_info": {
   "codemirror_mode": {
    "name": "ipython",
    "version": 3
   },
   "file_extension": ".py",
   "mimetype": "text/x-python",
   "name": "python",
   "nbconvert_exporter": "python",
   "pygments_lexer": "ipython3",
   "version": "3.7.3"
  }
 },
 "nbformat": 4,
 "nbformat_minor": 2
}
