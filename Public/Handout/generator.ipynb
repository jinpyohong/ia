{
 "cells": [
  {
   "cell_type": "markdown",
   "metadata": {},
   "source": [
    "## Generators"
   ]
  },
  {
   "cell_type": "markdown",
   "metadata": {},
   "source": [
    "#### A Function returns a list containing Fibonacci series"
   ]
  },
  {
   "cell_type": "code",
   "execution_count": 5,
   "metadata": {},
   "outputs": [
    {
     "data": {
      "text/plain": [
       "[0, 1, 1, 2, 3, 5, 8, 13, 21, 34, 55, 89, 144, 233, 377, 610, 987, 1597]"
      ]
     },
     "execution_count": 5,
     "metadata": {},
     "output_type": "execute_result"
    }
   ],
   "source": [
    "def fib(n):\n",
    "    \"\"\"return a Fibonacci series up to n.\"\"\"\n",
    "    l = []\n",
    "    a, b = 0, 1\n",
    "    while a < n:\n",
    "        l.append(a)\n",
    "        a, b = b, a+b\n",
    "    return l\n",
    "\n",
    "fib(2000)"
   ]
  },
  {
   "cell_type": "markdown",
   "metadata": {},
   "source": [
    "#### Gererator function\n",
    "`return` 대신 `yield` statement가 있는 function이다.\n",
    "\n",
    "- `yield` statement로 데이터를 생산하여 return되고, \n",
    "- 'next()'로 call될 때, generator가 resume된다. (그전 data value들을 모두 기억한다) \n",
    "- Resume되는 시작 점은 `yield` 의 다음 statement이다.\n",
    "\n",
    "generator function을 call하는 일은 사실, generator object를 create하는 일이다."
   ]
  },
  {
   "cell_type": "code",
   "execution_count": 6,
   "metadata": {},
   "outputs": [
    {
     "data": {
      "text/plain": [
       "<generator object gen_fib at 0x000002107AE5A4C0>"
      ]
     },
     "execution_count": 6,
     "metadata": {},
     "output_type": "execute_result"
    }
   ],
   "source": [
    "def gen_fib(n):\n",
    "    \"\"\"generate a Fibonacci series up to n.\"\"\"\n",
    "    a, b = 0, 1\n",
    "    while a < n:\n",
    "        yield a\n",
    "        a, b = b, a+b\n",
    "\n",
    "it = gen_fib(2000)\n",
    "it"
   ]
  },
  {
   "cell_type": "markdown",
   "metadata": {},
   "source": [
    "#### `for` loop and Iterables (generator objects) "
   ]
  },
  {
   "cell_type": "code",
   "execution_count": 3,
   "metadata": {},
   "outputs": [
    {
     "name": "stdout",
     "output_type": "stream",
     "text": [
      "0 1 1 2 3 5 8 13 21 34 55 89 144 233 377 610 987 1597 \n"
     ]
    }
   ],
   "source": [
    "for i in gen_fib(2000):\n",
    "    print(i, end=' ')\n",
    "print()"
   ]
  },
  {
   "cell_type": "markdown",
   "metadata": {},
   "source": [
    "> `for` loop은 iterable object에 대해 다음 item을 달라고 `next(it)`를 call 하는 과정이 숨어있다.\n",
    "\n",
    "> 다음 item이 없으면, exit the loop."
   ]
  },
  {
   "cell_type": "code",
   "execution_count": 4,
   "metadata": {
    "scrolled": false
   },
   "outputs": [
    {
     "data": {
      "text/plain": [
       "[0, 1, 1, 2, 3, 5, 8, 13, 21, 34, 55, 89, 144, 233, 377, 610, 987]"
      ]
     },
     "execution_count": 4,
     "metadata": {},
     "output_type": "execute_result"
    }
   ],
   "source": [
    "list(gen_fib(1000))"
   ]
  },
  {
   "cell_type": "markdown",
   "metadata": {},
   "source": [
    "### Generator의 이해"
   ]
  },
  {
   "cell_type": "code",
   "execution_count": 14,
   "metadata": {},
   "outputs": [
    {
     "name": "stdout",
     "output_type": "stream",
     "text": [
      "0\n",
      "1\n",
      "1\n",
      "2\n"
     ]
    }
   ],
   "source": [
    "it = gen_fib(3)    # create the generator object, that is, iterable.\n",
    "print(next(it)) # get next item from the iterable\n",
    "print(next(it)) # get next item from the iterable\n",
    "print(next(it)) # get next item from the iterable\n",
    "print(next(it)) # get next item from the iterable"
   ]
  },
  {
   "cell_type": "code",
   "execution_count": 15,
   "metadata": {},
   "outputs": [
    {
     "ename": "StopIteration",
     "evalue": "",
     "output_type": "error",
     "traceback": [
      "\u001b[1;31m---------------------------------------------------------------------------\u001b[0m",
      "\u001b[1;31mStopIteration\u001b[0m                             Traceback (most recent call last)",
      "\u001b[1;32m<ipython-input-15-421774948b58>\u001b[0m in \u001b[0;36m<module>\u001b[1;34m()\u001b[0m\n\u001b[1;32m----> 1\u001b[1;33m \u001b[0mprint\u001b[0m\u001b[1;33m(\u001b[0m\u001b[0mnext\u001b[0m\u001b[1;33m(\u001b[0m\u001b[0mit\u001b[0m\u001b[1;33m)\u001b[0m\u001b[1;33m)\u001b[0m \u001b[1;31m# get next item from the iterable\u001b[0m\u001b[1;33m\u001b[0m\u001b[0m\n\u001b[0m",
      "\u001b[1;31mStopIteration\u001b[0m: "
     ]
    }
   ],
   "source": [
    "print(next(it)) # get next item from the iterable"
   ]
  },
  {
   "cell_type": "markdown",
   "metadata": {},
   "source": [
    "> function의 마지막에 이르게 되면, `StopIteration` exception을 발생시킨다. exception이 발생했으나 처리하지 않으면 프로그램은 종료된다.\n",
    "\n",
    "발생한 exception을 catch하면 (아무 일도 하지 않았지만) 문제가 해결될 것이다."
   ]
  },
  {
   "cell_type": "code",
   "execution_count": 20,
   "metadata": {},
   "outputs": [
    {
     "name": "stdout",
     "output_type": "stream",
     "text": [
      "0\n",
      "1\n",
      "1\n",
      "2\n",
      "3\n"
     ]
    }
   ],
   "source": [
    "it = fibo(5)\n",
    "try:\n",
    "    while True:\n",
    "        i = next(it)\n",
    "        print(i)\n",
    "except StopIteration:\n",
    "    pass"
   ]
  },
  {
   "cell_type": "markdown",
   "metadata": {},
   "source": [
    "`for` statement는 iterable(generator) object에 대해 `next()`로\n",
    "next item을 받아 오는 일을 반복 수행하고, StopIteration으로 loop을 빠져 나오게 한다."
   ]
  },
  {
   "cell_type": "markdown",
   "metadata": {},
   "source": [
    "## Generator Expressions"
   ]
  },
  {
   "cell_type": "code",
   "execution_count": 40,
   "metadata": {},
   "outputs": [
    {
     "data": {
      "text/plain": [
       "285"
      ]
     },
     "execution_count": 40,
     "metadata": {},
     "output_type": "execute_result"
    }
   ],
   "source": [
    "sum(i*i for i in range(10))                 # sum of squares"
   ]
  },
  {
   "cell_type": "code",
   "execution_count": 41,
   "metadata": {},
   "outputs": [
    {
     "data": {
      "text/plain": [
       "260"
      ]
     },
     "execution_count": 41,
     "metadata": {},
     "output_type": "execute_result"
    }
   ],
   "source": [
    "xvec = [10, 20, 30]\n",
    "yvec = [7, 5, 3]\n",
    "sum(x*y for x,y in zip(xvec, yvec))         # dot product"
   ]
  },
  {
   "cell_type": "code",
   "execution_count": 47,
   "metadata": {
    "collapsed": true,
    "scrolled": true
   },
   "outputs": [],
   "source": [
    "from math import pi, sin\n",
    "sine_table = {x: sin(x*pi/180) for x in range(0, 91)}"
   ]
  },
  {
   "cell_type": "code",
   "execution_count": null,
   "metadata": {
    "collapsed": true
   },
   "outputs": [],
   "source": [
    "unique_words = set(word  for line in page  for word in line.split())"
   ]
  },
  {
   "cell_type": "code",
   "execution_count": 43,
   "metadata": {},
   "outputs": [
    {
     "data": {
      "text/plain": [
       "['f', 'l', 'o', 'g']"
      ]
     },
     "execution_count": 43,
     "metadata": {},
     "output_type": "execute_result"
    }
   ],
   "source": [
    "data = 'golf'\n",
    "list(data[i] for i in range(len(data)-1, -1, -1))"
   ]
  },
  {
   "cell_type": "markdown",
   "metadata": {},
   "source": [
    "## Exercise implement range() generator function\n",
    "\n",
    "Q1. list를 return하는 `lrange()` function을 작성하고 시험하라."
   ]
  },
  {
   "cell_type": "code",
   "execution_count": 17,
   "metadata": {},
   "outputs": [
    {
     "name": "stdout",
     "output_type": "stream",
     "text": [
      "Test at line 12 ok.\n",
      "Test at line 13 ok.\n"
     ]
    }
   ],
   "source": [
    "def lrange1(start, stop, step):\n",
    "    if step == 0:\n",
    "        raise ValueError('step must be non-zero')\n",
    "    l = []\n",
    "    while (step > 0 and start < stop) or (step < 0 and start > stop):\n",
    "        l.append(start)\n",
    "        start += step  \n",
    "    return l\n",
    "\n",
    "from unit_test import test\n",
    "\n",
    "test(lrange1(-1, 7, 2) == [-1, 1, 3, 5])\n",
    "test(lrange1(10, 1, -2) == [10, 8, 6, 4, 2])"
   ]
  },
  {
   "cell_type": "markdown",
   "metadata": {},
   "source": [
    "Q2.\n",
    "- 3번째 argument가 생략되면 `lrange1(start, stop, 1)`\n",
    "- 2번째 3번째 argument가 생략되면 `lrange1(0, start, 1)`\n",
    "\n",
    "를 call하는 함수 lrange(start, stop, step)을 작성하라."
   ]
  },
  {
   "cell_type": "code",
   "execution_count": 23,
   "metadata": {},
   "outputs": [
    {
     "name": "stdout",
     "output_type": "stream",
     "text": [
      "0 1 2 3 \n",
      "Test at line 15 ok.\n",
      "Test at line 16 ok.\n",
      "Test at line 17 ok.\n"
     ]
    }
   ],
   "source": [
    "def lrange(start, stop=None, step=1):\n",
    "    if step == 0:\n",
    "        raise ValueError('step must be non-zero')\n",
    "    if stop is None:\n",
    "        start, stop = 0, start\n",
    "    l = []\n",
    "    while (step > 0 and start < stop) or (step < 0 and start > stop):\n",
    "        l.append(start)\n",
    "        start += step  \n",
    "    return l\n",
    "\n",
    "for i in lrange(4):\n",
    "    print(i, end=' ')\n",
    "print()\n",
    "test(sum(i for i in lrange(1, 11)) == 55)\n",
    "test(lrange(-1, 7, 2) == list(range(-1, 7, 2)))\n",
    "test(lrange(10, 1, -2) == list(range(10, 1, -2)))"
   ]
  },
  {
   "cell_type": "markdown",
   "metadata": {},
   "source": [
    "Q3. 위 두 함수를 합쳐 `range()`와 같이 동작하는 `xrange()` generator 함수를 작성하라."
   ]
  },
  {
   "cell_type": "code",
   "execution_count": null,
   "metadata": {},
   "outputs": [],
   "source": [
    "def xrange(start, stop=None, step=1):\n",
    "    if step == 0:\n",
    "        raise ValueError('step must be non-zero')\n",
    "    if stop is None:\n",
    "        start, stop = 0, start\n",
    "    while (step > 0 and start < stop) or (step < 0 and start > stop):\n",
    "        yield start\n",
    "        start += step  \n",
    "\n",
    "for i in xrange(4):\n",
    "    print(i, end=' ')\n",
    "print()\n",
    "test(sum(i for i in xrange(1, 11)) == 55)\n",
    "test(list(xrange(-1, 7, 2)) == list(range(-1, 7, 2)))\n",
    "test(list(xrange(10, 1, -2)) == list(range(10, 1, -2)))"
   ]
  }
 ],
 "metadata": {
  "kernelspec": {
   "display_name": "Python 3",
   "language": "python",
   "name": "python3"
  },
  "language_info": {
   "codemirror_mode": {
    "name": "ipython",
    "version": 3
   },
   "file_extension": ".py",
   "mimetype": "text/x-python",
   "name": "python",
   "nbconvert_exporter": "python",
   "pygments_lexer": "ipython3",
   "version": "3.6.4"
  }
 },
 "nbformat": 4,
 "nbformat_minor": 2
}
