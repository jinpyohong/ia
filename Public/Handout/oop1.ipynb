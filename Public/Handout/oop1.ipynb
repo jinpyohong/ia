{
 "cells": [
  {
   "cell_type": "markdown",
   "metadata": {},
   "source": [
    "## Name Spaces and Scopes\n",
    "\n",
    "Assignment statement의 의미: `X = 11`\n",
    "- X가 name space에 존재하지 않으면 X라는 name을 create하고 `11`이라는 object를 reference\n",
    "- 존재하면, X라는 name이 새로운 object `11`을 reference\n",
    "\n",
    "Name space: 이름이 정의되는 공간. dir()로 현재 name space에 있는 name들, 즉 symbol table을 볼 수 있다.\n",
    "\n",
    "A **scope** refers to a region of a program from where a namespace can be accessed without a prefix."
   ]
  },
  {
   "cell_type": "code",
   "execution_count": 1,
   "metadata": {},
   "outputs": [
    {
     "name": "stdout",
     "output_type": "stream",
     "text": [
      "<function f at 0x7fa2b56288c8> 11\n",
      "g name space ['X']\n",
      "<function g at 0x7fa2b5628a60> 22\n",
      "after g1 55\n",
      "<function h1.<locals>.nested at 0x7fa2bda949d8> 33\n",
      "<function h2 at 0x7fa2b5628ae8> 44\n",
      "final 55\n",
      "__main__ name space\n",
      "['In', 'Out', 'X', '_', '__', '___', '__builtin__', '__builtins__', '__doc__', '__loader__', '__name__', '__package__', '__spec__', '_dh', '_i', '_i1', '_ih', '_ii', '_iii', '_oh', 'exit', 'f', 'g', 'g1', 'get_ipython', 'h1', 'h2', 'quit']\n"
     ]
    }
   ],
   "source": [
    "X = 11\n",
    "\n",
    "def f():\n",
    "    print(f, X)   # access global X\n",
    "\n",
    "def g():\n",
    "    X = 22\n",
    "    print('g name space', dir())\n",
    "    print(g, X)   # access local X\n",
    "    \n",
    "def g1():\n",
    "    global X\n",
    "    X = 55        # assign to global X\n",
    "\n",
    "def h1():\n",
    "    X = 33\n",
    "    def nested():\n",
    "        print(nested, X)   # access local X(33)\n",
    "    nested()\n",
    "\n",
    "def h2():\n",
    "    X = 33\n",
    "    def nested():\n",
    "        nonlocal X\n",
    "        X = 44      # change local in enclosing scope\n",
    "    nested()\n",
    "    print(h2, X)\n",
    "\n",
    "f()\n",
    "g()\n",
    "g1(); print('after g1', X)\n",
    "h1()\n",
    "h2()\n",
    "print('final', X)\n",
    "\n",
    "print(__name__, 'name space')\n",
    "print(dir())"
   ]
  },
  {
   "cell_type": "code",
   "execution_count": 2,
   "metadata": {},
   "outputs": [
    {
     "name": "stdout",
     "output_type": "stream",
     "text": [
      "33\n",
      "55\n"
     ]
    }
   ],
   "source": [
    "class C:\n",
    "    X = 33           # class attribute (C.X)\n",
    "    def m(self):\n",
    "        X = 44       # local variable in method (X)\n",
    "        self.X = 55  # instance attribute (instance.X)\n",
    "        \n",
    "print(C.X)\n",
    "c = C()\n",
    "c.m()\n",
    "print(c.X)"
   ]
  },
  {
   "cell_type": "markdown",
   "metadata": {},
   "source": [
    "## Classes and Objects"
   ]
  },
  {
   "cell_type": "markdown",
   "metadata": {},
   "source": [
    "### Function as data operations"
   ]
  },
  {
   "cell_type": "markdown",
   "metadata": {},
   "source": [
    "주어진 data에 대해 적용되는 operation을 정의할 수 있다. \n",
    "\n",
    "예를 들어 2 차원 좌표를 갖는 point에 대해 ..."
   ]
  },
  {
   "cell_type": "code",
   "execution_count": 3,
   "metadata": {
    "scrolled": true
   },
   "outputs": [
    {
     "name": "stdout",
     "output_type": "stream",
     "text": [
      "x=4, y=5\n",
      "6.4031242374328485\n",
      "x=3.2, y=-5\n",
      "5.936328831862332\n"
     ]
    }
   ],
   "source": [
    "## Just one point at a time\n",
    "Point_x = None\n",
    "Point_y = None\n",
    "\n",
    "def set_pos(x, y):\n",
    "    global Point_x, Point_y\n",
    "    Point_x = x\n",
    "    Point_y = y\n",
    "\n",
    "def display():\n",
    "    global Point_x, Point_y\n",
    "    print(\"x={0}, y={1}\".format(Point_x, Point_y))\n",
    "    \n",
    "def distance_from_origin():\n",
    "    global Point_x, Point_y\n",
    "    return (Point_x **2 + Point_y ** 2) ** 0.5\n",
    "    \n",
    "set_pos(4, 5)\n",
    "display()\n",
    "print(distance_from_origin())\n",
    "\n",
    "set_pos(3.2, -5)\n",
    "display()\n",
    "print(distance_from_origin())"
   ]
  },
  {
   "cell_type": "markdown",
   "metadata": {},
   "source": [
    "위 operation은 하나의 data에만 적용된다.\n",
    "\n",
    "여러 개의 point들에 대해 같은 operation을 적용하려면, 항상 point data를 parameter로 pass해 야 한다."
   ]
  },
  {
   "cell_type": "code",
   "execution_count": 4,
   "metadata": {},
   "outputs": [
    {
     "name": "stdout",
     "output_type": "stream",
     "text": [
      "x=4, y=5\n",
      "6.4031242374328485\n",
      "x=3.2, y=-5\n",
      "10.031948963187562\n"
     ]
    }
   ],
   "source": [
    "def Point():\n",
    "    \"\"\"Create a point represented by a list of length 2\"\"\"\n",
    "    return [None, None]    \n",
    "\n",
    "def set_pos(p, x, y):\n",
    "    p[0] = x\n",
    "    p[1] = y\n",
    "\n",
    "def display(p):\n",
    "    print(\"x={0}, y={1}\".format(p[0], p[1]))\n",
    "    \n",
    "def distance(p, q):\n",
    "    return ((p[0] - q[0])**2 + (p[1] - q[1])**2) ** 0.5\n",
    "    \n",
    "p1 = Point()\n",
    "set_pos(p1, 4, 5)\n",
    "display(p1)\n",
    "print(distance(p1, [0, 0]))\n",
    "\n",
    "p2 = Point()\n",
    "set_pos(p2, 3.2, -5)\n",
    "display(p2)\n",
    "print(distance(p1, p2))"
   ]
  },
  {
   "cell_type": "markdown",
   "metadata": {},
   "source": [
    "### Classes encapsulate data and its operation. \n",
    "Class는 내부에 data(**attribute**이라 한다)와 이들 data에 대한 operation인 **method**를 정의 할 수 있도록 encapsulation한다. \n",
    "따라서, Class 내에 있는 data나 function을 class (또는 object) name으로 qualifying해서 access가 가능하다. 예: `Point.x`, `Point.display`\n",
    "> Python은 data를 완전히 숨기지 않는다. \n",
    "> 다시 말해, C나 Java와 달리 class 내의 이름을 *private*로 완전히 가리는 수단은 없다는 뜻이다.\n",
    "> 만일, class 밖으로 노출하고 싶지 않은 경우, '_' 또는 '__' 로 시작하는 이름을 지어라."
   ]
  },
  {
   "cell_type": "code",
   "execution_count": 5,
   "metadata": {},
   "outputs": [
    {
     "name": "stdout",
     "output_type": "stream",
     "text": [
      "x=4, y=5\n",
      "6.4031242374328485\n",
      "x=3.2, y=-5\n",
      "5.936328831862332\n"
     ]
    }
   ],
   "source": [
    "class Point:\n",
    "    x = None\n",
    "    y = None\n",
    "\n",
    "    def set_pos(x, y):\n",
    "        Point.x = x\n",
    "        Point.y = y\n",
    "\n",
    "    def display():\n",
    "        print(\"x={0}, y={1}\".format(Point.x, Point.y))\n",
    "\n",
    "    def distance_from_origin():\n",
    "        return (Point.x **2 + Point.y ** 2) ** 0.5\n",
    "\n",
    "Point.x = 4\n",
    "Point.y = 5\n",
    "Point.display()\n",
    "print(Point.distance_from_origin())\n",
    "\n",
    "Point.set_pos(3.2, -5)\n",
    "Point.display()\n",
    "print(Point.distance_from_origin())"
   ]
  },
  {
   "cell_type": "markdown",
   "metadata": {},
   "source": [
    "### Classes and Instances\n",
    "**Class objects** provide default behavior and serve as factories for instance objects\n",
    "\n",
    "**Instance objects** are the real objects your programs process—each is a namespace in its own right, but inherits \n",
    "\n",
    "> `Point.set_pos(p, 4, 5)` is equivalent to `p.set_pos(4, 5)`\n",
    "\n",
    "> Preferred notation is *obj.attr* or *obj.method()*."
   ]
  },
  {
   "cell_type": "code",
   "execution_count": 6,
   "metadata": {},
   "outputs": [
    {
     "name": "stdout",
     "output_type": "stream",
     "text": [
      "Distance between (4, 5) and (3.2, -5) is\n",
      "10.031948963187562\n"
     ]
    }
   ],
   "source": [
    "class Point:\n",
    "    def set_pos(self, x, y):\n",
    "        self.x = x\n",
    "        self.y = y\n",
    "    \n",
    "    def to_string(self):\n",
    "        \"\"\"Convert instance to a string\"\"\"\n",
    "        return \"({0}, {1})\".format(self.x, self.y)\n",
    "\n",
    "    def distance(self, q):\n",
    "        return ((self.x - q.x)**2 + (self.y - q.y)**2) ** 0.5\n",
    "\n",
    "p1 = Point()    # a Point class instance\n",
    "Point.set_pos(p1, 4, 5)\n",
    "\n",
    "p2 = Point()    # a Point class instance\n",
    "p2.set_pos(3.2, -5)\n",
    "\n",
    "print(\"Distance between {0} and {1} is\".format(p1.to_string(), p2.to_string()))\n",
    "print(p1.distance(p2))"
   ]
  },
  {
   "cell_type": "markdown",
   "metadata": {},
   "source": [
    "### User-defined compound data types\n",
    "Define a new class"
   ]
  },
  {
   "cell_type": "markdown",
   "metadata": {},
   "source": [
    "#### Rewriting with constructor(initializer)\n",
    "`p = Point(x, y)`\n",
    "- shall create a Point class instance \n",
    "- then automatically calls `Point.__init__(p, x, y)`\n",
    "- returns reference of the instance `p`\n",
    "\n",
    "#### Converting an instance to a string\n",
    "add `__str__()` pre-defined special method"
   ]
  },
  {
   "cell_type": "code",
   "execution_count": 7,
   "metadata": {
    "scrolled": true
   },
   "outputs": [
    {
     "name": "stdout",
     "output_type": "stream",
     "text": [
      "(4, 5)\n",
      "Distance between (4, 5) and (3.2, -5) is\n",
      "10.031948963187562\n"
     ]
    }
   ],
   "source": [
    "class Point:    \n",
    "    \"\"\"2D Point class\"\"\"\n",
    "    \n",
    "    def __init__(self, x=0, y=0):\n",
    "        self.x = x\n",
    "        self.y = y\n",
    "    \n",
    "    def __str__(self):\n",
    "        return \"({0}, {1})\".format(self.x, self.y)\n",
    "\n",
    "#     def __repr__(self):\n",
    "#         return \"Point({0}, {1})\".format(self.x, self.y)\n",
    "\n",
    "    def distance(self, other):\n",
    "        return ((self.x - other.x)**2 + (self.y - other.y)**2) ** 0.5\n",
    "\n",
    "p1 = Point(4, 5)    # a Point class instance\n",
    "p2 = Point(3.2, -5)    # a Point class instance\n",
    "\n",
    "print(p1)\n",
    "print(\"Distance between {0} and {1} is\".format(p1, p2))\n",
    "print(p1.distance(p2))"
   ]
  },
  {
   "cell_type": "code",
   "execution_count": 8,
   "metadata": {},
   "outputs": [
    {
     "data": {
      "text/plain": [
       "'(4, 5)'"
      ]
     },
     "execution_count": 8,
     "metadata": {},
     "output_type": "execute_result"
    }
   ],
   "source": [
    "str(p1)"
   ]
  },
  {
   "cell_type": "code",
   "execution_count": 9,
   "metadata": {},
   "outputs": [
    {
     "data": {
      "text/plain": [
       "<__main__.Point at 0x7fa2b4de2f28>"
      ]
     },
     "execution_count": 9,
     "metadata": {},
     "output_type": "execute_result"
    }
   ],
   "source": [
    "p1"
   ]
  },
  {
   "cell_type": "markdown",
   "metadata": {},
   "source": [
    "**str()**: string of objects\n",
    "> `print(obj)` / `format(obj)` ==> `str(obj)` ==> `obj.__str__()`\n",
    "\n",
    "**repr()**: \"official\" string representation of an object that could be used to recreate the object\n",
    "> `>>> obj` / `repr(obj)` ==> `obj.__repr__()`\n",
    "\n",
    "> If `__str__()` method is not defined, `str(obj)` ==> `__repr__()`"
   ]
  },
  {
   "cell_type": "markdown",
   "metadata": {},
   "source": [
    "### Instance as return values\n",
    "Function implementation"
   ]
  },
  {
   "cell_type": "code",
   "execution_count": 10,
   "metadata": {},
   "outputs": [],
   "source": [
    "def midpoint(p1, p2):\n",
    "    \"\"\" Return the midpoint of points p1 and p2 \"\"\"\n",
    "    mx = (p1.x + p2.x)/2\n",
    "    my = (p1.y + p2.y)/2\n",
    "    return Point(mx, my)"
   ]
  },
  {
   "cell_type": "code",
   "execution_count": 11,
   "metadata": {},
   "outputs": [
    {
     "name": "stdout",
     "output_type": "stream",
     "text": [
      "(4.0, 8.0)\n"
     ]
    }
   ],
   "source": [
    "p = Point(3, 4)\n",
    "q = Point(5, 12)\n",
    "r = midpoint(p, q)\n",
    "print(r)"
   ]
  },
  {
   "cell_type": "markdown",
   "metadata": {},
   "source": [
    "Method implementation"
   ]
  },
  {
   "cell_type": "code",
   "execution_count": 12,
   "metadata": {},
   "outputs": [],
   "source": [
    "class Point:    \n",
    "    \"\"\"2D Point class\"\"\"\n",
    "    \n",
    "    def __init__(self, x=0, y=0):\n",
    "        self.x = x\n",
    "        self.y = y\n",
    "    \n",
    "    def __str__(self):\n",
    "        return \"({0}, {1})\".format(self.x, self.y)\n",
    "\n",
    "    def __repr__(self):\n",
    "        return \"Point({0}, {1})\".format(self.x, self.y)\n",
    "\n",
    "    def distance(self, other):\n",
    "        return ((self.x - other.x)**2 + (self.y - other.y)**2) ** 0.5\n",
    "    \n",
    "    def midpoint(self, other):\n",
    "        \"\"\" Return the midpoint of points p1 and p2 \"\"\"\n",
    "        mx = (self.x + other.x)/2\n",
    "        my = (self.y + other.y)/2\n",
    "        return Point(mx, my)"
   ]
  },
  {
   "cell_type": "code",
   "execution_count": 13,
   "metadata": {},
   "outputs": [
    {
     "data": {
      "text/plain": [
       "Point(4.0, 8.0)"
      ]
     },
     "execution_count": 13,
     "metadata": {},
     "output_type": "execute_result"
    }
   ],
   "source": [
    "mid_p = Point(3,4).midpoint(Point(5, 12))\n",
    "mid_p"
   ]
  },
  {
   "cell_type": "markdown",
   "metadata": {},
   "source": [
    "### Rectangles"
   ]
  },
  {
   "cell_type": "code",
   "execution_count": 14,
   "metadata": {},
   "outputs": [
    {
     "name": "stdout",
     "output_type": "stream",
     "text": [
      "box:  ((0, 0), 100, 200)\n"
     ]
    },
    {
     "data": {
      "text/plain": [
       "Rectangle(Point(100, 80), 5, 10)"
      ]
     },
     "execution_count": 14,
     "metadata": {},
     "output_type": "execute_result"
    }
   ],
   "source": [
    "class Rectangle:\n",
    "    \"\"\" A class to manufacture rectangle objects \"\"\"\n",
    "\n",
    "    def __init__(self, posn, w, h):\n",
    "        \"\"\" Initialize rectangle at Point posn, with width w, height h \"\"\"\n",
    "        self.corner = posn\n",
    "        self.width = w\n",
    "        self.height = h\n",
    "\n",
    "    def __str__(self):\n",
    "        return  \"({0}, {1}, {2})\".format(\n",
    "            self.corner, self.width, self.height)\n",
    "    \n",
    "    def __repr__(self):\n",
    "        return  \"Rectangle({0}, {1}, {2})\".format(\n",
    "            repr(self.corner), self.width, self.height)\n",
    "    \n",
    "    def grow(self, delta_width, delta_height):\n",
    "        \"\"\" Grow (or shrink) this object by the deltas \"\"\"\n",
    "        self.width += delta_width\n",
    "        self.height += delta_height\n",
    "\n",
    "    def move(self, dx, dy):\n",
    "        \"\"\" Move this object by the deltas \"\"\"\n",
    "        self.corner.x += dx\n",
    "        self.corner.y += dy\n",
    "\n",
    "box = Rectangle(Point(0, 0), 100, 200)\n",
    "bomb = Rectangle(Point(100, 80), 5, 10)    # In my video game\n",
    "print(\"box: \", box)\n",
    "bomb"
   ]
  },
  {
   "attachments": {
    "image.png": {
     "image/png": "[encoded data removed]"
    }
   },
   "cell_type": "markdown",
   "metadata": {},
   "source": [
    "![image.png](attachment:image.png)"
   ]
  },
  {
   "cell_type": "code",
   "execution_count": 15,
   "metadata": {},
   "outputs": [
    {
     "name": "stdout",
     "output_type": "stream",
     "text": [
      "((10, 5), 100, 50)\n",
      "((10, 5), 125, 40)\n",
      "((0, 15), 125, 40)\n"
     ]
    }
   ],
   "source": [
    "r = Rectangle(Point(10,5), 100, 50)\n",
    "print(r)\n",
    "r.grow(25, -10)\n",
    "print(r)\n",
    "r.move(-10, 10)\n",
    "print(r)"
   ]
  },
  {
   "cell_type": "markdown",
   "metadata": {},
   "source": [
    "### Sameness"
   ]
  },
  {
   "cell_type": "code",
   "execution_count": 16,
   "metadata": {},
   "outputs": [
    {
     "data": {
      "text/plain": [
       "False"
      ]
     },
     "execution_count": 16,
     "metadata": {},
     "output_type": "execute_result"
    }
   ],
   "source": [
    "p1 = Point(3, 4)\n",
    "p2 = Point(3, 4)\n",
    "p1 == p2"
   ]
  },
  {
   "cell_type": "markdown",
   "metadata": {},
   "source": [
    "좌표가 같으면 `p1 == p2`가 `True`가 되도록 method를 추가 해 보자."
   ]
  },
  {
   "cell_type": "markdown",
   "metadata": {},
   "source": [
    "### Copying objects"
   ]
  },
  {
   "cell_type": "code",
   "execution_count": 17,
   "metadata": {},
   "outputs": [],
   "source": [
    "import copy\n",
    "b1 = Rectangle(Point(0, 0), 100, 200)\n",
    "b2 = copy.copy(b1)"
   ]
  },
  {
   "attachments": {
    "image.png": {
     "image/png": "[encoded data removed]"
    }
   },
   "cell_type": "markdown",
   "metadata": {},
   "source": [
    "> This is called **shallow copy**\n",
    "![image.png](attachment:image.png)"
   ]
  },
  {
   "cell_type": "markdown",
   "metadata": {},
   "source": [
    "To get a deep copy\n",
    "> b1 and b3 are completely separate objects."
   ]
  },
  {
   "cell_type": "code",
   "execution_count": 18,
   "metadata": {},
   "outputs": [],
   "source": [
    "b3 = copy.copy(b1)"
   ]
  },
  {
   "cell_type": "markdown",
   "metadata": {},
   "source": [
    "### Special Class Attributes"
   ]
  },
  {
   "cell_type": "code",
   "execution_count": 19,
   "metadata": {},
   "outputs": [
    {
     "data": {
      "text/plain": [
       "__main__.Rectangle"
      ]
     },
     "execution_count": 19,
     "metadata": {},
     "output_type": "execute_result"
    }
   ],
   "source": [
    "b1.__class__"
   ]
  },
  {
   "cell_type": "code",
   "execution_count": 20,
   "metadata": {},
   "outputs": [
    {
     "data": {
      "text/plain": [
       "'Rectangle'"
      ]
     },
     "execution_count": 20,
     "metadata": {},
     "output_type": "execute_result"
    }
   ],
   "source": [
    "b1.__class__.__name__"
   ]
  },
  {
   "cell_type": "code",
   "execution_count": 21,
   "metadata": {},
   "outputs": [
    {
     "data": {
      "text/plain": [
       "{'corner': Point(0, 0), 'height': 200, 'width': 100}"
      ]
     },
     "execution_count": 21,
     "metadata": {},
     "output_type": "execute_result"
    }
   ],
   "source": [
    "b1.__dict__    # Attributes are really dict"
   ]
  }
 ],
 "metadata": {
  "kernelspec": {
   "display_name": "Python 3",
   "language": "python",
   "name": "python3"
  },
  "language_info": {
   "codemirror_mode": {
    "name": "ipython",
    "version": 3
   },
   "file_extension": ".py",
   "mimetype": "text/x-python",
   "name": "python",
   "nbconvert_exporter": "python",
   "pygments_lexer": "ipython3",
   "version": "3.6.4"
  }
 },
 "nbformat": 4,
 "nbformat_minor": 2
}
