{
 "cells": [
  {
   "cell_type": "markdown",
   "metadata": {},
   "source": [
    "# Python name and refercence\n",
    "Python object(또는 data)들은 memory에 생성되고 저장된다. 각 object는 id로 유일하게 지정되어 access할 수 있으며, 또한 type을 가지고 있다. \n",
    "\n",
    "Name은 object id를 가지고 있기 때문에 object를 access할 수 있다. 다시 말해, name으로 object를 reference한다."
   ]
  },
  {
   "cell_type": "code",
   "execution_count": 10,
   "metadata": {},
   "outputs": [
    {
     "name": "stdout",
     "output_type": "stream",
     "text": [
      "['In', 'Out', '_', '_2', '_3', '_5', '_7', '_9', '__', '___', '__builtin__', '__builtins__', '__doc__', '__loader__', '__name__', '__package__', '__spec__', '_dh', '_i', '_i1', '_i10', '_i2', '_i3', '_i4', '_i5', '_i6', '_i7', '_i8', '_i9', '_ih', '_ii', '_iii', '_oh', 'celegans_copy', 'celegans_markers', 'exit', 'get_ipython', 'quit', 's', 'ss', 'useful_markers']\n"
     ]
    }
   ],
   "source": [
    "print(dir())"
   ]
  },
  {
   "cell_type": "code",
   "execution_count": 1,
   "metadata": {},
   "outputs": [
    {
     "name": "stdout",
     "output_type": "stream",
     "text": [
      "1937409597808 <class 'str'>\n",
      "True\n"
     ]
    }
   ],
   "source": [
    "s = 'Hello, world!'   # s <-- id('Hello, world!')\n",
    "print(id(s), type(s)) \n",
    "ss = s        # ss <-- id(s), ss가 s와 같은 object를 refer\n",
    "print(s is ss) # refer to same object? 즉, id(s) == id(ss) ?"
   ]
  },
  {
   "cell_type": "markdown",
   "metadata": {},
   "source": [
    "> `s` ==> `'Hello, world!'`  <== `ss`"
   ]
  },
  {
   "cell_type": "markdown",
   "metadata": {},
   "source": [
    "### Composite objects"
   ]
  },
  {
   "cell_type": "code",
   "execution_count": 2,
   "metadata": {},
   "outputs": [
    {
     "data": {
      "text/plain": [
       "True"
      ]
     },
     "execution_count": 2,
     "metadata": {},
     "output_type": "execute_result"
    }
   ],
   "source": [
    "celegans_markers = ['Emb', 'Him', 'Unc', 'Lon', 'Dpy', 'Sma']\n",
    "celegans_copy = celegans_markers\n",
    "celegans_markers is celegans_copy  # refer to the same object?"
   ]
  },
  {
   "cell_type": "markdown",
   "metadata": {},
   "source": [
    "![name](./static/name.png)"
   ]
  },
  {
   "cell_type": "markdown",
   "metadata": {},
   "source": [
    "### Slicing a list creates new sublist, but share the elements"
   ]
  },
  {
   "cell_type": "code",
   "execution_count": 3,
   "metadata": {},
   "outputs": [
    {
     "data": {
      "text/plain": [
       "['Emb', 'Him', 'Unc', 'Lon']"
      ]
     },
     "execution_count": 3,
     "metadata": {},
     "output_type": "execute_result"
    }
   ],
   "source": [
    "useful_markers = celegans_markers[:4]\n",
    "useful_markers"
   ]
  },
  {
   "cell_type": "markdown",
   "metadata": {},
   "source": [
    "![name1](./static/name1.png)"
   ]
  },
  {
   "cell_type": "code",
   "execution_count": 4,
   "metadata": {
    "scrolled": true
   },
   "outputs": [
    {
     "name": "stdout",
     "output_type": "stream",
     "text": [
      "['Emb', 'Him', 'Lvl', 'Lon']\n",
      "['Emb', 'Him', 'Unc', 'Lon', 'Dpy', 'Sma']\n"
     ]
    }
   ],
   "source": [
    "useful_markers[2] = 'Lvl'\n",
    "print(useful_markers)\n",
    "print(celegans_markers)"
   ]
  }
 ],
 "metadata": {
  "kernelspec": {
   "display_name": "Python 3",
   "language": "python",
   "name": "python3"
  },
  "language_info": {
   "codemirror_mode": {
    "name": "ipython",
    "version": 3
   },
   "file_extension": ".py",
   "mimetype": "text/x-python",
   "name": "python",
   "nbconvert_exporter": "python",
   "pygments_lexer": "ipython3",
   "version": "3.7.3"
  }
 },
 "nbformat": 4,
 "nbformat_minor": 2
}
