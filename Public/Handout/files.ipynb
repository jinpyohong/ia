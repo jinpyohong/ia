{
 "cells": [
  {
   "cell_type": "markdown",
   "metadata": {},
   "source": [
    "# Files and Interchage Formats\n",
    "---\n",
    "## Files"
   ]
  },
  {
   "cell_type": "markdown",
   "metadata": {},
   "source": [
    "file_object = `open(`file_name`, mode='r')`\n",
    "\n",
    "|Mode\t| Meaning           |\n",
    "|:---------:|:------------------|\n",
    "|`'r'`\t| open for reading (default)|\n",
    "|`'w'`\t| open for writing, truncating the file first |\n",
    "|`'x'`\t| open for exclusive creation, failing if the file already exists |\n",
    "|`'a'`\t| open for writing, appending to the end of the file if it exists |\n",
    "|`'b'`\t| binary mode |\n",
    "|`'t'`\t| text mode (default)|\n",
    "|`'+'`\t| open a disk file for updating (reading and writing) |\n",
    "\n",
    "`sys.stdin, sys.stdout, sys.error` file object는 이미 open되어 있다.\n",
    "\n",
    "### Writing into files"
   ]
  },
  {
   "cell_type": "code",
   "execution_count": null,
   "metadata": {},
   "outputs": [],
   "source": [
    "filename = \"test.txt\"\n",
    "myfile = open(filename, \"w\")\n",
    "myfile.write(\"My first file written from Python\\n\")\n",
    "myfile.write(\"---------------------------------\\n\")\n",
    "myfile.write(\"지구야, 안녕!\\n\")\n",
    "myfile.close()"
   ]
  },
  {
   "cell_type": "markdown",
   "metadata": {},
   "source": [
    "### Reading from text files\n",
    "Read all at a time"
   ]
  },
  {
   "cell_type": "code",
   "execution_count": null,
   "metadata": {},
   "outputs": [],
   "source": [
    "file = open(filename)\n",
    "content = file.read()\n",
    "file.close()\n",
    "content"
   ]
  },
  {
   "cell_type": "markdown",
   "metadata": {},
   "source": [
    "Read a file into a list of lines"
   ]
  },
  {
   "cell_type": "code",
   "execution_count": null,
   "metadata": {},
   "outputs": [],
   "source": [
    "file = open(filename)\n",
    "content = file.readlines()\n",
    "file.close()\n",
    "content"
   ]
  },
  {
   "cell_type": "markdown",
   "metadata": {},
   "source": [
    "Read a line at a time"
   ]
  },
  {
   "cell_type": "code",
   "execution_count": null,
   "metadata": {},
   "outputs": [],
   "source": [
    "file = open(filename)\n",
    "while True:\n",
    "    line = file.readline()\n",
    "    if line == '':     # empty str if eof reached\n",
    "        break\n",
    "    print(line, end='')\n",
    "file.close()"
   ]
  },
  {
   "cell_type": "markdown",
   "metadata": {},
   "source": [
    "Using `for` loop"
   ]
  },
  {
   "cell_type": "code",
   "execution_count": null,
   "metadata": {},
   "outputs": [],
   "source": [
    "file = open(filename)\n",
    "for line in file.readlines():\n",
    "    print(line, end='')\n",
    "file.close()"
   ]
  },
  {
   "cell_type": "markdown",
   "metadata": {},
   "source": [
    "### File object is **iterable**!!\n",
    "`for` loop에서 한 라인씩 가져온다. 매 iteration 마다 `file.readline()`이 실행된다.\n",
    "> 라인 마다 disk file을 access해야기 때문에 성능이 저하될 거라 우려할 필요없다. Buffering되어 있기 때문에 `readline()` method는 거의 memory만 access할 것이다."
   ]
  },
  {
   "cell_type": "code",
   "execution_count": null,
   "metadata": {},
   "outputs": [],
   "source": [
    "file = open(filename)\n",
    "for line in file:\n",
    "    print(line, end='')\n",
    "file.close()"
   ]
  },
  {
   "cell_type": "markdown",
   "metadata": {},
   "source": [
    "> 위 code는 correct한가? </br>\n",
    "> file이 존재하지 않거나 read할 수 없으면 error!!\n",
    "### 가급적 with statement를 사용하자!!\n",
    "`with` statement는 context manager다. 들어갈 때와 나올 때 필요한 조치를 `with` 절에 주어진 context에 따라 적절한 action을 자동으로 실행한다.\n",
    "\n",
    "File object에 대해서는 open할 때 error가 발생하면 exception handling 해주고, 나갈 때는 closing과 기타 cleaning action을 취한다."
   ]
  },
  {
   "cell_type": "code",
   "execution_count": null,
   "metadata": {},
   "outputs": [],
   "source": [
    "with open(filename) as file:\n",
    "    for line in file:\n",
    "        print(line, end='')"
   ]
  },
  {
   "cell_type": "code",
   "execution_count": null,
   "metadata": {},
   "outputs": [],
   "source": [
    "file.closed     # check if closed"
   ]
  },
  {
   "cell_type": "markdown",
   "metadata": {},
   "source": [
    "### Working with binary files\n",
    "- Binary mode로 open\n",
    "- read하면 `str`이 아니라 `bytes` type object으로 return된다.\n",
    "- write할 때, `str`이 아니라 `bytes` type object을 줘야 한다.\n",
    "\n",
    "예: copy file\n",
    "```Python\n",
    "f = open(\"somefile.zip\", \"rb\")\n",
    "g = open(\"thecopy.zip\", \"wb\")\n",
    "\n",
    "while True:\n",
    "    buf = f.read(1024)   # read up to 1024 bytes\n",
    "    if len(buf) == 0:\n",
    "         break\n",
    "    g.write(buf)\n",
    "\n",
    "f.close()\n",
    "g.close()\n",
    "```"
   ]
  },
  {
   "cell_type": "markdown",
   "metadata": {},
   "source": [
    "## Python string은 unicode표현된다.\n",
    "전 세계 문자를 unique하게 표현하고 프로그램에서 사용한다. (코드가 검색, 비교 가능하다)\n",
    "- encode: 파일에 저장하거나 Internet에서 통신할 때, `bytes` type으로 바꿔야 한다.\n",
    "  - Unix: utf-8 encoding\n",
    "  - Windows: ms949\n",
    "- decode: 파일에서 읽거나 Internet에서 도착한 문자는 unicode로 바꾼후 processing해야 한다."
   ]
  },
  {
   "cell_type": "code",
   "execution_count": null,
   "metadata": {},
   "outputs": [],
   "source": [
    "hs = 'Hello. 안녕하세요.'\n",
    "for code in ('utf-8', 'ms949'):\n",
    "    encode = hs.encode(code)\n",
    "    print(f'{code}:', encode)\n",
    "    print('unicode:', encode.decode(code))"
   ]
  },
  {
   "cell_type": "markdown",
   "metadata": {},
   "source": [
    "## Text file 이해하기\n",
    "Printable character들로 이루어지며 line ending(termination) 문자가 있다.\n",
    "\n",
    "Line ending이 OS에 따라 다르다:\n",
    "- Unix, Mac OS X: `\\n`\n",
    "- Windows: `\\r\\n`\n",
    "- Mac OS X 이전 Mac: `\\r`\n",
    "\n",
    "Disk file encoding: byte 단위로 표현되도록 바꿔줘야 한다.\n",
    "- Unix: utf-8 encoding\n",
    "- Windows: ms949"
   ]
  },
  {
   "cell_type": "code",
   "execution_count": null,
   "metadata": {},
   "outputs": [],
   "source": [
    "with open(filename, \"rb\") as f:\n",
    "    content = f.read()\n",
    "print(content)\n",
    "content.decode('ms949')  # on Windows\n",
    "# content.decode('utf-8') # on UNIX"
   ]
  },
  {
   "cell_type": "markdown",
   "metadata": {},
   "source": [
    "## Saving structured data with JSON format\n",
    "JSON(JavaScript Object Notation)은 nested list나 dictionary 등 복잡한 data type을 serialize하는 널리 쓰이는 data interchange format이다. (language/platform independent)\n",
    "\n",
    "> 복잡한 data structure를 저장하거나 network을 통해 송신하려면, serialize해야 한다. 널리 이용되는 JSON format으로 바꿔 저장하거나 통신해라.\n",
    "\n",
    "#### Convert Python data into json string"
   ]
  },
  {
   "cell_type": "code",
   "execution_count": null,
   "metadata": {},
   "outputs": [],
   "source": [
    "import json\n",
    "data = {'pears': 217, 'apples': 430, 'oranges': 525, 'bananas': 312}\n",
    "s = json.dumps(data)\n",
    "s"
   ]
  },
  {
   "cell_type": "markdown",
   "metadata": {},
   "source": [
    "#### Saving into JSON format text file"
   ]
  },
  {
   "cell_type": "code",
   "execution_count": null,
   "metadata": {},
   "outputs": [],
   "source": [
    "with open('serialized.txt', 'w') as f:\n",
    "    json.dump(data, f)"
   ]
  },
  {
   "cell_type": "markdown",
   "metadata": {},
   "source": [
    "#### Loading the JSON file"
   ]
  },
  {
   "cell_type": "code",
   "execution_count": null,
   "metadata": {},
   "outputs": [],
   "source": [
    "with open('serialized.txt') as f:\n",
    "    inventory = json.load(f)\n",
    "inventory"
   ]
  },
  {
   "cell_type": "markdown",
   "metadata": {},
   "source": [
    "## `pickle` to store native Python objects\n",
    "\n",
    "- Support persistent objects: 대부분의 Python object들을 저장할 수 있다. Class object도 저장 가능하다. \n",
    "- 하지만, 다른 언어로 작성된 application과 호환성이 없다. "
   ]
  },
  {
   "cell_type": "code",
   "execution_count": null,
   "metadata": {},
   "outputs": [],
   "source": [
    "import pickle\n",
    "\n",
    "# An arbitrary collection of objects supported by pickle.\n",
    "data = {\n",
    "    'a': [1, 2.0, 3, 4+6j],\n",
    "    'b': (\"character string\", b\"byte string\"),\n",
    "    'c': {None, True, False}\n",
    "}\n",
    "\n",
    "with open('data.pickle', 'wb') as f:\n",
    "    # Pickle the 'data' dictionary using the highest protocol available.\n",
    "    pickle.dump(data, f, pickle.HIGHEST_PROTOCOL)"
   ]
  },
  {
   "cell_type": "code",
   "execution_count": null,
   "metadata": {},
   "outputs": [],
   "source": [
    "with open('data.pickle', 'rb') as f:\n",
    "    # The protocol version used is detected automatically, so we do not\n",
    "    # have to specify it.\n",
    "    data = pickle.load(f)\n",
    "data"
   ]
  }
 ],
 "metadata": {
  "kernelspec": {
   "display_name": "Python 3",
   "language": "python",
   "name": "python3"
  },
  "language_info": {
   "codemirror_mode": {
    "name": "ipython",
    "version": 3
   },
   "file_extension": ".py",
   "mimetype": "text/x-python",
   "name": "python",
   "nbconvert_exporter": "python",
   "pygments_lexer": "ipython3",
   "version": "3.7.3"
  }
 },
 "nbformat": 4,
 "nbformat_minor": 2
}
