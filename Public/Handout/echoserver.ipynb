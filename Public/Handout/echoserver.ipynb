{
 "cells": [
  {
   "cell_type": "markdown",
   "metadata": {},
   "source": [
    "# Sample server code - echo server"
   ]
  },
  {
   "cell_type": "code",
   "execution_count": null,
   "metadata": {},
   "outputs": [],
   "source": [
    "from socket import socket, AF_INET, SOCK_STREAM\n",
    "\n",
    "def echo_server(my_port):   \n",
    "    \"\"\"Echo Server - iterative\"\"\"\n",
    "\n",
    "    sock = socket(AF_INET, SOCK_STREAM) # socket for listening clients' connection\n",
    "    sock.bind(('', my_port))        # bind it to my any IP and port number\n",
    "                                    # '' represents all available interfaces on host\n",
    "    sock.listen(5)                  # listen, allow 5 pending connects\n",
    "    print('Server started')\n",
    "    while True:                     # do forever (until process killed)\n",
    "        # accept client's connection request\n",
    "        conn, cli_addr = sock.accept()  # wait for next client connect\n",
    "                                    # conn: new socket, addr: client addr\n",
    "        print(conn)\n",
    "        print('Connection from', cli_addr)\n",
    "        \n",
    "        while True:\n",
    "            # handle request\n",
    "            data = conn.recv(1024)  # recv next message on connected socket\n",
    "            if not data:\n",
    "                break               # no more data. TCP FIN arrival\n",
    "            print(data.decode(), end='')\n",
    "            conn.send(data)         # send a reply to the client\n",
    "        print('Client closed', cli_addr)\n",
    "        conn.close()               # close the connected socket\n",
    "        \n",
    "if __name__ == '__main__':\n",
    "    echo_server(10007)"
   ]
  }
 ],
 "metadata": {
  "kernelspec": {
   "display_name": "Python 3",
   "language": "python",
   "name": "python3"
  },
  "language_info": {
   "codemirror_mode": {
    "name": "ipython",
    "version": 3
   },
   "file_extension": ".py",
   "mimetype": "text/x-python",
   "name": "python",
   "nbconvert_exporter": "python",
   "pygments_lexer": "ipython3",
   "version": "3.6.3"
  }
 },
 "nbformat": 4,
 "nbformat_minor": 2
}
