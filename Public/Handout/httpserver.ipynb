{
 "cells": [
  {
   "cell_type": "markdown",
   "metadata": {},
   "source": [
    "# Tips for writing HTTP server\n",
    "## Web server에 있는 파일 위치와 읽기\n",
    "Web server는 contents가 저장된 root directory를 지정할 수 있다. 편의상 source program과 같은 directory로 하자. Request line에서 `/test/index.html` 이라는 path가 있다면, web server는 `./test/index.html` 파일을 찾아 읽으면 된다. \n",
    "\n",
    "Response message의 첫 줄, status line은 \n",
    "  - if the file exists, `HTTP/1.1 200 OK`\n",
    "  - otherwise, `HTTP/1.1 404 Not found`\n",
    "\n",
    "파일은 binary mode로 읽어야 한다(읽은 결과는 `bytes` type이다.\n",
    "\n",
    "## Response message의 header들  정의  \n",
    "`Date`, `Server`, `Connection` header는 반드시 만들어야 한다. Request message의 `Connection` header에 따라 Response의 `Connection` header를 `keep-alive`(default) 또는 `close`로 설정해야 한다.\n",
    "\n",
    "File이 존재할 경우 `Accept-range`, `Content-type`, `Content-length` header를 삽입해야 한다."
   ]
  },
  {
   "cell_type": "code",
   "execution_count": 6,
   "metadata": {},
   "outputs": [
    {
     "data": {
      "text/plain": [
       "{'Date': 'Mon Oct 14 20:37:34 2019',\n",
       " 'Server': 'MyServer/1.0',\n",
       " 'Accept-range': 'bytes',\n",
       " 'Content-type': 'image/gif'}"
      ]
     },
     "execution_count": 6,
     "metadata": {},
     "output_type": "execute_result"
    }
   ],
   "source": [
    "import mimetypes\n",
    "import time\n",
    "\n",
    "res_headers = {}\n",
    "res_headers['Date'] = time.asctime()\n",
    "res_headers['Server'] = 'MyServer/1.0'\n",
    "res_headers['Accept-range'] = 'bytes'\n",
    "res_headers['Content-type'] = mimetypes.guess_type('/test/s3test2.gif')[0]\n",
    "res_headers"
   ]
  },
  {
   "cell_type": "markdown",
   "metadata": {},
   "source": [
    "## `socketserver` module 활용해서 server 구축하기\n",
    "\n",
    "`socketserver.TCPServer` class를 이용하면, socket programming detail을 몰라도 구현할 수 있다. 이때 여러분은 `StreamRequestHandler` class를 상속받아 `handle` method만 implement하면 충분하다.\n",
    "\n",
    "`TCPServer` class에서 `accept`한 connected socket을 `makefile`로 만들어 아래 `HTTPHandler` class로 pass해 준다. File-like stream object은 다음과 같이 access할 수 있다.\n",
    "  - incoming stream: `self.rfile`\n",
    "  - outgoing stream: `self.wfile`\n",
    "    - 예) `self.wfile.write(message)\n",
    "\n",
    "AS-1에서 작성한 headers.py 파일을 import해서 header를 처리하라."
   ]
  },
  {
   "cell_type": "code",
   "execution_count": null,
   "metadata": {},
   "outputs": [],
   "source": [
    "import socketserver\n",
    "import time         # to know current time\n",
    "import mimetypes    # to map filenames to MIME types\n",
    "import headers      # your module 'headers.py'\n",
    "\n",
    "class HTTPHandler(socketserver.StreamRequestHandler):\n",
    "    def handle(self):\n",
    "        # read a request message\n",
    "        pass\n",
    "        # read content from file name: '.' + path\n",
    "        pass\n",
    "        # Build the response message\n",
    "        pass\n",
    "        self.wfile.flush()  # Flush-out output buffer for immediate sending\n",
    "    \n",
    "# create a TCPServer object with your handler class\n",
    "http_server = socketserver.TCPServer(('', 8080), HTTPHandler)\n",
    "http_server.serve_forever()"
   ]
  },
  {
   "cell_type": "markdown",
   "metadata": {},
   "source": [
    "## Testing your HTTP server\n",
    "먼저 HTTP server를 실행한 후에, client로서 browser나 `urllib.request.urlopen` 함수를 사용할 수 있다.\n",
    "### Browser에서\n",
    "Chrome browser에서 '개발자 도구'를 띄우고 다음과 같이 url을 입력하자.\n",
    "```http://localhost:8080/test/index.html\n",
    "```\n",
    "\n",
    " Browser는 base html file을 `GET`한 후, 이를 parsing하고, 연속해서 image object들을 fetch하기 위해 `GET` request message를 자동적으로  생성하여 송신한다. 여러분은 server에서 읽은 request message를 print해서 확인할 수 있을 것이다. 이때, `Connection` header는 keep-alive (Persistent connection mode)임을 확인 할 수 있다.\n",
    " \n",
    "### urllib module 활용\n",
    "```Python\n",
    "from urllib.request import urlopen\n",
    "\n",
    "f = urlopen(url)\n",
    "content = f.read()\n",
    "```\n",
    "\n",
    "위 방법은 request header는 `Connection: close`로 설정하여 non-persistent mode로 연결 요청하는 방식이다. 이후 각각의 image들에 대해 같은 방법으로 fetch해 오는 code를 작성해야 한다."
   ]
  }
 ],
 "metadata": {
  "kernelspec": {
   "display_name": "Python 3",
   "language": "python",
   "name": "python3"
  },
  "language_info": {
   "codemirror_mode": {
    "name": "ipython",
    "version": 3
   },
   "file_extension": ".py",
   "mimetype": "text/x-python",
   "name": "python",
   "nbconvert_exporter": "python",
   "pygments_lexer": "ipython3",
   "version": "3.6.3"
  }
 },
 "nbformat": 4,
 "nbformat_minor": 2
}
