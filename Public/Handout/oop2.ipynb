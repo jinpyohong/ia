{
 "cells": [
  {
   "cell_type": "markdown",
   "metadata": {},
   "source": [
    "# Object-Oriented Programming"
   ]
  },
  {
   "cell_type": "markdown",
   "metadata": {},
   "source": [
    "Let's start with class defintion `MyTime`. \n",
    "\n",
    "And define a method `add_time` as a pure function returning new `MyTime` object."
   ]
  },
  {
   "cell_type": "code",
   "execution_count": null,
   "metadata": {},
   "outputs": [],
   "source": [
    "class MyTime:\n",
    "\n",
    "    def __init__(self, hrs=0, mins=0, secs=0):\n",
    "        \"\"\" Create a MyTime object initialized to hrs, mins, secs \"\"\"\n",
    "        self.hours = hrs\n",
    "        self.minutes = mins\n",
    "        self.seconds = secs\n",
    "    \n",
    "    def add_time(self, other):\n",
    "        h = self.hours + other.hours\n",
    "        m = self.minutes + other.minutes\n",
    "        s = self.seconds + other.seconds\n",
    "        if s >= 60:\n",
    "            s -= 60\n",
    "            m += 1\n",
    "        if m >= 60:\n",
    "            m -= 60\n",
    "            h += 1\n",
    "        sum_t = MyTime(h, m, s)\n",
    "        return sum_t   \n",
    "    \n",
    "    def __repr__(self):\n",
    "        return 'MyTime({}, {}, {})'.format(self.hours, self.minutes, self.seconds)\n",
    "    \n",
    "    def __str__(self):\n",
    "        return '{:02}:{:02}:{:02}'.format(self.hours, self.minutes, self.seconds)"
   ]
  },
  {
   "cell_type": "code",
   "execution_count": null,
   "metadata": {},
   "outputs": [],
   "source": [
    "t1 = MyTime(11, 59, 30)\n",
    "t2 = MyTime(8, 28, 50)\n",
    "t1.add_time(t2)"
   ]
  },
  {
   "cell_type": "code",
   "execution_count": null,
   "metadata": {},
   "outputs": [],
   "source": [
    "print(t1)\n",
    "print(MyTime(8, 69, 78))"
   ]
  },
  {
   "cell_type": "markdown",
   "metadata": {},
   "source": [
    "> 분, 초는 60을 넘지 않게 normalize해야 !  \n",
    "\n",
    "*아래 3개 문제는 위의 class definition cell을 수정하고 순서대로 다시 실행시키세요.*\n",
    "\n",
    "----\n",
    "\n",
    "Q. Solve this problem. \n",
    "\n",
    "Hint: Rewrite the initializer `__init__` so that it can cope with initial values of seconds or minutes that are outside the normalized values.\n",
    "- 초로 바꾸고 나서 시, 분, 초로 다시 계산\n",
    "- Rewrite `add_time` method."
   ]
  },
  {
   "cell_type": "markdown",
   "metadata": {},
   "source": [
    "Q. Add a method `increment` by `seconds` like as: (this method will modify itself!)"
   ]
  },
  {
   "cell_type": "code",
   "execution_count": null,
   "metadata": {},
   "outputs": [],
   "source": [
    "t1.increment(500)\n",
    "t1"
   ]
  },
  {
   "cell_type": "markdown",
   "metadata": {},
   "source": [
    "Q. Add a method `after(self, other)` that returns `True` if I am strictly greater than `other` time."
   ]
  },
  {
   "cell_type": "code",
   "execution_count": null,
   "metadata": {},
   "outputs": [],
   "source": [
    "t1.after(MyTime(11, 59, 30))"
   ]
  },
  {
   "cell_type": "markdown",
   "metadata": {},
   "source": [
    "## Operator Overloading"
   ]
  },
  {
   "cell_type": "markdown",
   "metadata": {},
   "source": [
    "`add_time` method 이름을 Python predefined method인 `__add__`로 변경하자. \n",
    "그러면, 지금부터 `MyTime` object간에 `+` operator를 사용할 수 있다. `after` method 명을 `__gt__`으로 바꿔 보자."
   ]
  },
  {
   "cell_type": "code",
   "execution_count": null,
   "metadata": {},
   "outputs": [],
   "source": [
    "class MyTime:\n",
    "\n",
    "    def __init__(self, hrs:int=0, mins:int=0, secs:int=0): \n",
    "        \"\"\" Create a MyTime object initialized to hrs, mins, secs \"\"\"\n",
    "        totalsecs = hrs*3600 + mins*60 + secs\n",
    "        self.hours = totalsecs // 3600\n",
    "        leftoversecs = totalsecs % 3600\n",
    "        self.minutes = leftoversecs // 60\n",
    "        self.seconds = leftoversecs % 60 \n",
    " \n",
    "    def __add__(self, other):\n",
    "        return MyTime(self.hours + other.hours, self.minutes + other.minutes, \n",
    "                     self.seconds + other.seconds)\n",
    "    \n",
    "    def to_seconds(self):\n",
    "        return self.hours*3600 + self.minutes*60 + self.seconds\n",
    "\n",
    "    def __gt__(self, other):\n",
    "        return self.to_seconds() > other.to_seconds()\n",
    "       \n",
    "    def __repr__(self):\n",
    "        return 'MyTime({}, {}, {})'.format(self.hours, self.minutes, self.seconds)\n",
    "    \n",
    "    def __str__(self):\n",
    "        return '{:02}:{:02}:{:02}'.format(self.hours, self.minutes, self.seconds)"
   ]
  },
  {
   "cell_type": "code",
   "execution_count": null,
   "metadata": {},
   "outputs": [],
   "source": [
    "t1 = MyTime(10, 59, 30)\n",
    "t2 = MyTime(8, 28, 50)\n",
    "t3 = t1 + t2\n",
    "t3"
   ]
  },
  {
   "cell_type": "code",
   "execution_count": null,
   "metadata": {},
   "outputs": [],
   "source": [
    "print(t1)\n",
    "t1 += t2\n",
    "print(t1)"
   ]
  },
  {
   "cell_type": "code",
   "execution_count": null,
   "metadata": {},
   "outputs": [],
   "source": [
    "t1 > t2"
   ]
  },
  {
   "cell_type": "markdown",
   "metadata": {},
   "source": [
    "Q. Relational operators `> >= < <= == !=`들은 다음의 special method로 구현된다.\n",
    "```Python\n",
    "__gt__ __ge__ __lt__ __le__ __eq__ __ne__\n",
    "```\n",
    "이들 method를 추가하고 test해 보자. *위 cell에 추가해서 시험해 보자.*"
   ]
  },
  {
   "cell_type": "code",
   "execution_count": null,
   "metadata": {},
   "outputs": [],
   "source": []
  }
 ],
 "metadata": {
  "kernelspec": {
   "display_name": "Python 3",
   "language": "python",
   "name": "python3"
  },
  "language_info": {
   "codemirror_mode": {
    "name": "ipython",
    "version": 3
   },
   "file_extension": ".py",
   "mimetype": "text/x-python",
   "name": "python",
   "nbconvert_exporter": "python",
   "pygments_lexer": "ipython3",
   "version": "3.6.4"
  }
 },
 "nbformat": 4,
 "nbformat_minor": 2
}
