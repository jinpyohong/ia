{
 "cells": [
  {
   "cell_type": "markdown",
   "metadata": {},
   "source": [
    "# Coding Exam 1\n",
    "4/2/2018"
   ]
  },
  {
   "cell_type": "markdown",
   "metadata": {},
   "source": [
    "#### 시험전 확인 및 준비\n",
    "1. Download this notebook file( .ipynb)\n",
    "1. Execute the following cell to ensure:\n",
    "\n",
    "> copy `unit_test.py` file to the same directory or this notebook file.\n",
    "\n",
    "> Fetch the vocabulary file 'vocab.txt' to your current directory by executing ...*"
   ]
  },
  {
   "cell_type": "code",
   "execution_count": 1,
   "metadata": {},
   "outputs": [
    {
     "data": {
      "text/plain": [
       "('vocab.txt', <http.client.HTTPMessage at 0x7fb7a02bdd30>)"
      ]
     },
     "execution_count": 1,
     "metadata": {},
     "output_type": "execute_result"
    }
   ],
   "source": [
    "from unit_test import test\n",
    "\n",
    "from urllib.request import urlretrieve\n",
    "url_vocab = 'http://openbookproject.net/thinkcs/python/english3e/_downloads/vocab.txt'\n",
    "urlretrieve(url_vocab, 'vocab.txt')"
   ]
  },
  {
   "cell_type": "markdown",
   "metadata": {},
   "source": [
    "#### 답안 제출\n",
    "제출하기 전에 여러분이 답한 것 모두를 새롭게 실행해서 결과를 다시 산출해야 한다. 그렇게 하려면, Jupyer notebook의 menu에서\n",
    "\n",
    "1. **Kernel >> Restart & All** 으로 Kernel을 다시 start시키고 순서대로 모든 cell을 실행시켜 output을 얻는다.\n",
    "2. **Save & Checkpoint** icon click하여 저장\n",
    "3. 저장된 **.ipynb** 파일을 e-class에 upload한다."
   ]
  },
  {
   "cell_type": "markdown",
   "metadata": {},
   "source": [
    "----\n",
    "## 시험문제"
   ]
  },
  {
   "cell_type": "markdown",
   "metadata": {},
   "source": [
    "Q1.\tWrite a function `add_string` to add 'ing' at the end of a given string (length should be at least 3). If the given string is already ends with 'ing' then add 'ly' instead. If the string length of the given string is less than 3, leave it unchanged."
   ]
  },
  {
   "cell_type": "code",
   "execution_count": 2,
   "metadata": {},
   "outputs": [
    {
     "name": "stdout",
     "output_type": "stream",
     "text": [
      "Test at line 21 FAILED.\n"
     ]
    },
    {
     "ename": "TypeError",
     "evalue": "object of type 'bool' has no len()",
     "output_type": "error",
     "traceback": [
      "\u001b[0;31m---------------------------------------------------------------------------\u001b[0m",
      "\u001b[0;31mTypeError\u001b[0m                                 Traceback (most recent call last)",
      "\u001b[0;32m<ipython-input-2-bbd354bc23f0>\u001b[0m in \u001b[0;36m<module>\u001b[0;34m()\u001b[0m\n\u001b[1;32m     20\u001b[0m \u001b[0;34m\u001b[0m\u001b[0m\n\u001b[1;32m     21\u001b[0m \u001b[0mtest\u001b[0m\u001b[0;34m(\u001b[0m\u001b[0madd_string\u001b[0m\u001b[0;34m(\u001b[0m\u001b[0;34m'abc'\u001b[0m\u001b[0;34m)\u001b[0m \u001b[0;34m==\u001b[0m \u001b[0;34m'abcing'\u001b[0m\u001b[0;34m)\u001b[0m\u001b[0;34m\u001b[0m\u001b[0m\n\u001b[0;32m---> 22\u001b[0;31m \u001b[0mtest\u001b[0m\u001b[0;34m(\u001b[0m\u001b[0madd_string\u001b[0m\u001b[0;34m(\u001b[0m\u001b[0;34m'string'\u001b[0m \u001b[0;34m==\u001b[0m \u001b[0;34m'stringly'\u001b[0m\u001b[0;34m)\u001b[0m\u001b[0;34m)\u001b[0m\u001b[0;34m\u001b[0m\u001b[0m\n\u001b[0m",
      "\u001b[0;32m<ipython-input-2-bbd354bc23f0>\u001b[0m in \u001b[0;36madd_string\u001b[0;34m(st)\u001b[0m\n\u001b[1;32m     12\u001b[0m \u001b[0;32mdef\u001b[0m \u001b[0madd_string\u001b[0m\u001b[0;34m(\u001b[0m\u001b[0mst\u001b[0m\u001b[0;34m)\u001b[0m\u001b[0;34m:\u001b[0m\u001b[0;34m\u001b[0m\u001b[0m\n\u001b[1;32m     13\u001b[0m     \u001b[0ma\u001b[0m \u001b[0;34m=\u001b[0m \u001b[0;34m'ing'\u001b[0m\u001b[0;34m\u001b[0m\u001b[0m\n\u001b[0;32m---> 14\u001b[0;31m     \u001b[0;32mif\u001b[0m \u001b[0;36m3\u001b[0m \u001b[0;34m==\u001b[0m \u001b[0;34m(\u001b[0m\u001b[0mlen\u001b[0m\u001b[0;34m(\u001b[0m\u001b[0mst\u001b[0m\u001b[0;34m)\u001b[0m\u001b[0;34m)\u001b[0m\u001b[0;34m:\u001b[0m\u001b[0;34m\u001b[0m\u001b[0m\n\u001b[0m\u001b[1;32m     15\u001b[0m         \u001b[0;32mreturn\u001b[0m \u001b[0mst\u001b[0m\u001b[0;34m\u001b[0m\u001b[0m\n\u001b[1;32m     16\u001b[0m     \u001b[0;32mif\u001b[0m \u001b[0meq\u001b[0m\u001b[0;34m(\u001b[0m\u001b[0mst\u001b[0m\u001b[0;34m[\u001b[0m\u001b[0;34m-\u001b[0m\u001b[0;36m3\u001b[0m\u001b[0;34m:\u001b[0m\u001b[0;34m-\u001b[0m\u001b[0;36m1\u001b[0m\u001b[0;34m]\u001b[0m\u001b[0;34m,\u001b[0m \u001b[0ma\u001b[0m\u001b[0;34m)\u001b[0m\u001b[0;34m:\u001b[0m\u001b[0;34m\u001b[0m\u001b[0m\n",
      "\u001b[0;31mTypeError\u001b[0m: object of type 'bool' has no len()"
     ]
    }
   ],
   "source": [
    "import sys\n",
    "def test(did_pass):\n",
    "    \"\"\"  Print the result of a test.  \"\"\"\n",
    "    linenum = sys._getframe(1).f_lineno   # Get the caller's line number.\n",
    "    if did_pass:\n",
    "        msg = \"Test at line {0} ok.\".format(linenum)\n",
    "    else:\n",
    "        msg = (\"Test at line {0} FAILED.\".format(linenum))\n",
    "    print(msg)\n",
    "\n",
    "from operator import eq\n",
    "def add_string(st):\n",
    "    a = 'ing'\n",
    "    if 3 == (len(st)):\n",
    "        return st\n",
    "    if eq(st[-3:-1], a):\n",
    "        st += 'ly'\n",
    "    else :\n",
    "        st += 'ing'\n",
    "\n",
    "test(add_string('abc') == 'abcing')\n",
    "test(add_string('string') == 'stringly')"
   ]
  },
  {
   "cell_type": "markdown",
   "metadata": {},
   "source": [
    "Q2. Write a program to print the following pattern, using a `for` loop.\n",
    "```Python\n",
    "* \n",
    "* * \n",
    "* * * \n",
    "* * * * \n",
    "* * * * * \n",
    "* * * * \n",
    "* * * \n",
    "* * \n",
    "*\n",
    "```"
   ]
  },
  {
   "cell_type": "code",
   "execution_count": 13,
   "metadata": {},
   "outputs": [
    {
     "name": "stdout",
     "output_type": "stream",
     "text": [
      "* \n",
      "* * \n",
      "* * * \n",
      "* * * * \n",
      "* * * * * \n",
      "* * * * \n",
      "* * * \n",
      "* * \n",
      "* \n",
      "\n"
     ]
    }
   ],
   "source": [
    "\n",
    "def star_pattern(n):\n",
    "    for a in range(1,n+1):\n",
    "        print(\"* \"*a)\n",
    "    for b in range(1,n+1):\n",
    "        print(\"* \"*(n-b))\n",
    "star_pattern(5)"
   ]
  },
  {
   "cell_type": "markdown",
   "metadata": {},
   "source": [
    "Q3. Write a function `square_of_even` to make a list whose elements are square of even numbers from the positive integers less than n, by using `for` loop."
   ]
  },
  {
   "cell_type": "code",
   "execution_count": 15,
   "metadata": {},
   "outputs": [
    {
     "name": "stdout",
     "output_type": "stream",
     "text": [
      "Test at line 7 ok.\n",
      "Test at line 8 ok.\n",
      "Test at line 9 ok.\n"
     ]
    }
   ],
   "source": [
    "def square_of_even(n):\n",
    "    l = []\n",
    "    for i in range(1,n):\n",
    "        if i %2 == 0:\n",
    "            l.append(i*i)\n",
    "    return l\n",
    "test(square_of_even(10) == [4, 16, 36, 64])\n",
    "test(square_of_even(9) == [4, 16, 36, 64])\n",
    "test(square_of_even(2) == [])"
   ]
  },
  {
   "cell_type": "markdown",
   "metadata": {},
   "source": [
    "Q4. Rewrite a function `square_of_even` to make a list whose elements are square of even numbers from the positive integers less than n, by using list comprehension."
   ]
  },
  {
   "cell_type": "code",
   "execution_count": 16,
   "metadata": {},
   "outputs": [
    {
     "name": "stdout",
     "output_type": "stream",
     "text": [
      "Test at line 3 ok.\n",
      "Test at line 4 ok.\n",
      "Test at line 5 ok.\n"
     ]
    }
   ],
   "source": [
    "def square_of_even(n):\n",
    "    return [x*x for x in range(1,n) if x % 2 == 0]\n",
    "test(square_of_even(10) == [4, 16, 36, 64])\n",
    "test(square_of_even(9) == [4, 16, 36, 64])\n",
    "test(square_of_even(2) == [])"
   ]
  },
  {
   "cell_type": "markdown",
   "metadata": {},
   "source": [
    "Q5. Write a generator function `gen_square_even` to generate square of enven numbers from the positive integers less than n.\n",
    "\n",
    "Hint:\n",
    "- use `yield` statement"
   ]
  },
  {
   "cell_type": "code",
   "execution_count": 17,
   "metadata": {},
   "outputs": [
    {
     "name": "stdout",
     "output_type": "stream",
     "text": [
      "4\n",
      "16\n",
      "36\n",
      "64\n",
      "Test at line 9 ok.\n",
      "Test at line 10 ok.\n"
     ]
    }
   ],
   "source": [
    "def gen_square_even(n):\n",
    "    for i in range(1,n):\n",
    "        if i%2==0:\n",
    "            yield i *i\n",
    "\n",
    "\n",
    "for n in gen_square_even(9):\n",
    "    print(n)\n",
    "test(list(gen_square_even(10)) == [4, 16, 36, 64])\n",
    "test(sum(gen_square_even(10)) == sum(square_of_even(10)))"
   ]
  },
  {
   "cell_type": "markdown",
   "metadata": {},
   "source": [
    "Q6. Write a function `is_leap_year` whether tell a leap year or not.\n",
    "\n",
    "> A leap year is\n",
    "\n",
    "> every year exactly divisible by 4, except for years that are exactly divisible by 100, but these centurial years are leap years if they are exactly divisible by 400. \n",
    "\n",
    ">For example, the years 1700, 1800, and 1900 were not leap years, but the years 1600 and 2000 were"
   ]
  },
  {
   "cell_type": "code",
   "execution_count": 24,
   "metadata": {},
   "outputs": [
    {
     "name": "stdout",
     "output_type": "stream",
     "text": [
      "Test at line 11 ok.\n",
      "Test at line 12 ok.\n",
      "Test at line 13 ok.\n",
      "Test at line 14 ok.\n",
      "Test at line 15 FAILED.\n"
     ]
    }
   ],
   "source": [
    "def is_leap_year(n):\n",
    "    if n % 4 == 0:\n",
    "        if n% 100 == 0:\n",
    "            if n % 400 == 0:\n",
    "                return True\n",
    "            else:\n",
    "                return False\n",
    "            return False\n",
    "        return True\n",
    "    return False\n",
    "test(is_leap_year(2003) == False)\n",
    "test(is_leap_year(2004) == True)\n",
    "test(is_leap_year(1900) == False)\n",
    "test(is_leap_year(2000) == True)"
   ]
  },
  {
   "cell_type": "markdown",
   "metadata": {},
   "source": [
    "Q7. Write a funtion `days_in_month` which returns the number of days for a given month of the year."
   ]
  },
  {
   "cell_type": "code",
   "execution_count": 25,
   "metadata": {},
   "outputs": [
    {
     "name": "stdout",
     "output_type": "stream",
     "text": [
      "28\n",
      "Test at line 12 ok.\n",
      "Test at line 13 ok.\n",
      "Test at line 14 ok.\n",
      "Test at line 15 ok.\n"
     ]
    }
   ],
   "source": [
    "def days_in_month(y,m):\n",
    "    if m == 2:\n",
    "        if is_leap_year(y):\n",
    "            return 29\n",
    "        else :\n",
    "            return 28\n",
    "    if m in [1,3,5,7,8,10,12]:\n",
    "        return 31\n",
    "    if m in [4,6,9,11]:\n",
    "        return 30\n",
    "\n",
    "test(days_in_month(2018, 12) == 31)\n",
    "test(days_in_month(2000, 2) == 29)\n",
    "test(days_in_month(2004, 9) == 30)\n",
    "test(days_in_month(2018, 2) == 28)"
   ]
  },
  {
   "cell_type": "markdown",
   "metadata": {},
   "source": [
    "Q8. Write a program which accepts a sequence of comma-separated numbers from console and generate a list and a tuple which contains every number.\n",
    "\n",
    "Suppose the following input is supplied to the program: (using `input()`)\n",
    "```Python\n",
    "34,67,55,33,12,98\n",
    "```\n",
    "\n",
    "Then, the output should be: (using `print(`))\n",
    "```Python\n",
    "['34', '67', '55', '33', '12', '98']\n",
    "('34', '67', '55', '33', '12', '98')\n",
    "```\n",
    "\n",
    "Hints: \n",
    "- Use `split()` method to make a list from the comma-separated strings\n",
    "- `tuple(`) method can convert list to tuple"
   ]
  },
  {
   "cell_type": "code",
   "execution_count": 26,
   "metadata": {},
   "outputs": [
    {
     "name": "stdout",
     "output_type": "stream",
     "text": [
      "23,24,25,26\n",
      "['23', '24', '25', '26']\n",
      "('23', '24', '25', '26')\n"
     ]
    }
   ],
   "source": [
    "a = input()\n",
    "b = a.split(',')\n",
    "print(b)\n",
    "print(tuple(b))"
   ]
  },
  {
   "cell_type": "markdown",
   "metadata": {},
   "source": [
    "Q9. Write a function `two_dim` **using the list comprehensiion** which takes 2 digits, m,n as parameters and generates a 2-dimensional m x n array. The element value in the i-th row and j-th column of the array should be `i*10 + j`."
   ]
  },
  {
   "cell_type": "code",
   "execution_count": 27,
   "metadata": {},
   "outputs": [
    {
     "name": "stdout",
     "output_type": "stream",
     "text": [
      "Test at line 5 ok.\n"
     ]
    }
   ],
   "source": [
    "def two_dim(n,m):\n",
    "    return [[y*10 + x for x in range(m)] for y in range(n)]\n",
    "\n",
    "test(two_dim(3, 5) == \n",
    "    [[0, 1, 2, 3, 4], [10, 11, 12, 13, 14], [20, 21, 22, 23, 24]])"
   ]
  },
  {
   "cell_type": "markdown",
   "metadata": {},
   "source": [
    "Q10. Rewrite the above function using `for` loop and `append` method"
   ]
  },
  {
   "cell_type": "code",
   "execution_count": 29,
   "metadata": {},
   "outputs": [
    {
     "name": "stdout",
     "output_type": "stream",
     "text": [
      "Test at line 11 ok.\n"
     ]
    }
   ],
   "source": [
    "def two_dim(n,m):\n",
    "    l = []\n",
    "    li = []\n",
    "    for i in range(n):\n",
    "        for j in range(m):\n",
    "            l.append(i*10 + j)\n",
    "        li.append(l)\n",
    "        l = []\n",
    "    return li\n",
    "test(two_dim(3, 5) == \n",
    "    [[0, 1, 2, 3, 4], [10, 11, 12, 13, 14], [20, 21, 22, 23, 24]])"
   ]
  },
  {
   "cell_type": "markdown",
   "metadata": {},
   "source": [
    "Q11. Write a function `unique_sort` that accepts a sequence of whitespace separated words as input and returns the words after removing all duplicate words and sorting them alphanumerically.\n",
    "\n",
    "Hint:\n",
    "- Use `set()` function to remove duplicate words."
   ]
  },
  {
   "cell_type": "code",
   "execution_count": 30,
   "metadata": {},
   "outputs": [
    {
     "name": "stdout",
     "output_type": "stream",
     "text": [
      "Test at line 15 ok.\n"
     ]
    }
   ],
   "source": [
    "def unique_sort(n):\n",
    "    n = n.replace(\"\\n\", \" \")\n",
    "    a = n.split(\" \")\n",
    "    b = set(a)\n",
    "    b.remove('')\n",
    "    b = sorted(b, key=str.lower)\n",
    "    s = \"\"\n",
    "    for i in range(len(b)):\n",
    "        s += b[i]\n",
    "        if i == (len(b)-1):\n",
    "            break\n",
    "        s += \" \"\n",
    "    return s\n",
    "text = \" hello  world and practice makes perfect\\nand hello world again \"\n",
    "test(unique_sort(text) == \"again and hello makes perfect practice world\")"
   ]
  },
  {
   "cell_type": "markdown",
   "metadata": {},
   "source": [
    "Q12. Rewrite the above function by writing your code directly for ensuring uniqueness, instead of `set()`. "
   ]
  },
  {
   "cell_type": "code",
   "execution_count": 31,
   "metadata": {},
   "outputs": [
    {
     "name": "stdout",
     "output_type": "stream",
     "text": [
      "Test at line 17 ok.\n"
     ]
    }
   ],
   "source": [
    "def unique_sort(n):\n",
    "    b = sorted(n.split(), key=str.lower)\n",
    "    s = \"\"\n",
    "    for i in range(len(b)):\n",
    "        if eq(b[i-1] , b[i]):\n",
    "            b[i] = \"\"\n",
    "        else:\n",
    "            s+= \" \"\n",
    "        s += b[i]\n",
    "        if i == (len(b)-1):\n",
    "            break\n",
    "    c = s.split(\" \")\n",
    "    c.remove('')\n",
    "    s = \" \".join(c)\n",
    "    return s\n",
    "text = \" hello  world and practice makes perfect\\nand hello world again \"\n",
    "test(unique_sort(text) == \"again and hello makes perfect practice world\")"
   ]
  },
  {
   "cell_type": "markdown",
   "metadata": {},
   "source": [
    "Q13. Write a program that counts the frequency of randomly chosen integers between 0 to 9 (including both end), repeating 1,000,000 times. \n",
    "\n",
    "Output will be like this (frequecies may be different from yours):\n",
    "```Python\n",
    "{0: 100463, 4: 100140, 1: 99791, 6: 100151, 8: 100045, 5: 99844, 2: 100001, 3: 99741, 9: 99652, 7: 100172}\n",
    "```\n",
    "\n",
    "Hint:\n",
    "- use `randrange` from `random` module"
   ]
  },
  {
   "cell_type": "code",
   "execution_count": 32,
   "metadata": {},
   "outputs": [
    {
     "name": "stdout",
     "output_type": "stream",
     "text": [
      "{2: 111155, 1: 111293, 6: 111185, 5: 111359, 7: 110760, 3: 111011, 8: 111407, 4: 111153, 0: 110677}\n"
     ]
    }
   ],
   "source": [
    "import random\n",
    "def list_to_dict(li):\n",
    "    dct = {}\n",
    "    for item in li:\n",
    "        if item in dct:\n",
    "            dct[item] = dct[item] + 1\n",
    "        else:\n",
    "            dct[item] = 1\n",
    "    return dct\n",
    "l = []\n",
    "for i in range(1000000):\n",
    "    l.append(random.randrange(0,10))\n",
    "li = list_to_dict(l)\n",
    "print(li)"
   ]
  },
  {
   "cell_type": "markdown",
   "metadata": {},
   "source": [
    "Q14. Using the above results, print the probability (i.e relative frequency) of the integers in descending order to show the uniform distribution in random number generation, like the followings:\n",
    "```Python\n",
    "0 0.100463\n",
    "7 0.100172\n",
    "6 0.100151\n",
    "4 0.100140\n",
    "8 0.100045\n",
    "2 0.100001\n",
    "5 0.099844\n",
    "1 0.099791\n",
    "3 0.099741\n",
    "9 0.099652\n",
    "```"
   ]
  },
  {
   "cell_type": "code",
   "execution_count": null,
   "metadata": {
    "collapsed": true
   },
   "outputs": [],
   "source": []
  },
  {
   "cell_type": "markdown",
   "metadata": {},
   "source": [
    "#### Write a code to answer the questions. \n",
    "*특별한 주문이 없으면 print할 필요없다. 대신, cell의 마지막 줄에 expression을 적어 실행시키면 결과가 output된다.*\n",
    "\n",
    "Q16. Read the vocabulary file. How many words are there?"
   ]
  },
  {
   "cell_type": "code",
   "execution_count": 34,
   "metadata": {},
   "outputs": [],
   "source": [
    "file = open(\"alice_in_wonderland.txt\", \"r\")"
   ]
  },
  {
   "cell_type": "markdown",
   "metadata": {},
   "source": [
    "Q17. List the words starting with 'z'."
   ]
  },
  {
   "cell_type": "code",
   "execution_count": null,
   "metadata": {
    "collapsed": true
   },
   "outputs": [],
   "source": []
  },
  {
   "cell_type": "markdown",
   "metadata": {},
   "source": [
    "Q18. Print the words containing 'hope' without using loop like this: (프린트 하라.)\n",
    "```Python\n",
    "hope\n",
    "hopeful\n",
    "...\n",
    "```\n",
    "\n",
    "Hint:\n",
    "- use 'join' method"
   ]
  },
  {
   "cell_type": "code",
   "execution_count": null,
   "metadata": {
    "collapsed": true
   },
   "outputs": [],
   "source": []
  },
  {
   "cell_type": "markdown",
   "metadata": {},
   "source": [
    "Q19.  What is the length of the longest word? "
   ]
  },
  {
   "cell_type": "code",
   "execution_count": null,
   "metadata": {
    "collapsed": true
   },
   "outputs": [],
   "source": []
  },
  {
   "cell_type": "markdown",
   "metadata": {},
   "source": [
    "Q20. What is the longest word? Give one instance if multiple longest words are found."
   ]
  },
  {
   "cell_type": "code",
   "execution_count": null,
   "metadata": {
    "collapsed": true
   },
   "outputs": [],
   "source": [
    "  "
   ]
  }
 ],
 "metadata": {
  "kernelspec": {
   "display_name": "Python 3",
   "language": "python",
   "name": "python3"
  },
  "language_info": {
   "codemirror_mode": {
    "name": "ipython",
    "version": 3
   },
   "file_extension": ".py",
   "mimetype": "text/x-python",
   "name": "python",
   "nbconvert_exporter": "python",
   "pygments_lexer": "ipython3",
   "version": "3.6.4"
  }
 },
 "nbformat": 4,
 "nbformat_minor": 2
}
