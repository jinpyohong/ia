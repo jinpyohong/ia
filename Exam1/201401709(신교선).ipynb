{
 "cells": [
  {
   "cell_type": "markdown",
   "metadata": {},
   "source": [
    "# Coding Exam 1\n",
    "4/2/2018"
   ]
  },
  {
   "cell_type": "markdown",
   "metadata": {},
   "source": [
    "#### 시험전 확인 및 준비\n",
    "1. Download this notebook file( .ipynb)\n",
    "1. Execute the following cell to ensure:\n",
    "\n",
    "> copy `unit_test.py` file to the same directory or this notebook file.\n",
    "\n",
    "> Fetch the vocabulary file 'vocab.txt' to your current directory by executing ...*"
   ]
  },
  {
   "cell_type": "code",
   "execution_count": 1,
   "metadata": {},
   "outputs": [],
   "source": [
    "from unit_test import test\n",
    "\n",
    "from urllib.request import urlretrieve\n",
    "url_vocab = 'http://openbookproject.net/thinkcs/python/english3e/_downloads/vocab.txt'\n",
    "urlretrieve(url_vocab, 'vocab.txt')\n",
    "\n",
    "import sys\n",
    "\n",
    "def test(did_pass):\n",
    "        linenum = sys._getframe(1).f_lineno\n",
    "        \n",
    "        if(did_pass):\n",
    "                msg = \"test at line {0} ok\".format(linenum)\n",
    "        else:\n",
    "                msg = \"test at line {0} Failed\".format(linenum)\n",
    "                \n",
    "        print(msg)\n"
   ]
  },
  {
   "cell_type": "markdown",
   "metadata": {},
   "source": [
    "#### 답안 제출\n",
    "제출하기 전에 여러분이 답한 것 모두를 새롭게 실행해서 결과를 다시 산출해야 한다. 그렇게 하려면, Jupyer notebook의 menu에서\n",
    "\n",
    "1. **Kernel >> Restart & All** 으로 Kernel을 다시 start시키고 순서대로 모든 cell을 실행시켜 output을 얻는다.\n",
    "2. **Save & Checkpoint** icon click하여 저장\n",
    "3. 저장된 **.ipynb** 파일을 e-class에 upload한다."
   ]
  },
  {
   "cell_type": "markdown",
   "metadata": {},
   "source": [
    "----\n",
    "## 시험문제"
   ]
  },
  {
   "cell_type": "markdown",
   "metadata": {},
   "source": [
    "Q1.\tWrite a function `add_string` to add 'ing' at the end of a given string (length should be at least 3). If the given string is already ends with 'ing' then add 'ly' instead. If the string length of the given string is less than 3, leave it unchanged."
   ]
  },
  {
   "cell_type": "code",
   "execution_count": 2,
   "metadata": {},
   "outputs": [
    {
     "name": "stdout",
     "output_type": "stream",
     "text": [
      "test at line 25 ok\n",
      "test at line 26 ok\n"
     ]
    }
   ],
   "source": [
    "import sys\n",
    "\n",
    "def test(did_pass):\n",
    "        linenum = sys._getframe(1).f_lineno\n",
    "        \n",
    "        if(did_pass):\n",
    "                msg = \"test at line {0} ok\".format(linenum)\n",
    "        else:\n",
    "                msg = \"test at line {0} Failed\".format(linenum)\n",
    "                \n",
    "        print(msg)\n",
    "\n",
    "\n",
    "def add_string(para):\n",
    "        paralen = len(para)\n",
    "        if paralen < 3:\n",
    "                return para\n",
    "        elif para[paralen - 3:] == \"ing\":\n",
    "                return para + \"ly\"\n",
    "        \n",
    "        return para + \"ing\"\n",
    "        \n",
    "        \n",
    "\n",
    "test(add_string('abc') == 'abcing')\n",
    "test(add_string('string') == 'stringly')"
   ]
  },
  {
   "cell_type": "markdown",
   "metadata": {},
   "source": [
    "Q2. Write a program to print the following pattern, using a `for` loop.\n",
    "```Python\n",
    "* \n",
    "* * \n",
    "* * * \n",
    "* * * * \n",
    "* * * * * \n",
    "* * * * \n",
    "* * * \n",
    "* * \n",
    "*\n",
    "```"
   ]
  },
  {
   "cell_type": "code",
   "execution_count": 3,
   "metadata": {},
   "outputs": [
    {
     "name": "stdout",
     "output_type": "stream",
     "text": [
      "*\n",
      "**\n",
      "***\n",
      "****\n",
      "*****\n",
      "****\n",
      "***\n",
      "**\n",
      "*\n"
     ]
    }
   ],
   "source": [
    "for i in range(1,6):\n",
    "        print(\"*\" * i)\n",
    "        \n",
    "\n",
    "for i in range(1,5):\n",
    "        print(\"*\" * (5 - i))"
   ]
  },
  {
   "cell_type": "markdown",
   "metadata": {},
   "source": [
    "Q3. Write a function `square_of_even` to make a list whose elements are square of even numbers from the positive integers less than n, by using `for` loop."
   ]
  },
  {
   "cell_type": "code",
   "execution_count": 4,
   "metadata": {},
   "outputs": [
    {
     "name": "stdout",
     "output_type": "stream",
     "text": [
      "test at line 21 ok\n",
      "test at line 22 ok\n",
      "test at line 23 ok\n"
     ]
    }
   ],
   "source": [
    "import sys\n",
    "\n",
    "def test(did_pass):\n",
    "        linenum = sys._getframe(1).f_lineno\n",
    "        \n",
    "        if(did_pass):\n",
    "                msg = \"test at line {0} ok\".format(linenum)\n",
    "        else:\n",
    "                msg = \"test at line {0} Failed\".format(linenum)\n",
    "                \n",
    "        print(msg)\n",
    "\n",
    "\n",
    "def square_of_even(n):\n",
    "        ret = []\n",
    "        for i in range(1,n):\n",
    "                if i % 2 == 0:\n",
    "                    ret.append(i**2)\n",
    "        return ret\n",
    "\n",
    "test(square_of_even(10) == [4, 16, 36, 64])\n",
    "test(square_of_even(9) == [4, 16, 36, 64])\n",
    "test(square_of_even(2) == [])"
   ]
  },
  {
   "cell_type": "markdown",
   "metadata": {},
   "source": [
    "Q4. Rewrite a function `square_of_even` to make a list whose elements are square of even numbers from the positive integers less than n, by using list comprehension."
   ]
  },
  {
   "cell_type": "code",
   "execution_count": 5,
   "metadata": {},
   "outputs": [
    {
     "name": "stdout",
     "output_type": "stream",
     "text": [
      "test at line 16 ok\n",
      "test at line 17 ok\n",
      "test at line 18 ok\n"
     ]
    }
   ],
   "source": [
    "import sys\n",
    "\n",
    "def test(did_pass):\n",
    "        linenum = sys._getframe(1).f_lineno\n",
    "        \n",
    "        if(did_pass):\n",
    "                msg = \"test at line {0} ok\".format(linenum)\n",
    "        else:\n",
    "                msg = \"test at line {0} Failed\".format(linenum)\n",
    "                \n",
    "        print(msg)\n",
    "        \n",
    "def square_of_even(n):\n",
    "        return list(i ** 2 for i in range(1,n) if i % 2 == 0)\n",
    "\n",
    "test(square_of_even(10) == [4, 16, 36, 64])\n",
    "test(square_of_even(9) == [4, 16, 36, 64])\n",
    "test(square_of_even(2) == [])"
   ]
  },
  {
   "cell_type": "markdown",
   "metadata": {},
   "source": [
    "Q5. Write a generator function `gen_square_even` to generate square of enven numbers from the positive integers less than n.\n",
    "\n",
    "Hint:\n",
    "- use `yield` statement"
   ]
  },
  {
   "cell_type": "code",
   "execution_count": 6,
   "metadata": {},
   "outputs": [
    {
     "name": "stdout",
     "output_type": "stream",
     "text": [
      "4\n",
      "16\n",
      "36\n",
      "64\n",
      "test at line 21 ok\n",
      "test at line 22 ok\n"
     ]
    }
   ],
   "source": [
    "import sys\n",
    "\n",
    "def test(did_pass):\n",
    "        linenum = sys._getframe(1).f_lineno\n",
    "        \n",
    "        if(did_pass):\n",
    "                msg = \"test at line {0} ok\".format(linenum)\n",
    "        else:\n",
    "                msg = \"test at line {0} Failed\".format(linenum)\n",
    "                \n",
    "        print(msg)\n",
    "        \n",
    "def gen_square_even(n):\n",
    "        for i in range(1,n):\n",
    "                if i % 2 == 0:\n",
    "                    yield i ** 2\n",
    "        \n",
    "\n",
    "for n in gen_square_even(9):\n",
    "    print(n)\n",
    "test(list(gen_square_even(10)) == [4, 16, 36, 64])\n",
    "test(sum(gen_square_even(10)) == sum(square_of_even(10)))"
   ]
  },
  {
   "cell_type": "markdown",
   "metadata": {},
   "source": [
    "Q6. Write a function `is_leap_year` whether tell a leap year or not.\n",
    "\n",
    "> A leap year is\n",
    "\n",
    "> every year exactly divisible by 4, except for years that are exactly divisible by 100, but these centurial years are leap years if they are exactly divisible by 400. \n",
    "\n",
    ">For example, the years 1700, 1800, and 1900 were not leap years, but the years 1600 and 2000 were"
   ]
  },
  {
   "cell_type": "code",
   "execution_count": 7,
   "metadata": {},
   "outputs": [
    {
     "name": "stdout",
     "output_type": "stream",
     "text": [
      "test at line 25 ok\n",
      "test at line 26 ok\n",
      "test at line 27 ok\n",
      "test at line 28 ok\n"
     ]
    }
   ],
   "source": [
    "import sys\n",
    "\n",
    "def test(did_pass):\n",
    "        linenum = sys._getframe(1).f_lineno\n",
    "        \n",
    "        if(did_pass):\n",
    "                msg = \"test at line {0} ok\".format(linenum)\n",
    "        else:\n",
    "                msg = \"test at line {0} Failed\".format(linenum)\n",
    "                \n",
    "        print(msg)\n",
    "        \n",
    "def is_leap_year(n):\n",
    "        if n % 4 == 0:\n",
    "                if n % 100 == 0:\n",
    "                        if n % 400 == 0:\n",
    "                                return True\n",
    "                        else:\n",
    "                                return False\n",
    "                else:\n",
    "                    return True\n",
    "        else:\n",
    "                return False\n",
    "\n",
    "test(is_leap_year(2003) == False)\n",
    "test(is_leap_year(2004) == True)\n",
    "test(is_leap_year(1900) == False)\n",
    "test(is_leap_year(2000) == True)"
   ]
  },
  {
   "cell_type": "markdown",
   "metadata": {},
   "source": [
    "Q7. Write a funtion `days_in_month` which returns the number of days for a given month of the year."
   ]
  },
  {
   "cell_type": "code",
   "execution_count": 9,
   "metadata": {},
   "outputs": [
    {
     "name": "stdout",
     "output_type": "stream",
     "text": [
      "test at line 32 ok\n",
      "test at line 33 ok\n",
      "test at line 34 ok\n",
      "test at line 35 Failed\n"
     ]
    }
   ],
   "source": [
    "import sys\n",
    "\n",
    "def test(did_pass):\n",
    "        linenum = sys._getframe(1).f_lineno\n",
    "        \n",
    "        if(did_pass):\n",
    "                msg = \"test at line {0} ok\".format(linenum)\n",
    "        else:\n",
    "                msg = \"test at line {0} Failed\".format(linenum)\n",
    "                \n",
    "        print(msg)\n",
    "        \n",
    "        \n",
    "def days_in_month(y, m):\n",
    "            if is_leap_year(y):\n",
    "                if (m == 1) or (m == 3) or(m == 5) or(m == 7) or(m == 8) or(m == 10) or(m == 12):\n",
    "                        return 31\n",
    "                elif m == 2:\n",
    "                        return 29\n",
    "                elif (m == 4) or (m == 6) or(m == 9) or(m == 11):\n",
    "                        return 30\n",
    "            else:\n",
    "                if (m == 1) or (m == 3) or(m == 5) or(m == 7) or(m == 8) or(m == 10) or(m == 12):\n",
    "                        return 31\n",
    "                elif m == 2:\n",
    "                        return 29\n",
    "                elif (m == 4) or (m == 6) or(m == 9) or(m == 11):\n",
    "                        return 30\n",
    "                    \n",
    "                \n",
    "\n",
    "test(days_in_month(2018, 12) == 31)\n",
    "test(days_in_month(2000, 2) == 29)\n",
    "test(days_in_month(2004, 9) == 30)\n",
    "test(days_in_month(2018, 2) == 28)"
   ]
  },
  {
   "cell_type": "markdown",
   "metadata": {},
   "source": [
    "Q8. Write a program which accepts a sequence of comma-separated numbers from console and generate a list and a tuple which contains every number.\n",
    "\n",
    "Suppose the following input is supplied to the program: (using `input()`)\n",
    "```Python\n",
    "34,67,55,33,12,98\n",
    "```\n",
    "\n",
    "Then, the output should be: (using `print(`))\n",
    "```Python\n",
    "['34', '67', '55', '33', '12', '98']\n",
    "('34', '67', '55', '33', '12', '98')\n",
    "```\n",
    "\n",
    "Hints: \n",
    "- Use `split()` method to make a list from the comma-separated strings\n",
    "- `tuple(`) method can convert list to tuple"
   ]
  },
  {
   "cell_type": "code",
   "execution_count": 10,
   "metadata": {},
   "outputs": [
    {
     "name": "stdout",
     "output_type": "stream",
     "text": [
      "34,67,55,33,12,98\n",
      "['34', '67', '55', '33', '12', '98']\n",
      "('34', '67', '55', '33', '12', '98')\n"
     ]
    }
   ],
   "source": [
    "a = input()\n",
    "ret = a.split(\",\")\n",
    "rettup = tuple(ret)\n",
    "print(ret)\n",
    "print(rettup)\n"
   ]
  },
  {
   "cell_type": "markdown",
   "metadata": {},
   "source": [
    "Q9. Write a function `two_dim` **using the list comprehensiion** which takes 2 digits, m,n as parameters and generates a 2-dimensional m x n array. The element value in the i-th row and j-th column of the array should be `i*10 + j`."
   ]
  },
  {
   "cell_type": "code",
   "execution_count": 11,
   "metadata": {},
   "outputs": [
    {
     "name": "stdout",
     "output_type": "stream",
     "text": [
      "[0, 1, 2, 3, 4, 10, 11, 12, 13, 14, 20, 21, 22, 23, 24]\n",
      "test at line 28 Failed\n"
     ]
    }
   ],
   "source": [
    "import sys\n",
    "\n",
    "def test(did_pass):\n",
    "        linenum = sys._getframe(1).f_lineno\n",
    "        \n",
    "        if(did_pass):\n",
    "                msg = \"test at line {0} ok\".format(linenum)\n",
    "        else:\n",
    "                msg = \"test at line {0} Failed\".format(linenum)\n",
    "                \n",
    "        print(msg)\n",
    "\n",
    "        \n",
    "def two_dim(m, n):\n",
    "        print(list( (i*10 + j) for i in range(m) for j in range(n)))\n",
    "        list()\n",
    "#        map(list, list( (i*10 + j) for i in range(m) for j in range(n)))\n",
    "#         return list(list( (i*10 + j) for i in range(m) for j in range(n)))\n",
    "#       print(list(map(list, list( (i*10 + j) for i in range(m) for j in range(n)))))\n",
    " #       list()\n",
    "    \n",
    "        return map(list, list( (i*10 + j) for i in range(m) for j in range(n)))\n",
    "    \n",
    "            \n",
    "        \n",
    "\n",
    "\n",
    "test(two_dim(3, 5) ==  [[0, 1, 2, 3, 4], [10, 11, 12, 13, 14], [20, 21, 22, 23, 24]])"
   ]
  },
  {
   "cell_type": "markdown",
   "metadata": {},
   "source": [
    "Q10. Rewrite the above function using `for` loop and `append` method"
   ]
  },
  {
   "cell_type": "code",
   "execution_count": null,
   "metadata": {},
   "outputs": [],
   "source": []
  },
  {
   "cell_type": "markdown",
   "metadata": {},
   "source": [
    "Q11. Write a function `unique_sort` that accepts a sequence of whitespace separated words as input and returns the words after removing all duplicate words and sorting them alphanumerically.\n",
    "\n",
    "Hint:\n",
    "- Use `set()` function to remove duplicate words."
   ]
  },
  {
   "cell_type": "code",
   "execution_count": 12,
   "metadata": {},
   "outputs": [
    {
     "name": "stdout",
     "output_type": "stream",
     "text": [
      "test at line 21 ok\n"
     ]
    }
   ],
   "source": [
    "import sys\n",
    "\n",
    "def test(did_pass):\n",
    "        linenum = sys._getframe(1).f_lineno\n",
    "        \n",
    "        if(did_pass):\n",
    "                msg = \"test at line {0} ok\".format(linenum)\n",
    "        else:\n",
    "                msg = \"test at line {0} Failed\".format(linenum)\n",
    "                \n",
    "        print(msg)\n",
    "        \n",
    "def unique_sort(txt):\n",
    "        retset = set(txt.split())\n",
    "        retlt = list(retset)\n",
    "        return \" \".join(sorted(retlt))\n",
    "        \n",
    "\n",
    "\n",
    "text = \" hello  world and practice makes perfect\\nand hello world again \"\n",
    "test(unique_sort(text) == \"again and hello makes perfect practice world\")"
   ]
  },
  {
   "cell_type": "markdown",
   "metadata": {},
   "source": [
    "Q12. Rewrite the above function by writing your code directly for ensuring uniqueness, instead of `set()`. "
   ]
  },
  {
   "cell_type": "code",
   "execution_count": 13,
   "metadata": {},
   "outputs": [
    {
     "name": "stdout",
     "output_type": "stream",
     "text": [
      "['hello', 'world', 'and', 'practice', 'makes', 'perfect', 'and', 'hello', 'world', 'again']\n",
      "[0, 1, 2, 6, 7, 8]\n"
     ]
    },
    {
     "ename": "IndexError",
     "evalue": "list index out of range",
     "output_type": "error",
     "traceback": [
      "\u001b[0;31m---------------------------------------------------------------------------\u001b[0m",
      "\u001b[0;31mIndexError\u001b[0m                                Traceback (most recent call last)",
      "\u001b[0;32m<ipython-input-13-bea680af7935>\u001b[0m in \u001b[0;36m<module>\u001b[0;34m()\u001b[0m\n\u001b[1;32m     37\u001b[0m \u001b[0;34m\u001b[0m\u001b[0m\n\u001b[1;32m     38\u001b[0m \u001b[0mtext\u001b[0m \u001b[0;34m=\u001b[0m \u001b[0;34m\" hello  world and practice makes perfect\\nand hello world again \"\u001b[0m\u001b[0;34m\u001b[0m\u001b[0m\n\u001b[0;32m---> 39\u001b[0;31m \u001b[0mtest\u001b[0m\u001b[0;34m(\u001b[0m\u001b[0munique_sort\u001b[0m\u001b[0;34m(\u001b[0m\u001b[0mtext\u001b[0m\u001b[0;34m)\u001b[0m \u001b[0;34m==\u001b[0m \u001b[0;34m\"again and hello makes perfect practice world\"\u001b[0m\u001b[0;34m)\u001b[0m\u001b[0;34m\u001b[0m\u001b[0m\n\u001b[0m",
      "\u001b[0;32m<ipython-input-13-bea680af7935>\u001b[0m in \u001b[0;36munique_sort\u001b[0;34m(txt)\u001b[0m\n\u001b[1;32m     30\u001b[0m                          \u001b[0;32mwhile\u001b[0m \u001b[0;32mTrue\u001b[0m\u001b[0;34m:\u001b[0m\u001b[0;34m\u001b[0m\u001b[0m\n\u001b[1;32m     31\u001b[0m                             \u001b[0;32mtry\u001b[0m\u001b[0;34m:\u001b[0m\u001b[0;34m\u001b[0m\u001b[0m\n\u001b[0;32m---> 32\u001b[0;31m                                      \u001b[0mretele\u001b[0m\u001b[0;34m.\u001b[0m\u001b[0mremove\u001b[0m\u001b[0;34m(\u001b[0m\u001b[0mretele\u001b[0m\u001b[0;34m[\u001b[0m\u001b[0mi\u001b[0m\u001b[0;34m]\u001b[0m\u001b[0;34m)\u001b[0m\u001b[0;34m\u001b[0m\u001b[0m\n\u001b[0m\u001b[1;32m     33\u001b[0m                             \u001b[0;32mexcept\u001b[0m \u001b[0mValueError\u001b[0m \u001b[0;32mor\u001b[0m \u001b[0mIndexError\u001b[0m\u001b[0;34m:\u001b[0m\u001b[0;34m\u001b[0m\u001b[0m\n\u001b[1;32m     34\u001b[0m                                      \u001b[0;32mcontinue\u001b[0m\u001b[0;34m\u001b[0m\u001b[0m\n",
      "\u001b[0;31mIndexError\u001b[0m: list index out of range"
     ]
    }
   ],
   "source": [
    "import sys\n",
    "\n",
    "def test(did_pass):\n",
    "        linenum = sys._getframe(1).f_lineno\n",
    "        \n",
    "        if(did_pass):\n",
    "                msg = \"test at line {0} ok\".format(linenum)\n",
    "        else:\n",
    "                msg = \"test at line {0} Failed\".format(linenum)\n",
    "                \n",
    "        print(msg)\n",
    "        \n",
    "def unique_sort(txt):\n",
    "        retele = txt.split()\n",
    "        tmp = retele[:]\n",
    "        \n",
    "        cnt = 0\n",
    "        lt = []\n",
    "        \n",
    "        print(tmp)\n",
    "        \n",
    "        for i in range(len(tmp)):\n",
    "                if tmp.count(tmp[i]) > 1:\n",
    "                            lt.append(i)\n",
    "                    \n",
    "        print(lt)\n",
    "            \n",
    "        for i in range(len(retele)):\n",
    "                if i in lt:\n",
    "                         while True:\n",
    "                            try:\n",
    "                                     retele.remove(retele[i])\n",
    "                            except ValueError or IndexError:\n",
    "                                     continue\n",
    "        \n",
    "        return \" \".join(sorted(reele))\n",
    "\n",
    "text = \" hello  world and practice makes perfect\\nand hello world again \"\n",
    "test(unique_sort(text) == \"again and hello makes perfect practice world\")"
   ]
  },
  {
   "cell_type": "markdown",
   "metadata": {},
   "source": [
    "Q13. Write a program that counts the frequency of randomly chosen integers between 0 to 9 (including both end), repeating 1,000,000 times. \n",
    "\n",
    "Output will be like this (frequecies may be different from yours):\n",
    "```Python\n",
    "{0: 100463, 4: 100140, 1: 99791, 6: 100151, 8: 100045, 5: 99844, 2: 100001, 3: 99741, 9: 99652, 7: 100172}\n",
    "```\n",
    "\n",
    "Hint:\n",
    "- use `randrange` from `random` module"
   ]
  },
  {
   "cell_type": "code",
   "execution_count": 14,
   "metadata": {},
   "outputs": [
    {
     "name": "stdout",
     "output_type": "stream",
     "text": [
      "{0: 99897, 1: 100478, 2: 100263, 3: 99911, 4: 99694, 5: 99553, 6: 100009, 7: 100116, 8: 99987, 9: 100092}\n"
     ]
    }
   ],
   "source": [
    "import random\n",
    "rng = random.Random()\n",
    "\n",
    "freq = {0: 0, 1: 0, 2: 0, 3: 0, 4: 0, 5: 0, 6: 0, 7: 0, 8: 0, 9: 0}\n",
    "\n",
    "for i in range(1000000):\n",
    "        dice = rng.randrange(0,10)\n",
    "        freq[dice] += 1\n",
    "\n",
    "print(freq)\n",
    "    \n",
    "# for j in range(len(freq)):\n",
    "#         tmp = max(freq)\n",
    "#         val = (freq[tmp] * 0.000001)  \n",
    "#         retv = round(val, 6)\n",
    "#         retstri = \"%d %8.6f\" %(tmp, retv)\n",
    "#         print(retstri)\n",
    "#         del freq[tmp]\n",
    "        "
   ]
  },
  {
   "cell_type": "markdown",
   "metadata": {},
   "source": [
    "Q14. Using the above results, print the probability (i.e relative frequency) of the integers in descending order to show the uniform distribution in random number generation, like the followings:\n",
    "```Python\n",
    "0 0.100463\n",
    "7 0.100172\n",
    "6 0.100151\n",
    "4 0.100140\n",
    "8 0.100045\n",
    "2 0.100001\n",
    "5 0.099844\n",
    "1 0.099791\n",
    "3 0.099741\n",
    "9 0.099652\n",
    "```"
   ]
  },
  {
   "cell_type": "code",
   "execution_count": null,
   "metadata": {},
   "outputs": [],
   "source": [
    "import random\n",
    "import operator\n",
    "\n",
    "rng = random.Random()\n",
    "\n",
    "freq = {0: 0, 1: 0, 2: 0, 3: 0, 4: 0, 5: 0, 6: 0, 7: 0, 8: 0, 9: 0}\n",
    "\n",
    "for i in range(1000000):\n",
    "        dice = rng.randrange(0,10)\n",
    "        freq[dice] += 1\n",
    "\n",
    "\n",
    "sfreq = sorted(freq.items(), key=operator.itemgetter(1))\n",
    "sfreq.reverse()\n",
    "\n",
    "\n",
    "    \n",
    "for j in range(len(sfreq)):\n",
    "        val = (sfreq[j][1] * 0.000001)  \n",
    "        retv = round(val, 6)\n",
    "        retstri = \"%d %8.6f\" %(sfreq[j][0], retv)\n",
    "        print(retstri)\n",
    "        \n",
    "        "
   ]
  },
  {
   "cell_type": "markdown",
   "metadata": {},
   "source": [
    "#### Write a code to answer the questions. \n",
    "*특별한 주문이 없으면 print할 필요없다. 대신, cell의 마지막 줄에 expression을 적어 실행시키면 결과가 output된다.*\n",
    "\n",
    "Q16. Read the vocabulary file. How many words are there?"
   ]
  },
  {
   "cell_type": "code",
   "execution_count": null,
   "metadata": {},
   "outputs": [],
   "source": [
    "with open(\"vocab.txt\", \"r\") as f:\n",
    "        line = f.read()\n",
    "        print(len(line.split()))"
   ]
  },
  {
   "cell_type": "markdown",
   "metadata": {},
   "source": [
    "Q17. List the words starting with 'z'."
   ]
  },
  {
   "cell_type": "code",
   "execution_count": null,
   "metadata": {},
   "outputs": [],
   "source": [
    "tl = line.split()\n",
    "for i in range(len(tl)):\n",
    "        if tl[i][0] == 'z':\n",
    "                print(tl[i])\n"
   ]
  },
  {
   "cell_type": "markdown",
   "metadata": {},
   "source": [
    "Q18. Print the words containing 'hope' without using loop like this: (프린트 하라.)\n",
    "```Python\n",
    "hope\n",
    "hopeful\n",
    "...\n",
    "```\n",
    "\n",
    "Hint:\n",
    "- use 'join' method"
   ]
  },
  {
   "cell_type": "code",
   "execution_count": null,
   "metadata": {},
   "outputs": [],
   "source": [
    "for i in range(len(tl)):\n",
    "        if 'hope' in tl[i]:\n",
    "                print(tl[i])"
   ]
  },
  {
   "cell_type": "markdown",
   "metadata": {},
   "source": [
    "Q19.  What is the length of the longest word? "
   ]
  },
  {
   "cell_type": "code",
   "execution_count": null,
   "metadata": {},
   "outputs": [],
   "source": [
    "lnglen = len(tl[0])\n",
    "\n",
    "for i in range(1,len(tl)):\n",
    "        if lnglen < len(tl[i]):\n",
    "                lnglen = len(tl[i])\n",
    "        \n",
    "                \n",
    "                \n",
    "print(lnglen)\n",
    "        \n",
    "                "
   ]
  },
  {
   "cell_type": "markdown",
   "metadata": {},
   "source": [
    "Q20. What is the longest word? Give one instance if multiple longest words are found."
   ]
  },
  {
   "cell_type": "code",
   "execution_count": null,
   "metadata": {},
   "outputs": [],
   "source": [
    "for i in range(len(tl)):\n",
    "        if lnglen == len(tl[i]):\n",
    "            print(tl[i])\n",
    "# 그러므로 가장 긴 단어는 하나뿐이다."
   ]
  }
 ],
 "metadata": {
  "kernelspec": {
   "display_name": "Python 3",
   "language": "python",
   "name": "python3"
  },
  "language_info": {
   "codemirror_mode": {
    "name": "ipython",
    "version": 3
   },
   "file_extension": ".py",
   "mimetype": "text/x-python",
   "name": "python",
   "nbconvert_exporter": "python",
   "pygments_lexer": "ipython3",
   "version": "3.6.4"
  }
 },
 "nbformat": 4,
 "nbformat_minor": 2
}
