{
 "cells": [
  {
   "cell_type": "markdown",
   "metadata": {},
   "source": [
    "# Coding Exam 1\n",
    "4/2/2018"
   ]
  },
  {
   "cell_type": "markdown",
   "metadata": {},
   "source": [
    "#### 시험전 확인 및 준비\n",
    "1. Download this notebook file( .ipynb)\n",
    "1. Execute the following cell to ensure:\n",
    "\n",
    "> copy `unit_test.py` file to the same directory or this notebook file.\n",
    "\n",
    "> Fetch the vocabulary file 'vocab.txt' to your current directory by executing ...*"
   ]
  },
  {
   "cell_type": "code",
   "execution_count": 1,
   "metadata": {},
   "outputs": [
    {
     "data": {
      "text/plain": [
       "('vocab.txt', <http.client.HTTPMessage at 0x7f2aac7aeda0>)"
      ]
     },
     "execution_count": 1,
     "metadata": {},
     "output_type": "execute_result"
    }
   ],
   "source": [
    "from unit_test import test\n",
    "\n",
    "from urllib.request import urlretrieve\n",
    "url_vocab = 'http://openbookproject.net/thinkcs/python/english3e/_downloads/vocab.txt'\n",
    "urlretrieve(url_vocab, 'vocab.txt')"
   ]
  },
  {
   "cell_type": "markdown",
   "metadata": {},
   "source": [
    "#### 답안 제출\n",
    "제출하기 전에 여러분이 답한 것 모두를 새롭게 실행해서 결과를 다시 산출해야 한다. 그렇게 하려면, Jupyer notebook의 menu에서\n",
    "\n",
    "1. **Kernel >> Restart & All** 으로 Kernel을 다시 start시키고 순서대로 모든 cell을 실행시켜 output을 얻는다.\n",
    "2. **Save & Checkpoint** icon click하여 저장\n",
    "3. 저장된 **.ipynb** 파일을 e-class에 upload한다."
   ]
  },
  {
   "cell_type": "markdown",
   "metadata": {},
   "source": [
    "----\n",
    "## 시험문제"
   ]
  },
  {
   "cell_type": "markdown",
   "metadata": {},
   "source": [
    "Q1.\tWrite a function `add_string` to add 'ing' at the end of a given string (length should be at least 3). If the given string is already ends with 'ing' then add 'ly' instead. If the string length of the given string is less than 3, leave it unchanged."
   ]
  },
  {
   "cell_type": "code",
   "execution_count": 4,
   "metadata": {},
   "outputs": [
    {
     "name": "stdout",
     "output_type": "stream",
     "text": [
      "Test at line 10 ok.\n",
      "Test at line 11 FAILED.\n"
     ]
    }
   ],
   "source": [
    "def add_string(str):\n",
    "\n",
    "    if str[-3:0]=='ing': str+='ly'\n",
    "    elif len(str)<3: pass\n",
    "    else: str+='ing'\n",
    "    return str\n",
    "\n",
    "\n",
    "\n",
    "test(add_string('abc') == 'abcing')\n",
    "test(add_string('string') == 'stringly')"
   ]
  },
  {
   "cell_type": "markdown",
   "metadata": {},
   "source": [
    "Q2. Write a program to print the following pattern, using a `for` loop.\n",
    "```Python\n",
    "* \n",
    "* * \n",
    "* * * \n",
    "* * * * \n",
    "* * * * * \n",
    "* * * * \n",
    "* * * \n",
    "* * \n",
    "*\n",
    "```"
   ]
  },
  {
   "cell_type": "code",
   "execution_count": 5,
   "metadata": {},
   "outputs": [
    {
     "name": "stdout",
     "output_type": "stream",
     "text": [
      "*\n",
      "**\n",
      "***\n",
      "****\n",
      "*****\n",
      "****\n",
      "***\n",
      "**\n",
      "*\n",
      "\n"
     ]
    }
   ],
   "source": [
    "def star_pattern(n):\n",
    "    for i in range(0, n):\n",
    "        print('*' * (i + 1))\n",
    "    for k in range(n - 1, 0, -1):\n",
    "        print('*' * k)\n",
    "    print('')\n",
    "\n",
    "\n",
    "star_pattern(5)"
   ]
  },
  {
   "cell_type": "markdown",
   "metadata": {},
   "source": [
    "Q3. Write a function `square_of_even` to make a list whose elements are square of even numbers from the positive integers less than n, by using `for` loop."
   ]
  },
  {
   "cell_type": "code",
   "execution_count": 6,
   "metadata": {},
   "outputs": [
    {
     "name": "stdout",
     "output_type": "stream",
     "text": [
      "Test at line 9 FAILED.\n",
      "Test at line 10 FAILED.\n",
      "Test at line 11 FAILED.\n"
     ]
    }
   ],
   "source": [
    "def square_of_even(number):\n",
    "    l=[]\n",
    "    for i in range (0,number*2):\n",
    "        if i%2==0:\n",
    "            if i*2<number*2:\n",
    "                l.append(i*2)\n",
    "                return l\n",
    "            \n",
    "test(square_of_even(10) == [4, 16, 36, 64])\n",
    "test(square_of_even(9) == [4, 16, 36, 64])\n",
    "test(square_of_even(2) == [])"
   ]
  },
  {
   "cell_type": "markdown",
   "metadata": {},
   "source": [
    "Q4. Rewrite a function `square_of_even` to make a list whose elements are square of even numbers from the positive integers less than n, by using list comprehension."
   ]
  },
  {
   "cell_type": "code",
   "execution_count": 7,
   "metadata": {},
   "outputs": [
    {
     "name": "stdout",
     "output_type": "stream",
     "text": [
      "Test at line 8 ok.\n",
      "Test at line 9 ok.\n",
      "Test at line 10 ok.\n"
     ]
    }
   ],
   "source": [
    "def square_of_even(n):\n",
    "    list = []\n",
    "    for i in range(1,(n+1)//2):\n",
    "        a = i*2*i*2\n",
    "        list.append(a)\n",
    "    return list\n",
    "\n",
    "test(square_of_even(10) == [4, 16, 36, 64])\n",
    "test(square_of_even(9) == [4, 16, 36, 64])\n",
    "test(square_of_even(2) == [])"
   ]
  },
  {
   "cell_type": "markdown",
   "metadata": {},
   "source": [
    "Q5. Write a generator function `gen_square_even` to generate square of enven numbers from the positive integers less than n.\n",
    "\n",
    "Hint:\n",
    "- use `yield` statement"
   ]
  },
  {
   "cell_type": "code",
   "execution_count": 8,
   "metadata": {},
   "outputs": [],
   "source": [
    "def gen_square_even(n):\n",
    "    for s in range(1,n):\n",
    "        if s%2==0:\n",
    "            yield s*s\n"
   ]
  },
  {
   "cell_type": "markdown",
   "metadata": {},
   "source": [
    "Q6. Write a function `is_leap_year` whether tell a leap year or not.\n",
    "\n",
    "> A leap year is\n",
    "\n",
    "> every year exactly divisible by 4, except for years that are exactly divisible by 100, but these centurial years are leap years if they are exactly divisible by 400. \n",
    "\n",
    ">For example, the years 1700, 1800, and 1900 were not leap years, but the years 1600 and 2000 were"
   ]
  },
  {
   "cell_type": "code",
   "execution_count": 9,
   "metadata": {},
   "outputs": [
    {
     "name": "stdout",
     "output_type": "stream",
     "text": [
      "Test at line 9 ok.\n",
      "Test at line 10 ok.\n",
      "Test at line 11 ok.\n",
      "Test at line 12 FAILED.\n"
     ]
    }
   ],
   "source": [
    "def is_leap_year(year):\n",
    "\n",
    "    if year%4==0:\n",
    "        if year%400==0 and year%100!=0: return True\n",
    "        elif year%100!=0: return True\n",
    "        else: return False\n",
    "    else: return False\n",
    "\n",
    "test(is_leap_year(2003) == False)\n",
    "test(is_leap_year(2004) == True)\n",
    "test(is_leap_year(1900) == False)\n",
    "test(is_leap_year(2000) == True)"
   ]
  },
  {
   "cell_type": "markdown",
   "metadata": {},
   "source": [
    "Q7. Write a funtion `days_in_month` which returns the number of days for a given month of the year."
   ]
  },
  {
   "cell_type": "code",
   "execution_count": 10,
   "metadata": {},
   "outputs": [
    {
     "name": "stdout",
     "output_type": "stream",
     "text": [
      "Test at line 9 ok.\n",
      "Test at line 10 FAILED.\n",
      "Test at line 11 FAILED.\n",
      "Test at line 12 FAILED.\n"
     ]
    }
   ],
   "source": [
    "def days_in_month(year, month):\n",
    "    if month==2 :\n",
    "        if is_leap_year(year)==True : return 29\n",
    "        else: return 28\n",
    "\n",
    "    elif month==1 or 3 or 5 or 7 or 9 or 11: return 31\n",
    "    elif month==4 or 6 or 8 or 10 or 12: return 30\n",
    "\n",
    "test(days_in_month(2018, 12) == 31)\n",
    "test(days_in_month(2000, 2) == 29)\n",
    "test(days_in_month(2004, 9) == 30)\n",
    "test(days_in_month(2018, 2) == 31)"
   ]
  },
  {
   "cell_type": "markdown",
   "metadata": {},
   "source": [
    "Q8. Write a program which accepts a sequence of comma-separated numbers from console and generate a list and a tuple which contains every number.\n",
    "\n",
    "Suppose the following input is supplied to the program: (using `input()`)\n",
    "```Python\n",
    "34,67,55,33,12,98\n",
    "```\n",
    "\n",
    "Then, the output should be: (using `print(`))\n",
    "```Python\n",
    "['34', '67', '55', '33', '12', '98']\n",
    "('34', '67', '55', '33', '12', '98')\n",
    "```\n",
    "\n",
    "Hints: \n",
    "- Use `split()` method to make a list from the comma-separated strings\n",
    "- `tuple(`) method can convert list to tuple"
   ]
  },
  {
   "cell_type": "code",
   "execution_count": null,
   "metadata": {
    "collapsed": true
   },
   "outputs": [],
   "source": [
    "x=input(\"숫자를입력하세요:\")\n",
    "a = x.split(\",\")\n",
    "b = tuple(a)\n",
    "print(a)\n",
    "print(b)\n"
   ]
  },
  {
   "cell_type": "markdown",
   "metadata": {},
   "source": [
    "Q9. Write a function `two_dim` **using the list comprehensiion** which takes 2 digits, m,n as parameters and generates a 2-dimensional m x n array. The element value in the i-th row and j-th column of the array should be `i*10 + j`."
   ]
  },
  {
   "cell_type": "code",
   "execution_count": 11,
   "metadata": {},
   "outputs": [
    {
     "name": "stdout",
     "output_type": "stream",
     "text": [
      "Test at line 6 ok.\n"
     ]
    }
   ],
   "source": [
    "def two_dim(i,j):\n",
    "    result = [[a*10+b for b in range(j)] for a in range(i)]\n",
    "    return result\n",
    "\n",
    "test(two_dim(3, 5) == \n",
    "    [[0, 1, 2, 3, 4], [10, 11, 12, 13, 14], [20, 21, 22, 23, 24]])"
   ]
  },
  {
   "cell_type": "markdown",
   "metadata": {},
   "source": [
    "Q10. Rewrite the above function using `for` loop and `append` method"
   ]
  },
  {
   "cell_type": "code",
   "execution_count": 13,
   "metadata": {},
   "outputs": [
    {
     "ename": "NameError",
     "evalue": "name 'list2' is not defined",
     "output_type": "error",
     "traceback": [
      "\u001b[0;31m---------------------------------------------------------------------------\u001b[0m",
      "\u001b[0;31mNameError\u001b[0m                                 Traceback (most recent call last)",
      "\u001b[0;32m<ipython-input-13-3fd5ddc1a3fe>\u001b[0m in \u001b[0;36m<module>\u001b[0;34m()\u001b[0m\n\u001b[1;32m      9\u001b[0m     \u001b[0;32mreturn\u001b[0m \u001b[0ml\u001b[0m\u001b[0;34m\u001b[0m\u001b[0m\n\u001b[1;32m     10\u001b[0m \u001b[0;34m\u001b[0m\u001b[0m\n\u001b[0;32m---> 11\u001b[0;31m test(two_dim(3, 5) == \n\u001b[0m\u001b[1;32m     12\u001b[0m     [[0, 1, 2, 3, 4], [10, 11, 12, 13, 14], [20, 21, 22, 23, 24]])\n",
      "\u001b[0;32m<ipython-input-13-3fd5ddc1a3fe>\u001b[0m in \u001b[0;36mtwo_dim\u001b[0;34m(i, j)\u001b[0m\n\u001b[1;32m      4\u001b[0m     \u001b[0;32mfor\u001b[0m \u001b[0mx\u001b[0m \u001b[0;32min\u001b[0m \u001b[0mrange\u001b[0m\u001b[0;34m(\u001b[0m\u001b[0mi\u001b[0m\u001b[0;34m)\u001b[0m\u001b[0;34m:\u001b[0m\u001b[0;34m\u001b[0m\u001b[0m\n\u001b[1;32m      5\u001b[0m         \u001b[0;32mfor\u001b[0m \u001b[0my\u001b[0m \u001b[0;32min\u001b[0m \u001b[0mrange\u001b[0m\u001b[0;34m(\u001b[0m\u001b[0mj\u001b[0m\u001b[0;34m)\u001b[0m\u001b[0;34m:\u001b[0m\u001b[0;34m\u001b[0m\u001b[0m\n\u001b[0;32m----> 6\u001b[0;31m             \u001b[0mlist2\u001b[0m\u001b[0;34m.\u001b[0m\u001b[0mappend\u001b[0m\u001b[0;34m(\u001b[0m\u001b[0;36m10\u001b[0m\u001b[0;34m*\u001b[0m\u001b[0mx\u001b[0m \u001b[0;34m+\u001b[0m \u001b[0my\u001b[0m\u001b[0;34m)\u001b[0m\u001b[0;34m\u001b[0m\u001b[0m\n\u001b[0m\u001b[1;32m      7\u001b[0m         \u001b[0ml1\u001b[0m\u001b[0;34m.\u001b[0m\u001b[0mappend\u001b[0m\u001b[0;34m(\u001b[0m\u001b[0ml2\u001b[0m\u001b[0;34m)\u001b[0m\u001b[0;34m\u001b[0m\u001b[0m\n\u001b[1;32m      8\u001b[0m         \u001b[0ml2\u001b[0m \u001b[0;34m=\u001b[0m \u001b[0;34m[\u001b[0m\u001b[0;34m]\u001b[0m\u001b[0;34m\u001b[0m\u001b[0m\n",
      "\u001b[0;31mNameError\u001b[0m: name 'list2' is not defined"
     ]
    }
   ],
   "source": [
    "def two_dim(i,j):\n",
    "    l1=[]\n",
    "    l2=[]\n",
    "    for x in range(i):\n",
    "        for y in range(j):\n",
    "            list2.append(10*x + y)\n",
    "        l1.append(l2)\n",
    "        l2 = []\n",
    "    return l\n",
    "\n",
    "test(two_dim(3, 5) == \n",
    "    [[0, 1, 2, 3, 4], [10, 11, 12, 13, 14], [20, 21, 22, 23, 24]])"
   ]
  },
  {
   "cell_type": "markdown",
   "metadata": {},
   "source": [
    "Q11. Write a function `unique_sort` that accepts a sequence of whitespace separated words as input and returns the words after removing all duplicate words and sorting them alphanumerically.\n",
    "\n",
    "Hint:\n",
    "- Use `set()` function to remove duplicate words."
   ]
  },
  {
   "cell_type": "code",
   "execution_count": 14,
   "metadata": {},
   "outputs": [
    {
     "name": "stdout",
     "output_type": "stream",
     "text": [
      "Test at line 9 ok.\n"
     ]
    }
   ],
   "source": [
    "def unique_sort(n):\n",
    "    n = n.replace(\"\\n\",\" \")\n",
    "    n = set(n.split())\n",
    "    n = sorted(n)\n",
    "    n = \" \".join(n)\n",
    "    return n\n",
    "\n",
    "text = \" hello  world and practice makes perfect\\nand hello world again \"\n",
    "test(unique_sort(text) == \"again and hello makes perfect practice world\")"
   ]
  },
  {
   "cell_type": "markdown",
   "metadata": {},
   "source": [
    "Q12. Rewrite the above function by writing your code directly for ensuring uniqueness, instead of `set()`. "
   ]
  },
  {
   "cell_type": "code",
   "execution_count": 15,
   "metadata": {},
   "outputs": [
    {
     "name": "stdout",
     "output_type": "stream",
     "text": [
      "Test at line 11 ok.\n"
     ]
    }
   ],
   "source": [
    "def unique_sort(t):\n",
    "    t=t.split(\"\\n\")\n",
    "    t=\" \".join(t)\n",
    "    t=t.split()\n",
    "    for i in t:\n",
    "        if t.count(i)>=2:\n",
    "            t.remove(i)\n",
    "    return \" \".join(sorted(t))\n",
    "\n",
    "text = \" hello  world and practice makes perfect\\nand hello world again \"\n",
    "test(unique_sort(text) == \"again and hello makes perfect practice world\")"
   ]
  },
  {
   "cell_type": "markdown",
   "metadata": {},
   "source": [
    "Q13. Write a program that counts the frequency of randomly chosen integers between 0 to 9 (including both end), repeating 1,000,000 times. \n",
    "\n",
    "Output will be like this (frequecies may be different from yours):\n",
    "```Python\n",
    "{0: 100463, 4: 100140, 1: 99791, 6: 100151, 8: 100045, 5: 99844, 2: 100001, 3: 99741, 9: 99652, 7: 100172}\n",
    "```\n",
    "\n",
    "Hint:\n",
    "- use `randrange` from `random` module"
   ]
  },
  {
   "cell_type": "code",
   "execution_count": 16,
   "metadata": {},
   "outputs": [
    {
     "name": "stdout",
     "output_type": "stream",
     "text": [
      "{4: 100077, 1: 100216, 8: 99982, 6: 99624, 9: 100291, 0: 99537, 7: 99924, 2: 100632, 5: 100016, 3: 99701}\n"
     ]
    }
   ],
   "source": [
    "from random import *\n",
    "dic = {}\n",
    "for i in range(1000000):\n",
    "    num = randrange(0, 10)\n",
    "    if num in dic.keys():\n",
    "        dic[num] += 1\n",
    "    else:\n",
    "        dic[num] = 1\n",
    "\n",
    "print(dic)"
   ]
  },
  {
   "cell_type": "markdown",
   "metadata": {},
   "source": [
    "Q14. Using the above results, print the probability (i.e relative frequency) of the integers in descending order to show the uniform distribution in random number generation, like the followings:\n",
    "```Python\n",
    "0 0.100463\n",
    "7 0.100172\n",
    "6 0.100151\n",
    "4 0.100140\n",
    "8 0.100045\n",
    "2 0.100001\n",
    "5 0.099844\n",
    "1 0.099791\n",
    "3 0.099741\n",
    "9 0.099652\n",
    "```"
   ]
  },
  {
   "cell_type": "code",
   "execution_count": 17,
   "metadata": {},
   "outputs": [
    {
     "name": "stdout",
     "output_type": "stream",
     "text": [
      "(1, 0.0100465)\n",
      "(6, 0.0100452)\n",
      "(8, 0.0100179)\n",
      "(0, 0.0100104)\n",
      "(5, 0.0099996)\n",
      "(3, 0.0099962)\n",
      "(2, 0.0099936)\n",
      "(7, 0.0099917)\n",
      "(9, 0.0099611)\n",
      "(4, 0.0099378)\n"
     ]
    }
   ],
   "source": [
    "from random import *\n",
    "dic = {}\n",
    "res = []\n",
    "for i in range(1000000):\n",
    "    num = randrange(0, 10)\n",
    "    if num in dic.keys():\n",
    "        dic[num] += 1\n",
    "    else:\n",
    "        dic[num] = 1\n",
    "\n",
    "for i in dic.keys():\n",
    "    dic[i] = dic.get(i) / 10000000\n",
    "\n",
    "res = sorted(dic.items(), key = lambda dic: dic[1], reverse= True)\n",
    "\n",
    "for i in res:\n",
    "    print(i)"
   ]
  },
  {
   "cell_type": "markdown",
   "metadata": {},
   "source": [
    "#### Write a code to answer the questions. \n",
    "*특별한 주문이 없으면 print할 필요없다. 대신, cell의 마지막 줄에 expression을 적어 실행시키면 결과가 output된다.*\n",
    "\n",
    "Q16. Read the vocabulary file. How many words are there?"
   ]
  },
  {
   "cell_type": "code",
   "execution_count": 18,
   "metadata": {},
   "outputs": [
    {
     "name": "stdout",
     "output_type": "stream",
     "text": [
      "19455\n"
     ]
    }
   ],
   "source": [
    "def text_to_words(the_text):\n",
    "    my_substitution = the_text.maketrans(\n",
    "        \"ABCDEFGHIJKLMNOPQRSTUVWXYZ0123456789!\\\"#$%&()*+,-./:;<=>?@[]^_‘{|}~\",\n",
    "        \"abcdefghijklmnopqrstuvwxyz                                        \")\n",
    "    cleaned_text = the_text.translate(my_substitution)\n",
    "    wds = cleaned_text.split()\n",
    "    return wds\n",
    "\n",
    "\n",
    "def get_words_in_book(filename):\n",
    "    with open(filename, 'r') as f:\n",
    "        text = f.read()\n",
    "        f.close()\n",
    "    wds = text_to_words(text)\n",
    "    return wds\n",
    "\n",
    "book_words = get_words_in_book(\"vocab.txt\")\n",
    "print(len(set(book_words[:])))"
   ]
  },
  {
   "cell_type": "markdown",
   "metadata": {},
   "source": [
    "Q17. List the words starting with 'z'."
   ]
  },
  {
   "cell_type": "code",
   "execution_count": 20,
   "metadata": {},
   "outputs": [
    {
     "name": "stdout",
     "output_type": "stream",
     "text": [
      "['zany', 'zap', 'zeal', 'zealous', 'zealously', 'zebra', 'zero', 'zest', 'zigzag', 'zillion', 'zinc', 'zip', 'zipper', 'zit', 'zodiac', 'zombie', 'zone', 'zoo', 'zoological', 'zoologist', 'zoology', 'zoom', 'zucchini']\n"
     ]
    }
   ],
   "source": [
    "lst=[]\n",
    "for i in book_words:\n",
    "    if i[0]=='z': lst.append(i)\n",
    "        \n",
    "print(lst)"
   ]
  },
  {
   "cell_type": "markdown",
   "metadata": {},
   "source": [
    "Q18. Print the words containing 'hope' without using loop like this: (프린트 하라.)\n",
    "```Python\n",
    "hope\n",
    "hopeful\n",
    "...\n",
    "```\n",
    "\n",
    "Hint:\n",
    "- use 'join' method"
   ]
  },
  {
   "cell_type": "code",
   "execution_count": 21,
   "metadata": {},
   "outputs": [
    {
     "name": "stdout",
     "output_type": "stream",
     "text": [
      "hope\n",
      "hopeful\n",
      "hopefully\n",
      "hopefulness\n",
      "hopeless\n",
      "hopelessly\n",
      "hopelessness\n",
      "orthopedics\n"
     ]
    }
   ],
   "source": [
    "for j in book_words:\n",
    "    if 'hope' in j: print(j)"
   ]
  },
  {
   "cell_type": "markdown",
   "metadata": {},
   "source": [
    "Q19.  What is the length of the longest word? "
   ]
  },
  {
   "cell_type": "code",
   "execution_count": 22,
   "metadata": {},
   "outputs": [
    {
     "ename": "TypeError",
     "evalue": "object of type 'int' has no len()",
     "output_type": "error",
     "traceback": [
      "\u001b[0;31m---------------------------------------------------------------------------\u001b[0m",
      "\u001b[0;31mTypeError\u001b[0m                                 Traceback (most recent call last)",
      "\u001b[0;32m<ipython-input-22-6390443f7b1e>\u001b[0m in \u001b[0;36m<module>\u001b[0;34m()\u001b[0m\n\u001b[1;32m      2\u001b[0m \u001b[0mlength_list\u001b[0m\u001b[0;34m=\u001b[0m\u001b[0;34m[\u001b[0m\u001b[0;34m]\u001b[0m\u001b[0;34m\u001b[0m\u001b[0m\n\u001b[1;32m      3\u001b[0m \u001b[0;32mwhile\u001b[0m \u001b[0mlen\u001b[0m\u001b[0;34m(\u001b[0m\u001b[0mbook_words\u001b[0m\u001b[0;34m)\u001b[0m\u001b[0;34m>\u001b[0m \u001b[0my\u001b[0m \u001b[0;34m:\u001b[0m\u001b[0;34m\u001b[0m\u001b[0m\n\u001b[0;32m----> 4\u001b[0;31m     \u001b[0mlength_list\u001b[0m\u001b[0;34m.\u001b[0m\u001b[0mappend\u001b[0m\u001b[0;34m(\u001b[0m\u001b[0mlen\u001b[0m\u001b[0;34m(\u001b[0m\u001b[0my\u001b[0m\u001b[0;34m)\u001b[0m\u001b[0;34m)\u001b[0m\u001b[0;34m\u001b[0m\u001b[0m\n\u001b[0m\u001b[1;32m      5\u001b[0m     \u001b[0my\u001b[0m\u001b[0;34m+=\u001b[0m\u001b[0;36m1\u001b[0m\u001b[0;34m\u001b[0m\u001b[0m\n\u001b[1;32m      6\u001b[0m \u001b[0;34m\u001b[0m\u001b[0m\n",
      "\u001b[0;31mTypeError\u001b[0m: object of type 'int' has no len()"
     ]
    }
   ],
   "source": [
    "y=0\n",
    "length_list=[]\n",
    "while len(book_words)> y :\n",
    "    length_list.append(len(y))\n",
    "    y+=1\n",
    "\n",
    "length_longest=max(length_list)\n",
    "print(length_longest)"
   ]
  },
  {
   "cell_type": "markdown",
   "metadata": {},
   "source": [
    "Q20. What is the longest word? Give one instance if multiple longest words are found."
   ]
  },
  {
   "cell_type": "code",
   "execution_count": null,
   "metadata": {
    "collapsed": true
   },
   "outputs": [],
   "source": [
    "with open(\"vocab.txt\") as file:\n",
    "    r = file.read()\n",
    "vocab = r.split()\n",
    "word=''\n",
    "length = 0\n",
    "for w in vocab:\n",
    "      if len(w) >= length:\n",
    "         length = len(w)\n",
    "         word = w\n",
    "\n",
    "print(word)\n",
    "            "
   ]
  },
  {
   "cell_type": "markdown",
   "metadata": {},
   "source": [
    "Q5. Write a generator function `gen_square_even` to generate square of enven numbers from the positive integers less than n.\n",
    "\n",
    "Hint:\n",
    "- use `yield` statement"
   ]
  }
 ],
 "metadata": {
  "kernelspec": {
   "display_name": "Python 3",
   "language": "python",
   "name": "python3"
  },
  "language_info": {
   "codemirror_mode": {
    "name": "ipython",
    "version": 3
   },
   "file_extension": ".py",
   "mimetype": "text/x-python",
   "name": "python",
   "nbconvert_exporter": "python",
   "pygments_lexer": "ipython3",
   "version": "3.6.4"
  }
 },
 "nbformat": 4,
 "nbformat_minor": 2
}
