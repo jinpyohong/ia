{
 "cells": [
  {
   "cell_type": "markdown",
   "metadata": {},
   "source": [
    "# Coding Exam 1\n",
    "4/2/2018"
   ]
  },
  {
   "cell_type": "markdown",
   "metadata": {},
   "source": [
    "#### 시험전 확인 및 준비\n",
    "1. Download this notebook file( .ipynb)\n",
    "1. Execute the following cell to ensure:\n",
    "\n",
    "> copy `unit_test.py` file to the same directory or this notebook file.\n",
    "\n",
    "> Fetch the vocabulary file 'vocab.txt' to your current directory by executing ...*"
   ]
  },
  {
   "cell_type": "code",
   "execution_count": 1,
   "metadata": {},
   "outputs": [
    {
     "data": {
      "text/plain": [
       "('vocab.txt', <http.client.HTTPMessage at 0x13d8a73f550>)"
      ]
     },
     "execution_count": 1,
     "metadata": {},
     "output_type": "execute_result"
    }
   ],
   "source": [
    "from unit_test import test\n",
    "\n",
    "from urllib.request import urlretrieve\n",
    "url_vocab = 'http://openbookproject.net/thinkcs/python/english3e/_downloads/vocab.txt'\n",
    "urlretrieve(url_vocab, 'vocab.txt')"
   ]
  },
  {
   "cell_type": "markdown",
   "metadata": {},
   "source": [
    "#### 답안 제출\n",
    "제출하기 전에 여러분이 답한 것 모두를 새롭게 실행해서 결과를 다시 산출해야 한다. 그렇게 하려면, Jupyer notebook의 menu에서\n",
    "\n",
    "1. **Kernel >> Restart & All** 으로 Kernel을 다시 start시키고 순서대로 모든 cell을 실행시켜 output을 얻는다.\n",
    "2. **Save & Checkpoint** icon click하여 저장\n",
    "3. 저장된 **.ipynb** 파일을 e-class에 upload한다."
   ]
  },
  {
   "cell_type": "markdown",
   "metadata": {},
   "source": [
    "----\n",
    "## 시험문제"
   ]
  },
  {
   "cell_type": "markdown",
   "metadata": {},
   "source": [
    "Q1.\tWrite a function `add_string` to add 'ing' at the end of a given string (length should be at least 3). If the given string is already ends with 'ing' then add 'ly' instead. If the string length of the given string is less than 3, leave it unchanged."
   ]
  },
  {
   "cell_type": "code",
   "execution_count": 2,
   "metadata": {},
   "outputs": [
    {
     "name": "stdout",
     "output_type": "stream",
     "text": [
      "Test at line 15 ok.\n",
      "Test at line 16 ok.\n"
     ]
    }
   ],
   "source": [
    "from unit_test import test\n",
    "\n",
    "from urllib.request import urlretrieve\n",
    "url_vocab = 'http://openbookproject.net/thinkcs/python/english3e/_downloads/vocab.txt'\n",
    "urlretrieve(url_vocab, 'vocab.txt')\n",
    "def add_string(s):\n",
    "    text = s[-3:]\n",
    "    if len(s) >= 3:\n",
    "        if text == 'ing':\n",
    "            s +='ly'\n",
    "            return s\n",
    "        else:\n",
    "            s += 'ing'\n",
    "            return s\n",
    "test(add_string('abc') == 'abcing')\n",
    "test(add_string('string') == 'stringly')"
   ]
  },
  {
   "cell_type": "markdown",
   "metadata": {},
   "source": [
    "Q2. Write a program to print the following pattern, using a `for` loop.\n",
    "```Python\n",
    "* \n",
    "* * \n",
    "* * * \n",
    "* * * * \n",
    "* * * * * \n",
    "* * * * \n",
    "* * * \n",
    "* * \n",
    "*\n",
    "```"
   ]
  },
  {
   "cell_type": "code",
   "execution_count": 3,
   "metadata": {},
   "outputs": [
    {
     "name": "stdout",
     "output_type": "stream",
     "text": [
      "*\n",
      "**\n",
      "***\n",
      "****\n",
      "*****\n",
      "****\n",
      "***\n",
      "**\n",
      "*\n"
     ]
    }
   ],
   "source": [
    "for i in range(0, 5):\n",
    "    print(\"*\" * (i + 1))\n",
    "for j in range(5 - 1, 0, -1):\n",
    "    print(\"*\" * j)"
   ]
  },
  {
   "cell_type": "markdown",
   "metadata": {},
   "source": [
    "Q3. Write a function `square_of_even` to make a list whose elements are square of even numbers from the positive integers less than n, by using `for` loop."
   ]
  },
  {
   "cell_type": "code",
   "execution_count": 4,
   "metadata": {},
   "outputs": [
    {
     "name": "stdout",
     "output_type": "stream",
     "text": [
      "Test at line 7 ok.\n",
      "Test at line 8 ok.\n",
      "Test at line 9 ok.\n"
     ]
    }
   ],
   "source": [
    "def square_of_even(n):\n",
    "    L=[]\n",
    "    for i in range(0,n):\n",
    "        if i%2 == 0 and i!= 0:\n",
    "            L.append(i**2)\n",
    "    return L\n",
    "test(square_of_even(10) == [4, 16, 36, 64])\n",
    "test(square_of_even(9) == [4, 16, 36, 64])\n",
    "test(square_of_even(2) == [])"
   ]
  },
  {
   "cell_type": "markdown",
   "metadata": {},
   "source": [
    "Q4. Rewrite a function `square_of_even` to make a list whose elements are square of even numbers from the positive integers less than n, by using list comprehension."
   ]
  },
  {
   "cell_type": "code",
   "execution_count": 5,
   "metadata": {},
   "outputs": [
    {
     "name": "stdout",
     "output_type": "stream",
     "text": [
      "Test at line 3 ok.\n",
      "Test at line 4 ok.\n",
      "Test at line 5 ok.\n"
     ]
    }
   ],
   "source": [
    "def square_of_even(n):\n",
    "    return [x**2 for x in range(0,n) if x%2 == 0 and x!= 0 ]\n",
    "test(square_of_even(10) == [4, 16, 36, 64])\n",
    "test(square_of_even(9) == [4, 16, 36, 64])\n",
    "test(square_of_even(2) == [])"
   ]
  },
  {
   "cell_type": "markdown",
   "metadata": {},
   "source": [
    "Q5. Write a generator function `gen_square_even` to generate square of enven numbers from the positive integers less than n.\n",
    "\n",
    "Hint:\n",
    "- use `yield` statement"
   ]
  },
  {
   "cell_type": "code",
   "execution_count": 6,
   "metadata": {},
   "outputs": [
    {
     "name": "stdout",
     "output_type": "stream",
     "text": [
      "Test at line 7 ok.\n",
      "Test at line 8 ok.\n"
     ]
    }
   ],
   "source": [
    "def square_of_even(n):\n",
    "    return [x**2 for x in range(0,n) if x%2 == 0 and x!= 0 ]\n",
    "def gen_square_even(n):\n",
    "    for i in range(n):\n",
    "        if i%2==0 and i!=0:\n",
    "            yield i**2\n",
    "test(list(gen_square_even(10)) == [4, 16, 36, 64])\n",
    "test(sum(gen_square_even(10)) == sum(square_of_even(10)))"
   ]
  },
  {
   "cell_type": "markdown",
   "metadata": {},
   "source": [
    "Q6. Write a function `is_leap_year` whether tell a leap year or not.\n",
    "\n",
    "> A leap year is\n",
    "\n",
    "> every year exactly divisible by 4, except for years that are exactly divisible by 100, but these centurial years are leap years if they are exactly divisible by 400. \n",
    "\n",
    ">For example, the years 1700, 1800, and 1900 were not leap years, but the years 1600 and 2000 were"
   ]
  },
  {
   "cell_type": "code",
   "execution_count": 7,
   "metadata": {},
   "outputs": [
    {
     "name": "stdout",
     "output_type": "stream",
     "text": [
      "Test at line 6 ok.\n",
      "Test at line 7 ok.\n",
      "Test at line 8 ok.\n",
      "Test at line 9 ok.\n"
     ]
    }
   ],
   "source": [
    "def is_leap_year(year):\n",
    "    if (year%4 == 0 and year%100 != 0) or year%400 == 0:\n",
    "        return True\n",
    "    else:\n",
    "        return False\n",
    "test(is_leap_year(2003) == False)\n",
    "test(is_leap_year(2004) == True)\n",
    "test(is_leap_year(1900) == False)\n",
    "test(is_leap_year(2000) == True)"
   ]
  },
  {
   "cell_type": "markdown",
   "metadata": {},
   "source": [
    "Q7. Write a funtion `days_in_month` which returns the number of days for a given month of the year."
   ]
  },
  {
   "cell_type": "code",
   "execution_count": null,
   "metadata": {},
   "outputs": [
    {
     "name": "stdout",
     "output_type": "stream",
     "text": [
      "Test at line 30 ok.\n",
      "Test at line 31 ok.\n",
      "Test at line 32 ok.\n",
      "Test at line 33 FAILED.\n"
     ]
    }
   ],
   "source": [
    "def days_in_month(year,month):\n",
    "    day={}\n",
    "    if is_leap_year(year) == True:\n",
    "        day[1]=31\n",
    "        day[2]=29\n",
    "        day[3]=31\n",
    "        day[4]=30\n",
    "        day[5]=31\n",
    "        day[6]=30\n",
    "        day[7]=31\n",
    "        day[8]=31\n",
    "        day[9]=30\n",
    "        day[10]=31\n",
    "        day[11]=30\n",
    "        day[12]=31\n",
    "    else:\n",
    "        day[1]=31\n",
    "        day[2]=28\n",
    "        day[3]=31\n",
    "        day[4]=30\n",
    "        day[5]=31\n",
    "        day[6]=30\n",
    "        day[7]=31\n",
    "        day[8]=31\n",
    "        day[9]=30\n",
    "        day[10]=31\n",
    "        day[11]=30\n",
    "        day[12]=31\n",
    "    return day[month]\n",
    "test(days_in_month(2018, 12) == 31)\n",
    "test(days_in_month(2000, 2) == 29)\n",
    "test(days_in_month(2004, 9) == 30)\n",
    "test(days_in_month(2018, 2) == 31)"
   ]
  },
  {
   "cell_type": "markdown",
   "metadata": {},
   "source": [
    "Q8. Write a program which accepts a sequence of comma-separated numbers from console and generate a list and a tuple which contains every number.\n",
    "\n",
    "Suppose the following input is supplied to the program: (using `input()`)\n",
    "```Python\n",
    "34,67,55,33,12,98\n",
    "```\n",
    "\n",
    "Then, the output should be: (using `print(`))\n",
    "```Python\n",
    "['34', '67', '55', '33', '12', '98']\n",
    "('34', '67', '55', '33', '12', '98')\n",
    "```\n",
    "\n",
    "Hints: \n",
    "- Use `split()` method to make a list from the comma-separated strings\n",
    "- `tuple(`) method can convert list to tuple"
   ]
  },
  {
   "cell_type": "code",
   "execution_count": null,
   "metadata": {},
   "outputs": [],
   "source": [
    "n=input('숫자 입력:')\n",
    "m = tuple(n.split(','))\n",
    "print (n.split(','))\n",
    "print (m)"
   ]
  },
  {
   "cell_type": "markdown",
   "metadata": {},
   "source": [
    "Q9. Write a function `two_dim` **using the list comprehensiion** which takes 2 digits, m,n as parameters and generates a 2-dimensional m x n array. The element value in the i-th row and j-th column of the array should be `i*10 + j`."
   ]
  },
  {
   "cell_type": "code",
   "execution_count": null,
   "metadata": {},
   "outputs": [],
   "source": [
    "def two_dim(i,j):\n",
    "    \n",
    "    return[[cols+(rows*10) for cols in range(j)]for rows in range(i)]\n",
    "    \n",
    "test(two_dim(3, 5) == \n",
    "    [[0, 1, 2, 3, 4], [10, 11, 12, 13, 14], [20, 21, 22, 23, 24]])"
   ]
  },
  {
   "cell_type": "markdown",
   "metadata": {},
   "source": [
    "Q10. Rewrite the above function using `for` loop and `append` method"
   ]
  },
  {
   "cell_type": "code",
   "execution_count": null,
   "metadata": {},
   "outputs": [],
   "source": [
    "def two_dim(i,j):\n",
    "    L=[]\n",
    "    for rows in range(i):\n",
    "        M=[]\n",
    "        for  cols in range(j):\n",
    "            M.append(cols+(rows*10))\n",
    "        L.append(M)\n",
    "    return L\n",
    "test(two_dim(3, 5) == \n",
    "    [[0, 1, 2, 3, 4], [10, 11, 12, 13, 14], [20, 21, 22, 23, 24]])"
   ]
  },
  {
   "cell_type": "markdown",
   "metadata": {},
   "source": [
    "Q11. Write a function `unique_sort` that accepts a sequence of whitespace separated words as input and returns the words after removing all duplicate words and sorting them alphanumerically.\n",
    "\n",
    "Hint:\n",
    "- Use `set()` function to remove duplicate words."
   ]
  },
  {
   "cell_type": "code",
   "execution_count": null,
   "metadata": {},
   "outputs": [],
   "source": [
    "text = \" hello  world and practice makes perfect\\nand hello world again \"\n",
    "\n",
    "def unique_sort(text):\n",
    "    text = text.split()\n",
    "    rem= set(text)\n",
    "    re = list(rem)\n",
    "    sorting = sorted(re)\n",
    "    return ' '.join(sorting)\n",
    "test(unique_sort(text) == \"again and hello makes perfect practice world\")"
   ]
  },
  {
   "cell_type": "code",
   "execution_count": null,
   "metadata": {},
   "outputs": [],
   "source": [
    "# Q12. Rewrite the above function by writing your code directly for ensuring uniqueness, instead of `set()`. "
   ]
  },
  {
   "cell_type": "code",
   "execution_count": null,
   "metadata": {},
   "outputs": [],
   "source": [
    "text = \" hello  world and practice makes perfect\\nand hello world again \"\n",
    "from unit_test import test\n",
    "import operator\n",
    "tex =''\n",
    "def unique_sort(text):\n",
    "    counter = {}\n",
    "    text = text.split()\n",
    "    for i in text:\n",
    "        if i not in counter:\n",
    "            counter[i] = 1\n",
    "        else:\n",
    "            counter[i] += 1\n",
    "    top = sorted(counter.items(), key=operator.itemgetter(0))\n",
    "    top = dict(top)\n",
    "    tex = top.keys()\n",
    "    tex = ' '.join(tex)\n",
    "    return tex\n",
    "        \n",
    "test(unique_sort(text) == \"again and hello makes perfect practice world\")"
   ]
  },
  {
   "cell_type": "markdown",
   "metadata": {},
   "source": [
    "Q13. Write a program that counts the frequency of randomly chosen integers between 0 to 9 (including both end), repeating 1,000,000 times. \n",
    "\n",
    "Output will be like this (frequecies may be different from yours):\n",
    "```Python\n",
    "{0: 100463, 4: 100140, 1: 99791, 6: 100151, 8: 100045, 5: 99844, 2: 100001, 3: 99741, 9: 99652, 7: 100172}\n",
    "```\n",
    "\n",
    "Hint:\n",
    "- use `randrange` from `random` module"
   ]
  },
  {
   "cell_type": "code",
   "execution_count": null,
   "metadata": {},
   "outputs": [],
   "source": [
    "import random\n",
    "counter={}\n",
    "n=1\n",
    "while n <=1000000:\n",
    "    n = n+1\n",
    "    i=random.randrange(0,9)\n",
    "    if i not in counter:\n",
    "        counter[i] = 1\n",
    "    else:\n",
    "        counter[i] += 1\n",
    "print(counter)"
   ]
  },
  {
   "cell_type": "markdown",
   "metadata": {},
   "source": [
    "Q14. Using the above results, print the probability (i.e relative frequency) of the integers in descending order to show the uniform distribution in random number generation, like the followings:\n",
    "```Python\n",
    "0 0.100463\n",
    "7 0.100172\n",
    "6 0.100151\n",
    "4 0.100140\n",
    "8 0.100045\n",
    "2 0.100001\n",
    "5 0.099844\n",
    "1 0.099791\n",
    "3 0.099741\n",
    "9 0.099652\n",
    "```"
   ]
  },
  {
   "cell_type": "code",
   "execution_count": null,
   "metadata": {},
   "outputs": [],
   "source": [
    "top = sorted(counter.items(), key=operator.itemgetter(1))\n",
    "top = dict(top)\n",
    "for k,v in top.items():\n",
    "    print(k,v/1000000)"
   ]
  },
  {
   "cell_type": "markdown",
   "metadata": {},
   "source": [
    "#### Write a code to answer the questions. \n",
    "*특별한 주문이 없으면 print할 필요없다. 대신, cell의 마지막 줄에 expression을 적어 실행시키면 결과가 output된다.*\n",
    "\n",
    "Q16. Read the vocabulary file. How many words are there?"
   ]
  },
  {
   "cell_type": "code",
   "execution_count": null,
   "metadata": {},
   "outputs": [],
   "source": [
    "file = open('vocab.txt')\n",
    "the_text = file.read()\n",
    "count = 0\n",
    "frequency ={}\n",
    "text = the_text.maketrans(\n",
    "    # If you find any of these\n",
    "  \"ABCDEFGHIJKLMNOPQRSTUVWXYZ0123456789!\\\"#$%&()*+,-./:;<=>?@[]^_`{|}~\\\\\",\n",
    "  # Replace them by these\n",
    "  \"abcdefghijklmnopqrstuvwxyz                                         \")# 작은따옴표(') 생략 아래 코드에서 분리\n",
    "cleaned_text = the_text.translate(text)\n",
    "cleaned_text = cleaned_text.split()\n",
    "\n",
    "\n",
    "for word in cleaned_text: #단어중간에 들어있거나 글자끝인 s뒤에붙은 '빼고는 다 삭제하고 단어 카운트\n",
    "    if word[0] == \"'\" and word[-1] == \"'\" and len(word) != 1:\n",
    "        word = word[1:-1]\n",
    "        count = frequency.get(word, 0)\n",
    "        frequency[word] = count + 1\n",
    "\n",
    "    elif word[0] == \"'\" or word[-1] == \"'\":\n",
    "        if len(word) == 1:\n",
    "\n",
    "            pass\n",
    "\n",
    "        else:\n",
    "            if word[-2] == \"s\" and word[-1] == \"'\":\n",
    "                count = frequency.get(word,0)\n",
    "                frequency[word] = count +1\n",
    "            elif word[-2] != \"s\" and word[-1] == \"'\":\n",
    "                word = word[:-1]\n",
    "                count = frequency.get(word, 0)\n",
    "                frequency[word] = count + 1\n",
    "            elif word[0] == \"'\":\n",
    "                word = word[1:]\n",
    "                count = frequency.get(word, 0)\n",
    "                frequency[word] = count + 1\n",
    "            else:\n",
    "                pass\n",
    "\n",
    "    else:\n",
    "        count = frequency.get(word,0)\n",
    "        frequency[word] = count +1\n",
    "print(\"\\nQ16\\nhow many different words are used in Alice in Wonderland?:%d words\" %len(frequency),'\\n')\n",
    "len(frequency)"
   ]
  },
  {
   "cell_type": "markdown",
   "metadata": {},
   "source": [
    "Q17. List the words starting with 'z'."
   ]
  },
  {
   "cell_type": "code",
   "execution_count": null,
   "metadata": {},
   "outputs": [],
   "source": [
    "cnt = 0\n",
    "wit_z =[]\n",
    "\n",
    "for i in frequency:\n",
    "    if i.startswith('z'):\n",
    "        wit_z.append(i)\n",
    "print(wit_z)\n",
    "wit_z"
   ]
  },
  {
   "cell_type": "markdown",
   "metadata": {},
   "source": [
    "Q18. Print the words containing 'hope' without using loop like this: (프린트 하라.)\n",
    "```Python\n",
    "hope\n",
    "hopeful\n",
    "...\n",
    "```\n",
    "\n",
    "Hint:\n",
    "- use 'join' method"
   ]
  },
  {
   "cell_type": "code",
   "execution_count": null,
   "metadata": {},
   "outputs": [],
   "source": [
    "hope = []\n",
    "for i in frequency:\n",
    "    if 'hope' in i:\n",
    "        hope.append(i)\n",
    "print('\\n'.join(hope))\n"
   ]
  },
  {
   "cell_type": "markdown",
   "metadata": {},
   "source": [
    "Q19.  What is the length of the longest word? "
   ]
  },
  {
   "cell_type": "code",
   "execution_count": null,
   "metadata": {},
   "outputs": [],
   "source": [
    "f=[]\n",
    "f=frequency.keys()\n",
    "length = sorted(f, key=lambda f: len(f) )\n",
    "l=length[len(length)-1]\n",
    "print(l)\n",
    "len(l)"
   ]
  },
  {
   "cell_type": "markdown",
   "metadata": {},
   "source": [
    "Q20. What is the longest word? Give one instance if multiple longest words are found."
   ]
  },
  {
   "cell_type": "code",
   "execution_count": null,
   "metadata": {},
   "outputs": [],
   "source": [
    "L=[]\n",
    "most=top[0][1]\n",
    "for i in range(len(top)):\n",
    "    if most == top[i][1]:\n",
    "        L.append(top[i][0])\n",
    "    else:\n",
    "        print(L)\n",
    "        break\n",
    "\n"
   ]
  },
  {
   "cell_type": "code",
   "execution_count": null,
   "metadata": {},
   "outputs": [],
   "source": []
  }
 ],
 "metadata": {
  "kernelspec": {
   "display_name": "Python 3",
   "language": "python",
   "name": "python3"
  },
  "language_info": {
   "codemirror_mode": {
    "name": "ipython",
    "version": 3
   },
   "file_extension": ".py",
   "mimetype": "text/x-python",
   "name": "python",
   "nbconvert_exporter": "python",
   "pygments_lexer": "ipython3",
   "version": "3.6.4"
  }
 },
 "nbformat": 4,
 "nbformat_minor": 2
}
