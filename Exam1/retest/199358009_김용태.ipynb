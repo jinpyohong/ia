{
 "cells": [
  {
   "cell_type": "markdown",
   "metadata": {},
   "source": [
    "# Coding Exam 1\n",
    "4/2/2018"
   ]
  },
  {
   "cell_type": "markdown",
   "metadata": {},
   "source": [
    "#### 시험전 확인 및 준비\n",
    "1. Download this notebook file( .ipynb)\n",
    "1. Execute the following cell to ensure:\n",
    "\n",
    "> copy `unit_test.py` file to the same directory or this notebook file.\n",
    "\n",
    "> Fetch the vocabulary file 'vocab.txt' to your current directory by executing ...*"
   ]
  },
  {
   "cell_type": "code",
   "execution_count": 1,
   "metadata": {},
   "outputs": [
    {
     "data": {
      "text/plain": [
       "('vocab.txt', <http.client.HTTPMessage at 0x7fc5bc1a2dd8>)"
      ]
     },
     "execution_count": 1,
     "metadata": {},
     "output_type": "execute_result"
    }
   ],
   "source": [
    "from unit_test import test\n",
    "\n",
    "from urllib.request import urlretrieve\n",
    "url_vocab = 'http://openbookproject.net/thinkcs/python/english3e/_downloads/vocab.txt'\n",
    "urlretrieve(url_vocab, 'vocab.txt')"
   ]
  },
  {
   "cell_type": "markdown",
   "metadata": {},
   "source": [
    "#### 답안 제출\n",
    "제출하기 전에 여러분이 답한 것 모두를 새롭게 실행해서 결과를 다시 산출해야 한다. 그렇게 하려면, Jupyer notebook의 menu에서\n",
    "\n",
    "1. **Kernel >> Restart & All** 으로 Kernel을 다시 start시키고 순서대로 모든 cell을 실행시켜 output을 얻는다.\n",
    "2. **Save & Checkpoint** icon click하여 저장\n",
    "3. 저장된 **.ipynb** 파일을 e-class에 upload한다."
   ]
  },
  {
   "cell_type": "markdown",
   "metadata": {},
   "source": [
    "----\n",
    "## 시험문제"
   ]
  },
  {
   "cell_type": "markdown",
   "metadata": {},
   "source": [
    "Q1.\tWrite a function `add_string` to add 'ing' at the end of a given string (length should be at least 3). If the given string is already ends with 'ing' then add 'ly' instead. If the string length of the given string is less than 3, leave it unchanged."
   ]
  },
  {
   "cell_type": "code",
   "execution_count": 2,
   "metadata": {},
   "outputs": [
    {
     "name": "stdout",
     "output_type": "stream",
     "text": [
      "abcing\n",
      "Test at line 14 ok.\n",
      "stringly\n",
      "Test at line 15 ok.\n"
     ]
    }
   ],
   "source": [
    "from unit_test import test\n",
    "\n",
    "def add_string(s):\n",
    "    l = len(s)\n",
    "    if l < 3:\n",
    "        return s\n",
    "    elif s[l-3] == 'i' and s[l-2] == 'n' and s[l-1] == 'g':\n",
    "        s = s + 'ly'\n",
    "    else:\n",
    "        s = s + 'ing'\n",
    "    print(s)\n",
    "    return s\n",
    "    \n",
    "test(add_string('abc') == 'abcing')\n",
    "test(add_string('string') == 'stringly')"
   ]
  },
  {
   "cell_type": "markdown",
   "metadata": {},
   "source": [
    "Q2. Write a program to print the following pattern, using a `for` loop.\n",
    "```Python\n",
    "* \n",
    "* * \n",
    "* * * \n",
    "* * * * \n",
    "* * * * * \n",
    "* * * * \n",
    "* * * \n",
    "* * \n",
    "*\n",
    "```"
   ]
  },
  {
   "cell_type": "code",
   "execution_count": 3,
   "metadata": {},
   "outputs": [
    {
     "name": "stdout",
     "output_type": "stream",
     "text": [
      "*\n",
      "**\n",
      "***\n",
      "****\n",
      "*****\n",
      "****\n",
      "***\n",
      "**\n",
      "*\n"
     ]
    }
   ],
   "source": [
    "n = 5\n",
    "for i in range(0, n*2-1):\n",
    "    i = abs(n - i -1)\n",
    "    #print(i)\n",
    "    s = ''\n",
    "    for j in range(0, n-i):\n",
    "        s += '*'\n",
    "    print(s)\n",
    "        "
   ]
  },
  {
   "cell_type": "markdown",
   "metadata": {},
   "source": [
    "Q3. Write a function `square_of_even` to make a list whose elements are square of even numbers from the positive integers less than n, by using `for` loop."
   ]
  },
  {
   "cell_type": "code",
   "execution_count": 4,
   "metadata": {},
   "outputs": [
    {
     "name": "stdout",
     "output_type": "stream",
     "text": [
      "Test at line 8 ok.\n",
      "Test at line 9 ok.\n",
      "Test at line 10 ok.\n"
     ]
    }
   ],
   "source": [
    "def square_of_even(n):\n",
    "    r = []\n",
    "    for i in range(1, n):\n",
    "        if i % 2 == 0:\n",
    "            r.append(i*i)\n",
    "    return r\n",
    "\n",
    "test(square_of_even(10) == [4, 16, 36, 64])\n",
    "test(square_of_even(9) == [4, 16, 36, 64])\n",
    "test(square_of_even(2) == [])"
   ]
  },
  {
   "cell_type": "markdown",
   "metadata": {},
   "source": [
    "Q4. Rewrite a function `square_of_even` to make a list whose elements are square of even numbers from the positive integers less than n, by using list comprehension."
   ]
  },
  {
   "cell_type": "code",
   "execution_count": 5,
   "metadata": {},
   "outputs": [
    {
     "name": "stdout",
     "output_type": "stream",
     "text": [
      "[4, 16, 36, 64]\n",
      "Test at line 6 ok.\n",
      "[4, 16, 36, 64]\n",
      "Test at line 7 ok.\n",
      "[]\n",
      "Test at line 8 ok.\n"
     ]
    }
   ],
   "source": [
    "def square_of_even(n):\n",
    "    r = [i*i for i in range(2,n,2)]\n",
    "    print(r)\n",
    "    return r\n",
    "\n",
    "test(square_of_even(10) == [4, 16, 36, 64])\n",
    "test(square_of_even(9) == [4, 16, 36, 64])\n",
    "test(square_of_even(2) == [])"
   ]
  },
  {
   "cell_type": "markdown",
   "metadata": {},
   "source": [
    "Q5. Write a generator function `gen_square_even` to generate square of enven numbers from the positive integers less than n.\n",
    "\n",
    "Hint:\n",
    "- use `yield` statement"
   ]
  },
  {
   "cell_type": "code",
   "execution_count": 6,
   "metadata": {},
   "outputs": [
    {
     "name": "stdout",
     "output_type": "stream",
     "text": [
      "4\n",
      "16\n",
      "36\n",
      "64\n",
      "[4, 16, 36, 64]\n",
      "Test at line 9 ok.\n",
      "[4, 16, 36, 64]\n",
      "Test at line 10 ok.\n"
     ]
    }
   ],
   "source": [
    "def gen_square_even(n):\n",
    "    for i in range(1, n):\n",
    "        if i % 2 == 0:\n",
    "            yield i*i\n",
    "            \n",
    "for n in gen_square_even(9):\n",
    "    print(n)\n",
    "print(list(gen_square_even(10)))\n",
    "test(list(gen_square_even(10)) == [4, 16, 36, 64])\n",
    "test(sum(gen_square_even(10)) == sum(square_of_even(10)))"
   ]
  },
  {
   "cell_type": "markdown",
   "metadata": {},
   "source": [
    "Q6. Write a function `is_leap_year` whether tell a leap year or not.\n",
    "\n",
    "> A leap year is\n",
    "\n",
    "> every year exactly divisible by 4, except for years that are exactly divisible by 100, but these centurial years are leap years if they are exactly divisible by 400. \n",
    "\n",
    ">For example, the years 1700, 1800, and 1900 were not leap years, but the years 1600 and 2000 were"
   ]
  },
  {
   "cell_type": "code",
   "execution_count": 7,
   "metadata": {},
   "outputs": [
    {
     "name": "stdout",
     "output_type": "stream",
     "text": [
      "Test at line 4 ok.\n",
      "Test at line 5 ok.\n",
      "Test at line 6 ok.\n",
      "Test at line 7 ok.\n"
     ]
    }
   ],
   "source": [
    "def is_leap_year(y):\n",
    "    return y % 4 == 0 and y % 100 != 0 or y % 400 == 0\n",
    "\n",
    "test(is_leap_year(2003) == False)\n",
    "test(is_leap_year(2004) == True)\n",
    "test(is_leap_year(1900) == False)\n",
    "test(is_leap_year(2000) == True)"
   ]
  },
  {
   "cell_type": "markdown",
   "metadata": {},
   "source": [
    "Q7. Write a funtion `days_in_month` which returns the number of days for a given month of the year."
   ]
  },
  {
   "cell_type": "code",
   "execution_count": 8,
   "metadata": {},
   "outputs": [
    {
     "name": "stdout",
     "output_type": "stream",
     "text": [
      "Test at line 8 ok.\n",
      "Test at line 9 ok.\n",
      "Test at line 10 ok.\n",
      "Test at line 11 ok.\n"
     ]
    }
   ],
   "source": [
    "def days_in_month(y, m):\n",
    "    r = [31,28,31,30,31,30,31,31,30,31,30,31]\n",
    "    days = r[m-1]\n",
    "    if m == 2 and is_leap_year(y):\n",
    "        days = 29\n",
    "    return days        \n",
    "\n",
    "test(days_in_month(2018, 12) == 31)\n",
    "test(days_in_month(2000, 2) == 29)\n",
    "test(days_in_month(2004, 9) == 30)\n",
    "test(days_in_month(2018, 2) == 28)"
   ]
  },
  {
   "cell_type": "markdown",
   "metadata": {},
   "source": [
    "Q8. Write a program which accepts a sequence of comma-separated numbers from console and generate a list and a tuple which contains every number.\n",
    "\n",
    "Suppose the following input is supplied to the program: (using `input()`)\n",
    "```Python\n",
    "34,67,55,33,12,98\n",
    "```\n",
    "\n",
    "Then, the output should be: (using `print(`))\n",
    "```Python\n",
    "['34', '67', '55', '33', '12', '98']\n",
    "('34', '67', '55', '33', '12', '98')\n",
    "```\n",
    "\n",
    "Hints: \n",
    "- Use `split()` method to make a list from the comma-separated strings\n",
    "- `tuple(`) method can convert list to tuple"
   ]
  },
  {
   "cell_type": "code",
   "execution_count": 9,
   "metadata": {},
   "outputs": [
    {
     "name": "stdout",
     "output_type": "stream",
     "text": [
      "34,67,55,33,12,98\n",
      "['34', '67', '55', '33', '12', '98']\n",
      "('34', '67', '55', '33', '12', '98')\n"
     ]
    }
   ],
   "source": [
    "s = input()\n",
    "x = s.split(',')\n",
    "xt = tuple(x)\n",
    "print(x)\n",
    "print(xt)"
   ]
  },
  {
   "cell_type": "markdown",
   "metadata": {},
   "source": [
    "Q9. Write a function `two_dim` **using the list comprehensiion** which takes 2 digits, m,n as parameters and generates a 2-dimensional m x n array. The element value in the i-th row and j-th column of the array should be `i*10 + j`."
   ]
  },
  {
   "cell_type": "code",
   "execution_count": 10,
   "metadata": {},
   "outputs": [
    {
     "name": "stdout",
     "output_type": "stream",
     "text": [
      "[[0, 1, 2, 3, 4], [10, 11, 12, 13, 14], [20, 21, 22, 23, 24]]\n",
      "Test at line 5 ok.\n"
     ]
    }
   ],
   "source": [
    "def two_dim(x, y):\n",
    "    return [[j for j in range(10*i, 10*i+y)] for i in range(0, x)]\n",
    "\n",
    "print(two_dim(3,5))\n",
    "test(two_dim(3, 5) == [[0, 1, 2, 3, 4], [10, 11, 12, 13, 14], [20, 21, 22, 23, 24]])"
   ]
  },
  {
   "cell_type": "markdown",
   "metadata": {},
   "source": [
    "Q10. Rewrite the above function using `for` loop and `append` method"
   ]
  },
  {
   "cell_type": "code",
   "execution_count": 11,
   "metadata": {},
   "outputs": [
    {
     "name": "stdout",
     "output_type": "stream",
     "text": [
      "[[0, 1, 2, 3, 4], [10, 11, 12, 13, 14], [20, 21, 22, 23, 24]]\n",
      "Test at line 12 ok.\n"
     ]
    }
   ],
   "source": [
    "def two_dim(x, y):\n",
    "    r = []\n",
    "    for i in range(0, x):\n",
    "        t = []\n",
    "        for j in range(10*i, 10*i+y):\n",
    "            t.append(j)\n",
    "        r.append(t)\n",
    "       \n",
    "    return r\n",
    "\n",
    "print(two_dim(3, 5))\n",
    "test(two_dim(3, 5) == [[0, 1, 2, 3, 4], [10, 11, 12, 13, 14], [20, 21, 22, 23, 24]])"
   ]
  },
  {
   "cell_type": "markdown",
   "metadata": {},
   "source": [
    "Q11. Write a function `unique_sort` that accepts a sequence of whitespace separated words as input and returns the words after removing all duplicate words and sorting them alphanumerically.\n",
    "\n",
    "Hint:\n",
    "- Use `set()` function to remove duplicate words."
   ]
  },
  {
   "cell_type": "code",
   "execution_count": 12,
   "metadata": {},
   "outputs": [
    {
     "name": "stdout",
     "output_type": "stream",
     "text": [
      "again and hello makes perfect practice world\n",
      "Test at line 15 ok.\n"
     ]
    }
   ],
   "source": [
    "def unique_sort(s):\n",
    "    s = s.replace('\\n', ' ')\n",
    "    x = s.split(' ')\n",
    "    x = list(set(x))\n",
    "    x.sort()\n",
    "    r = ''\n",
    "    for s in x:\n",
    "        if r != '':\n",
    "            r += ' '\n",
    "        r += s\n",
    "    print(r)\n",
    "    return r\n",
    "\n",
    "text = \" hello  world and practice makes perfect\\nand hello world again \"\n",
    "test(unique_sort(text) == \"again and hello makes perfect practice world\")"
   ]
  },
  {
   "cell_type": "markdown",
   "metadata": {},
   "source": [
    "Q12. Rewrite the above function by writing your code directly for ensuring uniqueness, instead of `set()`. "
   ]
  },
  {
   "cell_type": "code",
   "execution_count": 13,
   "metadata": {},
   "outputs": [
    {
     "name": "stdout",
     "output_type": "stream",
     "text": [
      "['', 'hello', 'world', 'and', 'practice', 'makes', 'perfect', 'again']\n",
      "again and hello makes perfect practice world\n",
      "Test at line 19 ok.\n"
     ]
    }
   ],
   "source": [
    "def unique_sort(s):\n",
    "    s = s.replace('\\n', ' ')\n",
    "    t = s.split(' ')\n",
    "    x = []\n",
    "    for w in t:\n",
    "        if not w in x:\n",
    "            x.append(w)\n",
    "    print(x)\n",
    "    x.sort()\n",
    "    r = ''\n",
    "    for s in x:\n",
    "        if r != '':\n",
    "            r += ' '\n",
    "        r += s\n",
    "    print(r)\n",
    "    return r\n",
    "\n",
    "text = \" hello  world and practice makes perfect\\nand hello world again \"\n",
    "test(unique_sort(text) == \"again and hello makes perfect practice world\")"
   ]
  },
  {
   "cell_type": "markdown",
   "metadata": {},
   "source": [
    "Q13. Write a program that counts the frequency of randomly chosen integers between 0 to 9 (including both end), repeating 1,000,000 times. \n",
    "\n",
    "Output will be like this (frequecies may be different from yours):\n",
    "```Python\n",
    "{0: 100463, 4: 100140, 1: 99791, 6: 100151, 8: 100045, 5: 99844, 2: 100001, 3: 99741, 9: 99652, 7: 100172}\n",
    "```\n",
    "\n",
    "Hint:\n",
    "- use `randrange` from `random` module"
   ]
  },
  {
   "cell_type": "code",
   "execution_count": 14,
   "metadata": {
    "scrolled": true
   },
   "outputs": [
    {
     "name": "stdout",
     "output_type": "stream",
     "text": [
      "[99712, 99716, 99951, 100135, 99937, 100475, 99904, 99726, 100261, 100183]\n",
      "{0:99712, 1:99716, 2:99951, 3:100135, 4:99937, 5:100475, 6:99904, 7:99726, 8:100261, 9:100183}\n"
     ]
    }
   ],
   "source": [
    "from random import randrange\n",
    "x = [0,0,0,0,0,0,0,0,0,0]\n",
    "for i in range(0, 1000000):\n",
    "    n = randrange(0, 10)\n",
    "    x[n] += 1\n",
    "print(x)\n",
    "s = '{'\n",
    "for i in range(0, 10):\n",
    "    if s != '{':\n",
    "        s += ', '\n",
    "    s += str(i) + ':' + str(x[i])\n",
    "s += '}'\n",
    "print(s)\n",
    "    "
   ]
  },
  {
   "cell_type": "markdown",
   "metadata": {},
   "source": [
    "Q14. Using the above results, print the probability (i.e relative frequency) of the integers in descending order to show the uniform distribution in random number generation, like the followings:\n",
    "```Python\n",
    "0 0.100463\n",
    "7 0.100172\n",
    "6 0.100151\n",
    "4 0.100140\n",
    "8 0.100045\n",
    "2 0.100001\n",
    "5 0.099844\n",
    "1 0.099791\n",
    "3 0.099741\n",
    "9 0.099652\n",
    "```"
   ]
  },
  {
   "cell_type": "code",
   "execution_count": 15,
   "metadata": {},
   "outputs": [
    {
     "name": "stdout",
     "output_type": "stream",
     "text": [
      "[5, 8, 9, 3, 2, 4, 6, 7, 1, 0]\n",
      "5 0.100475\n",
      "8 0.100261\n",
      "9 0.100183\n",
      "3 0.100135\n",
      "2 0.099951\n",
      "4 0.099937\n",
      "6 0.099904\n",
      "7 0.099726\n",
      "1 0.099716\n",
      "0 0.099712\n"
     ]
    }
   ],
   "source": [
    "x = [f/1000000 for f in x]\n",
    "dic = {}\n",
    "for i in range(0,10):\n",
    "    dic[i] = x[i];\n",
    "keys = sorted(dic, key=dic.get, reverse=True)\n",
    "print(keys)\n",
    "for i in keys:\n",
    "    print(str(i) + ' ' + str(x[i]))\n",
    "\n",
    "#print(x)"
   ]
  },
  {
   "cell_type": "markdown",
   "metadata": {},
   "source": [
    "#### Write a code to answer the questions. \n",
    "*특별한 주문이 없으면 print할 필요없다. 대신, cell의 마지막 줄에 expression을 적어 실행시키면 결과가 output된다.*\n",
    "\n",
    "Q16. Read the vocabulary file. How many words are there?"
   ]
  },
  {
   "cell_type": "code",
   "execution_count": 16,
   "metadata": {},
   "outputs": [
    {
     "data": {
      "text/plain": [
       "19455"
      ]
     },
     "execution_count": 16,
     "metadata": {},
     "output_type": "execute_result"
    }
   ],
   "source": [
    "fp = open('vocab.txt')\n",
    "count = 0\n",
    "for line in fp:\n",
    "    count += 1\n",
    "fp.close()\n",
    "count"
   ]
  },
  {
   "cell_type": "markdown",
   "metadata": {},
   "source": [
    "Q17. List the words starting with 'z'."
   ]
  },
  {
   "cell_type": "code",
   "execution_count": 17,
   "metadata": {},
   "outputs": [
    {
     "data": {
      "text/plain": [
       "['zany\\n',\n",
       " 'zap\\n',\n",
       " 'zeal\\n',\n",
       " 'zealous\\n',\n",
       " 'zealously\\n',\n",
       " 'zebra\\n',\n",
       " 'zero\\n',\n",
       " 'zest\\n',\n",
       " 'zigzag\\n',\n",
       " 'zillion\\n',\n",
       " 'zinc\\n',\n",
       " 'zip\\n',\n",
       " 'zipper\\n',\n",
       " 'zit\\n',\n",
       " 'zodiac\\n',\n",
       " 'zombie\\n',\n",
       " 'zone\\n',\n",
       " 'zoo\\n',\n",
       " 'zoological\\n',\n",
       " 'zoologist\\n',\n",
       " 'zoology\\n',\n",
       " 'zoom\\n',\n",
       " 'zucchini ']"
      ]
     },
     "execution_count": 17,
     "metadata": {},
     "output_type": "execute_result"
    }
   ],
   "source": [
    "fp = open('vocab.txt')\n",
    "zlist = []\n",
    "for line in fp:\n",
    "    if line[0] == 'z':\n",
    "        zlist.append(line)\n",
    "fp.close()\n",
    "zlist"
   ]
  },
  {
   "cell_type": "markdown",
   "metadata": {},
   "source": [
    "Q18. Print the words containing 'hope' without using loop like this: (프린트 하라.)\n",
    "```Python\n",
    "hope\n",
    "hopeful\n",
    "...\n",
    "```\n",
    "\n",
    "Hint:\n",
    "- use 'join' method"
   ]
  },
  {
   "cell_type": "code",
   "execution_count": 18,
   "metadata": {},
   "outputs": [
    {
     "name": "stdout",
     "output_type": "stream",
     "text": [
      "hope\n",
      "hopeful\n",
      "hopefully\n",
      "hopefulness\n",
      "hopeless\n",
      "hopelessly\n",
      "hopelessness\n"
     ]
    }
   ],
   "source": [
    "fp = open('vocab.txt')\n",
    "x = []\n",
    "for line in fp:\n",
    "    if line.startswith('hope'):\n",
    "        line = line.replace('\\n', '')\n",
    "        x.append(line)\n",
    "fp.close()\n",
    "print(\"\\n\".join(x))"
   ]
  },
  {
   "cell_type": "markdown",
   "metadata": {},
   "source": [
    "Q19.  What is the length of the longest word? "
   ]
  },
  {
   "cell_type": "code",
   "execution_count": 19,
   "metadata": {},
   "outputs": [
    {
     "data": {
      "text/plain": [
       "20"
      ]
     },
     "execution_count": 19,
     "metadata": {},
     "output_type": "execute_result"
    }
   ],
   "source": [
    "fp = open('vocab.txt')\n",
    "maxlen = 0\n",
    "for line in fp:\n",
    "    if len(line) > maxlen:\n",
    "        line = line.replace('\\n', '')\n",
    "        line = line.replace(' ', '')\n",
    "        maxlen = len(line)\n",
    "fp.close()\n",
    "maxlen"
   ]
  },
  {
   "cell_type": "markdown",
   "metadata": {},
   "source": [
    "Q20. What is the longest word? Give one instance if multiple longest words are found."
   ]
  },
  {
   "cell_type": "code",
   "execution_count": 20,
   "metadata": {},
   "outputs": [
    {
     "data": {
      "text/plain": [
       "'uncharacteristically'"
      ]
     },
     "execution_count": 20,
     "metadata": {},
     "output_type": "execute_result"
    }
   ],
   "source": [
    "fp = open('vocab.txt')\n",
    "maxlen = 0\n",
    "word = ''\n",
    "for line in fp:\n",
    "    if len(line) > maxlen:\n",
    "        line = line.replace('\\n', '')\n",
    "        line = line.replace(' ', '')\n",
    "        maxlen = len(line)\n",
    "        word = line\n",
    "fp.close()\n",
    "word"
   ]
  },
  {
   "cell_type": "code",
   "execution_count": null,
   "metadata": {},
   "outputs": [],
   "source": []
  }
 ],
 "metadata": {
  "kernelspec": {
   "display_name": "Python 3",
   "language": "python",
   "name": "python3"
  },
  "language_info": {
   "codemirror_mode": {
    "name": "ipython",
    "version": 3
   },
   "file_extension": ".py",
   "mimetype": "text/x-python",
   "name": "python",
   "nbconvert_exporter": "python",
   "pygments_lexer": "ipython3",
   "version": "3.6.4"
  }
 },
 "nbformat": 4,
 "nbformat_minor": 2
}
