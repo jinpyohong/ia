{
 "cells": [
  {
   "cell_type": "markdown",
   "metadata": {},
   "source": [
    "# Coding Exam 1\n",
    "4/2/2018"
   ]
  },
  {
   "cell_type": "markdown",
   "metadata": {},
   "source": [
    "#### 시험전 확인 및 준비\n",
    "1. Download this notebook file( .ipynb)\n",
    "1. Execute the following cell to ensure:\n",
    "\n",
    "> copy `unit_test.py` file to the same directory or this notebook file.\n",
    "\n",
    "> Fetch the vocabulary file 'vocab.txt' to your current directory by executing ...*"
   ]
  },
  {
   "cell_type": "code",
   "execution_count": 1,
   "metadata": {},
   "outputs": [
    {
     "data": {
      "text/plain": [
       "('vocab.txt', <http.client.HTTPMessage at 0x5999e10>)"
      ]
     },
     "execution_count": 1,
     "metadata": {},
     "output_type": "execute_result"
    }
   ],
   "source": [
    "from unit_test import test\n",
    "\n",
    "from urllib.request import urlretrieve\n",
    "url_vocab = 'http://openbookproject.net/thinkcs/python/english3e/_downloads/vocab.txt'\n",
    "urlretrieve(url_vocab, 'vocab.txt')"
   ]
  },
  {
   "cell_type": "markdown",
   "metadata": {},
   "source": [
    "#### 답안 제출\n",
    "제출하기 전에 여러분이 답한 것 모두를 새롭게 실행해서 결과를 다시 산출해야 한다. 그렇게 하려면, Jupyer notebook의 menu에서\n",
    "\n",
    "1. **Kernel >> Restart & All** 으로 Kernel을 다시 start시키고 순서대로 모든 cell을 실행시켜 output을 얻는다.\n",
    "2. **Save & Checkpoint** icon click하여 저장\n",
    "3. 저장된 **.ipynb** 파일을 e-class에 upload한다."
   ]
  },
  {
   "cell_type": "markdown",
   "metadata": {},
   "source": [
    "----\n",
    "## 시험문제"
   ]
  },
  {
   "cell_type": "markdown",
   "metadata": {},
   "source": [
    "Q1.\tWrite a function `add_string` to add 'ing' at the end of a given string (length should be at least 3). If the given string is already ends with 'ing' then add 'ly' instead. If the string length of the given string is less than 3, leave it unchanged."
   ]
  },
  {
   "cell_type": "code",
   "execution_count": 2,
   "metadata": {},
   "outputs": [
    {
     "name": "stdout",
     "output_type": "stream",
     "text": [
      "Test at line 9 ok.\n",
      "Test at line 10 ok.\n"
     ]
    }
   ],
   "source": [
    "def add_string(s):\n",
    "    if len(s) >= 3:\n",
    "        if s[-3:] == 'ing':\n",
    "            text = s + 'ly'\n",
    "        else:\n",
    "            text = s + 'ing'\n",
    "    return text\n",
    "\n",
    "test(add_string('abc') == 'abcing')\n",
    "test(add_string('string') == 'stringly')"
   ]
  },
  {
   "cell_type": "markdown",
   "metadata": {},
   "source": [
    "Q2. Write a program to print the following pattern, using a `for` loop.\n",
    "```Python\n",
    "* \n",
    "* * \n",
    "* * * \n",
    "* * * * \n",
    "* * * * * \n",
    "* * * * \n",
    "* * * \n",
    "* * \n",
    "*\n",
    "```"
   ]
  },
  {
   "cell_type": "code",
   "execution_count": 3,
   "metadata": {},
   "outputs": [
    {
     "name": "stdout",
     "output_type": "stream",
     "text": [
      "*\n",
      "**\n",
      "***\n",
      "****\n",
      "*****\n",
      "****\n",
      "***\n",
      "**\n",
      "*\n"
     ]
    }
   ],
   "source": [
    "for i in range(5):\n",
    "    print(\"*\" * (i + 1))\n",
    "    if i == 4:\n",
    "        for j in range(4):\n",
    "            print(\"*\" * (i - j))"
   ]
  },
  {
   "cell_type": "markdown",
   "metadata": {},
   "source": [
    "Q3. Write a function `square_of_even` to make a list whose elements are square of even numbers from the positive integers less than n, by using `for` loop."
   ]
  },
  {
   "cell_type": "code",
   "execution_count": 4,
   "metadata": {
    "scrolled": true
   },
   "outputs": [
    {
     "name": "stdout",
     "output_type": "stream",
     "text": [
      "Test at line 9 ok.\n",
      "Test at line 10 ok.\n",
      "Test at line 11 ok.\n"
     ]
    }
   ],
   "source": [
    "def square_of_even(n):\n",
    "    l = []\n",
    "    for i in range(1, n):\n",
    "        if (i % 2) == 0:\n",
    "            x = i**2\n",
    "            l.append(x)          \n",
    "    return l\n",
    "\n",
    "test(square_of_even(10) == [4, 16, 36, 64])\n",
    "test(square_of_even(9) == [4, 16, 36, 64])\n",
    "test(square_of_even(2) == [])"
   ]
  },
  {
   "cell_type": "markdown",
   "metadata": {},
   "source": [
    "Q4. Rewrite a function `square_of_even` to make a list whose elements are square of even numbers from the positive integers less than n, by using list comprehension."
   ]
  },
  {
   "cell_type": "code",
   "execution_count": 5,
   "metadata": {},
   "outputs": [
    {
     "name": "stdout",
     "output_type": "stream",
     "text": [
      "Test at line 4 ok.\n",
      "Test at line 5 ok.\n",
      "Test at line 6 ok.\n"
     ]
    }
   ],
   "source": [
    "def square_of_even(n):\n",
    "    return [x**2 for x in range(n) if (0 < x**2 < n**2) and (x % 2 == 0)]\n",
    "\n",
    "test(square_of_even(10) == [4, 16, 36, 64])\n",
    "test(square_of_even(9) == [4, 16, 36, 64])\n",
    "test(square_of_even(2) == [])"
   ]
  },
  {
   "cell_type": "markdown",
   "metadata": {},
   "source": [
    "Q5. Write a generator function `gen_square_even` to generate square of enven numbers from the positive integers less than n.\n",
    "\n",
    "Hint:\n",
    "- use `yield` statement"
   ]
  },
  {
   "cell_type": "code",
   "execution_count": 6,
   "metadata": {},
   "outputs": [
    {
     "name": "stdout",
     "output_type": "stream",
     "text": [
      "Test at line 6 ok.\n",
      "Test at line 7 ok.\n"
     ]
    }
   ],
   "source": [
    "def gen_square_even(n):\n",
    "    for x in range(n):\n",
    "        if (0 < x**2 < n**2) and (x % 2 == 0):\n",
    "            yield x**2\n",
    "            \n",
    "test(list(gen_square_even(10)) == [4, 16, 36, 64])\n",
    "test(sum(gen_square_even(10)) == sum(square_of_even(10)))"
   ]
  },
  {
   "cell_type": "markdown",
   "metadata": {},
   "source": [
    "Q6. Write a function `is_leap_year` whether tell a leap year or not.\n",
    "\n",
    "> A leap year is\n",
    "\n",
    "> every year exactly divisible by 4, except for years that are exactly divisible by 100, but these centurial years are leap years if they are exactly divisible by 400. \n",
    "\n",
    ">For example, the years 1700, 1800, and 1900 were not leap years, but the years 1600 and 2000 were"
   ]
  },
  {
   "cell_type": "code",
   "execution_count": 7,
   "metadata": {
    "scrolled": true
   },
   "outputs": [
    {
     "name": "stdout",
     "output_type": "stream",
     "text": [
      "Test at line 7 ok.\n",
      "Test at line 8 ok.\n",
      "Test at line 9 ok.\n",
      "Test at line 10 ok.\n"
     ]
    }
   ],
   "source": [
    "def is_leap_year(year):\n",
    "    if year % 4 == 0 and (year % 100 != 0 or year % 400 == 0):\n",
    "        return True\n",
    "    else:\n",
    "        return False\n",
    "\n",
    "test(is_leap_year(2003) == False)\n",
    "test(is_leap_year(2004) == True)\n",
    "test(is_leap_year(1900) == False)\n",
    "test(is_leap_year(2000) == True)"
   ]
  },
  {
   "cell_type": "markdown",
   "metadata": {},
   "source": [
    "Q7. Write a funtion `days_in_month` which returns the number of days for a given month of the year."
   ]
  },
  {
   "cell_type": "code",
   "execution_count": 8,
   "metadata": {},
   "outputs": [
    {
     "name": "stdout",
     "output_type": "stream",
     "text": [
      "Test at line 7 ok.\n",
      "Test at line 8 ok.\n",
      "Test at line 9 ok.\n",
      "Test at line 10 ok.\n"
     ]
    }
   ],
   "source": [
    "import calendar\n",
    "\n",
    "def days_in_month(year, month):\n",
    "    month_range  = calendar.monthrange(year, month)\n",
    "    return month_range[1]\n",
    "    \n",
    "test(days_in_month(2018, 12) == 31)\n",
    "test(days_in_month(2000, 2) == 29)\n",
    "test(days_in_month(2004, 9) == 30)\n",
    "test(days_in_month(2018, 2) == 28)"
   ]
  },
  {
   "cell_type": "markdown",
   "metadata": {},
   "source": [
    "Q8. Write a program which accepts a sequence of comma-separated numbers from console and generate a list and a tuple which contains every number.\n",
    "\n",
    "Suppose the following input is supplied to the program: (using `input()`)\n",
    "```Python\n",
    "34,67,55,33,12,98\n",
    "```\n",
    "\n",
    "Then, the output should be: (using `print(`))\n",
    "```Python\n",
    "['34', '67', '55', '33', '12', '98']\n",
    "('34', '67', '55', '33', '12', '98')\n",
    "```\n",
    "\n",
    "Hints: \n",
    "- Use `split()` method to make a list from the comma-separated strings\n",
    "- `tuple() function can convert list to tuple"
   ]
  },
  {
   "cell_type": "code",
   "execution_count": 9,
   "metadata": {},
   "outputs": [
    {
     "name": "stdout",
     "output_type": "stream",
     "text": [
      "34,67,55,33,12,98\n",
      "['34', '67', '55', '33', '12', '98']\n",
      "('34', '67', '55', '33', '12', '98')\n"
     ]
    }
   ],
   "source": [
    "a = input()\n",
    "l = a.split(',')\n",
    "t = tuple(l)\n",
    "print(l)\n",
    "print(t)"
   ]
  },
  {
   "cell_type": "markdown",
   "metadata": {},
   "source": [
    "Q9. Write a function `two_dim` **using the list comprehensiion** which takes 2 digits, m,n as parameters and generates a 2-dimensional m x n array. The element value in the i-th row and j-th column of the array should be `i*10 + j`."
   ]
  },
  {
   "cell_type": "code",
   "execution_count": 10,
   "metadata": {},
   "outputs": [
    {
     "name": "stdout",
     "output_type": "stream",
     "text": [
      "Test at line 5 ok.\n"
     ]
    }
   ],
   "source": [
    "def two_dim(row, column):\n",
    "    return [[y * 10 + x for x in range(column)]for y in range(row)]\n",
    "\n",
    "test(two_dim(3, 5) == \n",
    "    [[0, 1, 2, 3, 4], [10, 11, 12, 13, 14], [20, 21, 22, 23, 24]])"
   ]
  },
  {
   "cell_type": "markdown",
   "metadata": {},
   "source": [
    "Q10. Rewrite the above function using `for` loop and `append` method"
   ]
  },
  {
   "cell_type": "code",
   "execution_count": 11,
   "metadata": {},
   "outputs": [
    {
     "name": "stdout",
     "output_type": "stream",
     "text": [
      "Test at line 11 ok.\n"
     ]
    }
   ],
   "source": [
    "def two_dim(column, row):\n",
    "    n = []\n",
    "    for i in range(column):\n",
    "        m = []\n",
    "        for j in range(row):\n",
    "            m.append((i * 10) + j)\n",
    "        n.append(m)\n",
    "    return n\n",
    "\n",
    "test(two_dim(3, 5) == \n",
    "    [[0, 1, 2, 3, 4], [10, 11, 12, 13, 14], [20, 21, 22, 23, 24]])"
   ]
  },
  {
   "cell_type": "markdown",
   "metadata": {},
   "source": [
    "Q11. Write a function `unique_sort` that accepts a sequence of whitespace separated words as input and returns the words after removing all duplicate words and sorting them alphanumerically.\n",
    "\n",
    "Hint:\n",
    "- Use `set()` function to remove duplicate words."
   ]
  },
  {
   "cell_type": "code",
   "execution_count": 12,
   "metadata": {},
   "outputs": [
    {
     "name": "stdout",
     "output_type": "stream",
     "text": [
      "Test at line 10 ok.\n"
     ]
    }
   ],
   "source": [
    "def unique_sort(text):\n",
    "    l = []\n",
    "    a = text.split()\n",
    "    l = sorted(set(a))\n",
    "    text_s = \" \".join(l)\n",
    "    return text_s\n",
    "\n",
    "\n",
    "text = \" hello  world and practice makes perfect\\nand hello world again \"\n",
    "test(unique_sort(text) == \"again and hello makes perfect practice world\")"
   ]
  },
  {
   "cell_type": "markdown",
   "metadata": {},
   "source": [
    "Q12. Rewrite the above function by writing your code directly for ensuring uniqueness, instead of `set()`. "
   ]
  },
  {
   "cell_type": "code",
   "execution_count": 13,
   "metadata": {
    "scrolled": true
   },
   "outputs": [
    {
     "name": "stdout",
     "output_type": "stream",
     "text": [
      "Test at line 11 ok.\n"
     ]
    }
   ],
   "source": [
    "def unique_sort(t):\n",
    "    l = []\n",
    "    t = t.split()\n",
    "    for i in t:\n",
    "        if i not in l:\n",
    "            l.append(i)\n",
    "    l.sort()\n",
    "    return \" \".join(l)\n",
    "\n",
    "text = \" hello  world and practice makes perfect\\nand hello world again \"\n",
    "test(unique_sort(text) == \"again and hello makes perfect practice world\")"
   ]
  },
  {
   "cell_type": "markdown",
   "metadata": {},
   "source": [
    "Q13. Write a program that counts the frequency of randomly chosen integers between 0 to 9 (including both end), repeating 1,000,000 times. \n",
    "\n",
    "Output will be like this (frequecies may be different from yours):\n",
    "```Python\n",
    "{0: 100463, 4: 100140, 1: 99791, 6: 100151, 8: 100045, 5: 99844, 2: 100001, 3: 99741, 9: 99652, 7: 100172}\n",
    "```\n",
    "\n",
    "Hint:\n",
    "- use `randrange` from `random` module"
   ]
  },
  {
   "cell_type": "code",
   "execution_count": 14,
   "metadata": {},
   "outputs": [
    {
     "name": "stdout",
     "output_type": "stream",
     "text": [
      "{0: 99981, 1: 99791, 2: 100070, 3: 99923, 4: 100451, 5: 99612, 6: 99893, 7: 100582, 8: 99759, 9: 99938}\n"
     ]
    }
   ],
   "source": [
    "import random\n",
    "dic = {}\n",
    "for i in range(10):\n",
    "    dic[i] = 0\n",
    "for j in range(1000000):\n",
    "    dic[random.randint(0,9)] += 1\n",
    "print(dic)"
   ]
  },
  {
   "cell_type": "markdown",
   "metadata": {},
   "source": [
    "Q14. Using the above results, print the probability (i.e relative frequency) of the integers in descending order to show the uniform distribution in random number generation, like the followings:\n",
    "```Python\n",
    "0 0.100463\n",
    "7 0.100172\n",
    "6 0.100151\n",
    "4 0.100140\n",
    "8 0.100045\n",
    "2 0.100001\n",
    "5 0.099844\n",
    "1 0.099791\n",
    "3 0.099741\n",
    "9 0.099652\n",
    "```"
   ]
  },
  {
   "cell_type": "code",
   "execution_count": 15,
   "metadata": {},
   "outputs": [
    {
     "name": "stdout",
     "output_type": "stream",
     "text": [
      "7 0.100582\n",
      "4 0.100451\n",
      "2 0.100070\n",
      "0 0.099981\n",
      "9 0.099938\n",
      "3 0.099923\n",
      "6 0.099893\n",
      "1 0.099791\n",
      "8 0.099759\n",
      "5 0.099612\n"
     ]
    }
   ],
   "source": [
    "a = \"\"\n",
    "b = \"\"\n",
    "l = sorted(dic.items(), key=lambda x: x[1], reverse=True)\n",
    "for i in range(len(l)):\n",
    "    a += str(l[i][0]) + \",\"\n",
    "    b += str(l[i][1] * (1 / 1000000)) + \",\"\n",
    "for i in range(len(l)):\n",
    "    m = a.split(',')\n",
    "    n = b.split(',')\n",
    "    print(m[i],'{:.06f}'.format(float(n[i])))"
   ]
  },
  {
   "cell_type": "markdown",
   "metadata": {},
   "source": [
    "#### Write a code to answer the questions. \n",
    "*특별한 주문이 없으면 print할 필요없다. 대신, cell의 마지막 줄에 expression을 적어 실행시키면 결과가 output된다.*\n",
    "\n",
    "Q16. Read the vocabulary file. How many words are there?"
   ]
  },
  {
   "cell_type": "code",
   "execution_count": 16,
   "metadata": {},
   "outputs": [
    {
     "name": "stdout",
     "output_type": "stream",
     "text": [
      "19455\n"
     ]
    }
   ],
   "source": [
    "l = []\n",
    "with open('vocab.txt') as f:\n",
    "    for line in f:\n",
    "        l.append(\"\".join(line.split(\"\\n\")))\n",
    "print(len(l))"
   ]
  },
  {
   "cell_type": "markdown",
   "metadata": {},
   "source": [
    "Q17. List the words starting with 'z'."
   ]
  },
  {
   "cell_type": "code",
   "execution_count": 17,
   "metadata": {},
   "outputs": [
    {
     "name": "stdout",
     "output_type": "stream",
     "text": [
      "['zany', 'zap', 'zeal', 'zealous', 'zealously', 'zebra', 'zero', 'zest', 'zigzag', 'zillion', 'zinc', 'zip', 'zipper', 'zit', 'zodiac', 'zombie', 'zone', 'zoo', 'zoological', 'zoologist', 'zoology', 'zoom', 'zucchini ']\n"
     ]
    }
   ],
   "source": [
    "m = []\n",
    "for i in l:\n",
    "    if i[0] == 'z':\n",
    "        m.append(i)\n",
    "print(m)"
   ]
  },
  {
   "cell_type": "markdown",
   "metadata": {},
   "source": [
    "Q18. Print the words containing 'hope' without using loop like this: (프린트 하라.)\n",
    "```Python\n",
    "hope\n",
    "hopeful\n",
    "...\n",
    "```\n",
    "\n",
    "Hint:\n",
    "- use 'join' method"
   ]
  },
  {
   "cell_type": "code",
   "execution_count": 18,
   "metadata": {},
   "outputs": [
    {
     "name": "stdout",
     "output_type": "stream",
     "text": [
      "hope\n",
      "hopeful\n",
      "hopefully\n",
      "hopefulness\n",
      "hopeless\n",
      "hopelessly\n",
      "hopelessness\n",
      "orthopedics\n"
     ]
    }
   ],
   "source": [
    "hope_word = []\n",
    "for i in l:\n",
    "    if \"hope\" in i:\n",
    "        hope_word.append(i)\n",
    "print((\"\\n\").join(hope_word))"
   ]
  },
  {
   "cell_type": "markdown",
   "metadata": {},
   "source": [
    "Q19.  What is the length of the longest word? "
   ]
  },
  {
   "cell_type": "code",
   "execution_count": 19,
   "metadata": {},
   "outputs": [
    {
     "name": "stdout",
     "output_type": "stream",
     "text": [
      "20\n"
     ]
    }
   ],
   "source": [
    "longest_word = \"\"\n",
    "for i in l:\n",
    "    if len(longest_word) < len(i):\n",
    "        longest_word = i\n",
    "print(len(longest_word))"
   ]
  },
  {
   "cell_type": "markdown",
   "metadata": {},
   "source": [
    "Q20. What is the longest word? Give one instance if multiple longest words are found."
   ]
  },
  {
   "cell_type": "code",
   "execution_count": 20,
   "metadata": {},
   "outputs": [
    {
     "name": "stdout",
     "output_type": "stream",
     "text": [
      "uncharacteristically\n"
     ]
    }
   ],
   "source": [
    "print(longest_word)"
   ]
  }
 ],
 "metadata": {
  "kernelspec": {
   "display_name": "Python 3",
   "language": "python",
   "name": "python3"
  },
  "language_info": {
   "codemirror_mode": {
    "name": "ipython",
    "version": 3
   },
   "file_extension": ".py",
   "mimetype": "text/x-python",
   "name": "python",
   "nbconvert_exporter": "python",
   "pygments_lexer": "ipython3",
   "version": "3.6.4"
  }
 },
 "nbformat": 4,
 "nbformat_minor": 2
}
