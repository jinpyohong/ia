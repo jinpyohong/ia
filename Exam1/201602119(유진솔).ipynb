{
 "cells": [
  {
   "cell_type": "markdown",
   "metadata": {},
   "source": [
    "# Coding Exam 1\n",
    "4/2/2018"
   ]
  },
  {
   "cell_type": "markdown",
   "metadata": {},
   "source": [
    "#### 시험전 확인 및 준비\n",
    "1. Download this notebook file( .ipynb)\n",
    "1. Execute the following cell to ensure:\n",
    "\n",
    "> copy `unit_test.py` file to the same directory or this notebook file.\n",
    "\n",
    "> Fetch the vocabulary file 'vocab.txt' to your current directory by executing ...*"
   ]
  },
  {
   "cell_type": "code",
   "execution_count": 1,
   "metadata": {},
   "outputs": [
    {
     "ename": "NameError",
     "evalue": "name 'test' is not defined",
     "output_type": "error",
     "traceback": [
      "\u001b[1;31m---------------------------------------------------------------------------\u001b[0m",
      "\u001b[1;31mNameError\u001b[0m                                 Traceback (most recent call last)",
      "\u001b[1;32m<ipython-input-1-41c85960084d>\u001b[0m in \u001b[0;36m<module>\u001b[1;34m()\u001b[0m\n\u001b[1;32m----> 1\u001b[1;33m \u001b[1;32mfrom\u001b[0m \u001b[0munit_test\u001b[0m \u001b[1;32mimport\u001b[0m \u001b[0mtest\u001b[0m\u001b[1;33m\u001b[0m\u001b[0m\n\u001b[0m\u001b[0;32m      2\u001b[0m \u001b[1;33m\u001b[0m\u001b[0m\n\u001b[0;32m      3\u001b[0m \u001b[1;32mfrom\u001b[0m \u001b[0murllib\u001b[0m\u001b[1;33m.\u001b[0m\u001b[0mrequest\u001b[0m \u001b[1;32mimport\u001b[0m \u001b[0murlretrieve\u001b[0m\u001b[1;33m\u001b[0m\u001b[0m\n\u001b[0;32m      4\u001b[0m \u001b[0murl_vocab\u001b[0m \u001b[1;33m=\u001b[0m \u001b[1;34m'http://openbookproject.net/thinkcs/python/english3e/_downloads/vocab.txt'\u001b[0m\u001b[1;33m\u001b[0m\u001b[0m\n\u001b[0;32m      5\u001b[0m \u001b[0murlretrieve\u001b[0m\u001b[1;33m(\u001b[0m\u001b[0murl_vocab\u001b[0m\u001b[1;33m,\u001b[0m \u001b[1;34m'vocab.txt'\u001b[0m\u001b[1;33m)\u001b[0m\u001b[1;33m\u001b[0m\u001b[0m\n",
      "\u001b[1;32m~\\Desktop\\unit_test.py\u001b[0m in \u001b[0;36m<module>\u001b[1;34m()\u001b[0m\n\u001b[0;32m      6\u001b[0m \u001b[1;33m\u001b[0m\u001b[0m\n\u001b[0;32m      7\u001b[0m \u001b[1;33m\u001b[0m\u001b[0m\n\u001b[1;32m----> 8\u001b[1;33m \u001b[0mtest\u001b[0m\u001b[1;33m(\u001b[0m\u001b[0madd_string\u001b[0m\u001b[1;33m(\u001b[0m\u001b[1;34m'abc'\u001b[0m\u001b[1;33m)\u001b[0m \u001b[1;33m==\u001b[0m \u001b[1;34m'abcing'\u001b[0m\u001b[1;33m)\u001b[0m\u001b[1;33m\u001b[0m\u001b[0m\n\u001b[0m\u001b[0;32m      9\u001b[0m \u001b[0mtest\u001b[0m\u001b[1;33m(\u001b[0m\u001b[0madd_string\u001b[0m\u001b[1;33m(\u001b[0m\u001b[1;34m'string'\u001b[0m\u001b[1;33m)\u001b[0m \u001b[1;33m==\u001b[0m \u001b[1;34m'stringly'\u001b[0m\u001b[1;33m)\u001b[0m\u001b[1;33m\u001b[0m\u001b[0m\n\u001b[0;32m     10\u001b[0m \u001b[1;33m\u001b[0m\u001b[0m\n",
      "\u001b[1;31mNameError\u001b[0m: name 'test' is not defined"
     ]
    }
   ],
   "source": [
    "from unit_test import test\n",
    "\n",
    "from urllib.request import urlretrieve\n",
    "url_vocab = 'http://openbookproject.net/thinkcs/python/english3e/_downloads/vocab.txt'\n",
    "urlretrieve(url_vocab, 'vocab.txt')"
   ]
  },
  {
   "cell_type": "code",
   "execution_count": null,
   "metadata": {},
   "outputs": [],
   "source": [
    "import sys\n",
    "\n",
    "def test(did_pass):\n",
    "    \"\"\"  Print the result of a test.  \"\"\"\n",
    "    linenum = sys._getframe(1).f_lineno   # Get the caller's line number.\n",
    "    if did_pass:\n",
    "        msg = \"Test at line {0} ok.\".format(linenum)\n",
    "    else:\n",
    "        msg = (\"Test at line {0} FAILED.\".format(linenum))\n",
    "    print(msg)\n",
    "\n"
   ]
  },
  {
   "cell_type": "markdown",
   "metadata": {},
   "source": [
    "#### 답안 제출\n",
    "제출하기 전에 여러분이 답한 것 모두를 새롭게 실행해서 결과를 다시 산출해야 한다. 그렇게 하려면, Jupyer notebook의 menu에서\n",
    "\n",
    "1. **Kernel >> Restart & All** 으로 Kernel을 다시 start시키고 순서대로 모든 cell을 실행시켜 output을 얻는다.\n",
    "2. **Save & Checkpoint** icon click하여 저장\n",
    "3. 저장된 **.ipynb** 파일을 e-class에 upload한다."
   ]
  },
  {
   "cell_type": "markdown",
   "metadata": {},
   "source": [
    "----\n",
    "## 시험문제"
   ]
  },
  {
   "cell_type": "markdown",
   "metadata": {},
   "source": [
    "Q1.\tWrite a function `add_string` to add 'ing' at the end of a given string (length should be at least 3). If the given string is already ends with 'ing' then add 'ly' instead. If the string length of the given string is less than 3, leave it unchanged."
   ]
  },
  {
   "cell_type": "code",
   "execution_count": null,
   "metadata": {},
   "outputs": [],
   "source": [
    "def add_string(line):\n",
    "    if line[-1] == 'g':\n",
    "        return line+'ly'\n",
    "    else:\n",
    "        return line+'ing'\n",
    "    \n",
    "test(add_string('abc') == 'abcing')\n",
    "test(add_string('string') == 'stringly')"
   ]
  },
  {
   "cell_type": "markdown",
   "metadata": {},
   "source": [
    "Q2. Write a program to print the following pattern, using a `for` loop.\n",
    "```Python\n",
    "* \n",
    "* * \n",
    "* * * \n",
    "* * * * \n",
    "* * * * * \n",
    "* * * * \n",
    "* * * \n",
    "* * \n",
    "*\n",
    "```"
   ]
  },
  {
   "cell_type": "code",
   "execution_count": null,
   "metadata": {},
   "outputs": [],
   "source": [
    "for i in range(5):\n",
    "    print('*'*(i+1))\n",
    "for i in range(4):\n",
    "    print('*'*(4-i))"
   ]
  },
  {
   "cell_type": "markdown",
   "metadata": {},
   "source": [
    "Q3. Write a function `square_of_even` to make a list whose elements are square of even numbers from the positive integers less than n, by using `for` loop."
   ]
  },
  {
   "cell_type": "code",
   "execution_count": null,
   "metadata": {},
   "outputs": [],
   "source": [
    "def square_of_even(n):\n",
    "    l = []\n",
    "    for i in range(1, n):\n",
    "        if i % 2 == 0:\n",
    "            l.append(i**2)\n",
    "    return l\n",
    "test(square_of_even(10) == [4, 16, 36, 64])\n",
    "test(square_of_even(9) == [4, 16, 36, 64])\n",
    "test(square_of_even(2) == [])"
   ]
  },
  {
   "cell_type": "markdown",
   "metadata": {},
   "source": [
    "Q4. Rewrite a function `square_of_even` to make a list whose elements are square of even numbers from the positive integers less than n, by using list comprehension."
   ]
  },
  {
   "cell_type": "code",
   "execution_count": null,
   "metadata": {},
   "outputs": [],
   "source": [
    "def square_of_even(n):\n",
    "    return [i**2 for i in range(1, n) if i % 2 == 0]\n",
    "    \n",
    "test(square_of_even(10) == [4, 16, 36, 64])\n",
    "test(square_of_even(9) == [4, 16, 36, 64])\n",
    "test(square_of_even(2) == [])"
   ]
  },
  {
   "cell_type": "markdown",
   "metadata": {},
   "source": [
    "Q5. Write a generator function `gen_square_even` to generate square of enven numbers from the positive integers less than n.\n",
    "\n",
    "Hint:\n",
    "- use `yield` statement"
   ]
  },
  {
   "cell_type": "code",
   "execution_count": null,
   "metadata": {},
   "outputs": [],
   "source": [
    "def gen_square_even(num):\n",
    "    for n in range(0, num):\n",
    "        if n % 2 == 0:\n",
    "            yield n**2\n",
    "\n",
    "test(list(gen_square_even(10)) == [4, 16, 36, 64])\n",
    "test(sum(gen_square_even(10)) == sum(square_of_even(10)))"
   ]
  },
  {
   "cell_type": "markdown",
   "metadata": {},
   "source": [
    "Q6. Write a function `is_leap_year` whether tell a leap year or not.\n",
    "\n",
    "> A leap year is\n",
    "\n",
    "> every year exactly divisible by 4, except for years that are exactly divisible by 100, but these centurial years are leap years if they are exactly divisible by 400. \n",
    "\n",
    ">For example, the years 1700, 1800, and 1900 were not leap years, but the years 1600 and 2000 were"
   ]
  },
  {
   "cell_type": "code",
   "execution_count": null,
   "metadata": {},
   "outputs": [],
   "source": [
    "def is_leap_year(year):\n",
    "    if year % 4 == 0 and (year % 100 != 0 or year % 400 == 0):\n",
    "        return True\n",
    "    else:\n",
    "        return False\n",
    "\n",
    "test(is_leap_year(2003) == False)\n",
    "test(is_leap_year(2004) == True)\n",
    "test(is_leap_year(1900) == False)\n",
    "test(is_leap_year(2000) == True)"
   ]
  },
  {
   "cell_type": "markdown",
   "metadata": {},
   "source": [
    "Q7. Write a funtion `days_in_month` which returns the number of days for a given month of the year."
   ]
  },
  {
   "cell_type": "code",
   "execution_count": null,
   "metadata": {},
   "outputs": [],
   "source": [
    "def days_in_month(y, m):\n",
    "    if (1<=m<=7):\n",
    "        if m % 2 != 0:\n",
    "            return 31\n",
    "        else:\n",
    "            if m == 2:\n",
    "                if y % 4 == 0:\n",
    "                    return 29\n",
    "                else:\n",
    "                    return 28\n",
    "            else:\n",
    "                return 30\n",
    "\n",
    "test(days_in_month(2018, 12) == 31)\n",
    "test(days_in_month(2000, 2) == 29)\n",
    "test(days_in_month(2004, 9) == 30)\n",
    "test(days_in_month(2018, 2) == 28)"
   ]
  },
  {
   "cell_type": "markdown",
   "metadata": {},
   "source": [
    "Q8. Write a program which accepts a sequence of comma-separated numbers from console and generate a list and a tuple which contains every number.\n",
    "\n",
    "Suppose the following input is supplied to the program: (using `input()`)\n",
    "```Python\n",
    "34,67,55,33,12,98\n",
    "```\n",
    "\n",
    "Then, the output should be: (using `print(`))\n",
    "```Python\n",
    "['34', '67', '55', '33', '12', '98']\n",
    "('34', '67', '55', '33', '12', '98')\n",
    "```\n",
    "\n",
    "Hints: \n",
    "- Use `split()` method to make a list from the comma-separated strings\n",
    "- `tuple(`) method can convert list to tuple"
   ]
  },
  {
   "cell_type": "code",
   "execution_count": null,
   "metadata": {},
   "outputs": [],
   "source": [
    "s = input()\n",
    "s = s.split(',')\n",
    "t = tuple(s)\n",
    "\n",
    "print(s)\n",
    "print(t)"
   ]
  },
  {
   "cell_type": "markdown",
   "metadata": {},
   "source": [
    "Q9. Write a function `two_dim` **using the list comprehensiion** which takes 2 digits, m,n as parameters and generates a 2-dimensional m x n array. The element value in the i-th row and j-th column of the array should be `i*10 + j`."
   ]
  },
  {
   "cell_type": "code",
   "execution_count": null,
   "metadata": {},
   "outputs": [],
   "source": [
    "def two_dim(m, n):\n",
    "    l = [[j*10+i for i in range(n)]for j in range(m)]\n",
    "    return l\n",
    "test(two_dim(3, 5) == [[0, 1, 2, 3, 4], [10, 11, 12, 13, 14], [20, 21, 22, 23, 24]])"
   ]
  },
  {
   "cell_type": "markdown",
   "metadata": {},
   "source": [
    "Q10. Rewrite the above function using `for` loop and `append` method"
   ]
  },
  {
   "cell_type": "code",
   "execution_count": null,
   "metadata": {},
   "outputs": [],
   "source": [
    "def two_dim(m, n):\n",
    "    l = []\n",
    "    for i in range(m):\n",
    "        l.append([])\n",
    "        for j in range(n):\n",
    "            l[i].append(i*10+j)\n",
    "    return l\n",
    "test(two_dim(3, 5) == [[0, 1, 2, 3, 4], [10, 11, 12, 13, 14], [20, 21, 22, 23, 24]])"
   ]
  },
  {
   "cell_type": "markdown",
   "metadata": {},
   "source": [
    "Q11. Write a function `unique_sort` that accepts a sequence of whitespace separated words as input and returns the words after removing all duplicate words and sorting them alphanumerically.\n",
    "\n",
    "Hint:\n",
    "- Use `set()` function to remove duplicate words."
   ]
  },
  {
   "cell_type": "code",
   "execution_count": null,
   "metadata": {},
   "outputs": [],
   "source": [
    "def unique_sort(t):\n",
    "    l = []\n",
    "    t = t.replace(\"\\nand\", ' ')\n",
    "    t = t.replace('  ', ' ')\n",
    "    l = t.split()\n",
    "    l = list(set(l))\n",
    "    l.sort()    \n",
    "    return ' '.join(l)\n",
    "text = \" hello  world and practice makes perfect\\nand hello world again \"\n",
    "test(unique_sort(text) == \"again and hello makes perfect practice world\")"
   ]
  },
  {
   "cell_type": "markdown",
   "metadata": {},
   "source": [
    "Q12. Rewrite the above function by writing your code directly for ensuring uniqueness, instead of `set()`. "
   ]
  },
  {
   "cell_type": "code",
   "execution_count": null,
   "metadata": {},
   "outputs": [],
   "source": [
    "def unique_sort(t):\n",
    "    l = []\n",
    "    t = t.replace(\"\\n\", ' ')\n",
    "    t = t.replace('  ', ' ')\n",
    "    l = t.split()\n",
    "    dic = {}\n",
    "    rl = []\n",
    "    for i in l:\n",
    "        dic[i] = l.count(i)\n",
    "    for i in dic.keys():\n",
    "        rl.append(i)\n",
    "    rl.sort()\n",
    "    return ' '.join(rl)\n",
    "text = \" hello  world and practice makes perfect\\nand hello world again \"\n",
    "test(unique_sort(text) == \"again and hello makes perfect practice world\")"
   ]
  },
  {
   "cell_type": "markdown",
   "metadata": {},
   "source": [
    "Q13. Write a program that counts the frequency of randomly chosen integers between 0 to 9 (including both end), repeating 1,000,000 times. \n",
    "\n",
    "Output will be like this (frequecies may be different from yours):\n",
    "```Python\n",
    "{0: 100463, 4: 100140, 1: 99791, 6: 100151, 8: 100045, 5: 99844, 2: 100001, 3: 99741, 9: 99652, 7: 100172}\n",
    "```\n",
    "\n",
    "Hint:\n",
    "- use `randrange` from `random` module"
   ]
  },
  {
   "cell_type": "code",
   "execution_count": null,
   "metadata": {},
   "outputs": [],
   "source": [
    "from random import*\n",
    "dic = {}\n",
    "for i in range(1000000):\n",
    "    n = randrange(0, 10)\n",
    "    if n not in dic.keys():\n",
    "        dic[n] = 1\n",
    "    else:\n",
    "        dic[n] += 1\n",
    "print(dic)"
   ]
  },
  {
   "cell_type": "markdown",
   "metadata": {},
   "source": [
    "Q14. Using the above results, print the probability (i.e relative frequency) of the integers in descending order to show the uniform distribution in random number generation, like the followings:\n",
    "```Python\n",
    "0 0.100463\n",
    "7 0.100172\n",
    "6 0.100151\n",
    "4 0.100140\n",
    "8 0.100045\n",
    "2 0.100001\n",
    "5 0.099844\n",
    "1 0.099791\n",
    "3 0.099741\n",
    "9 0.099652\n",
    "```"
   ]
  },
  {
   "cell_type": "code",
   "execution_count": null,
   "metadata": {},
   "outputs": [],
   "source": [
    "from random import*\n",
    "dic2 = {}\n",
    "sum = 0\n",
    "for i in range(len(dic)):\n",
    "    sum += dic[i]\n",
    "\n",
    "for i in range(100000):\n",
    "    n = randrange(0, 10)\n",
    "    if n in dic.keys():\n",
    "        dic2[n] = '{0:0.6f}'.format(dic[n] / sum)\n",
    "for i in dic2.keys():\n",
    "    print('{0} {1}'.format(i, dic2[i]))"
   ]
  },
  {
   "cell_type": "markdown",
   "metadata": {},
   "source": [
    "#### Write a code to answer the questions. \n",
    "*특별한 주문이 없으면 print할 필요없다. 대신, cell의 마지막 줄에 expression을 적어 실행시키면 결과가 output된다.*\n",
    "\n",
    "Q16. Read the vocabulary file. How many words are there?"
   ]
  },
  {
   "cell_type": "code",
   "execution_count": null,
   "metadata": {},
   "outputs": [],
   "source": [
    "f = open(\"vocab.txt\", \"r\")\n",
    "data = f.read()\n",
    "d = data.split()\n",
    "print(len(d))"
   ]
  },
  {
   "cell_type": "markdown",
   "metadata": {},
   "source": [
    "Q17. List the words starting with 'z'."
   ]
  },
  {
   "cell_type": "code",
   "execution_count": null,
   "metadata": {},
   "outputs": [],
   "source": [
    "for w in d:\n",
    "    if w[0] == 'z':\n",
    "        print(w)"
   ]
  },
  {
   "cell_type": "markdown",
   "metadata": {},
   "source": [
    "Q18. Print the words containing 'hope' without using loop like this: (프린트 하라.)\n",
    "```Python\n",
    "hope\n",
    "hopeful\n",
    "...\n",
    "```\n",
    "\n",
    "Hint:\n",
    "- use 'join' method"
   ]
  },
  {
   "cell_type": "code",
   "execution_count": null,
   "metadata": {},
   "outputs": [],
   "source": [
    "f = open(\"vocab.txt\", \"r\")\n",
    "data2 = f.read()\n",
    "s = []\n",
    "print(data2[1])\n",
    "if 'hope' in data2:\n",
    "    s.append(f.readline())\n",
    "    \n",
    "print(s)\n",
    "#l = data2.split(i for i in data2 if i != 'hope')\n",
    "#s = 'hope'.join(l)\n",
    "#print(l)"
   ]
  },
  {
   "cell_type": "markdown",
   "metadata": {},
   "source": [
    "Q19.  What is the length of the longest word? "
   ]
  },
  {
   "cell_type": "code",
   "execution_count": null,
   "metadata": {},
   "outputs": [],
   "source": [
    "mx = 0\n",
    "for i in d:\n",
    "    if len(i) > mx:\n",
    "        mx = len(i)\n",
    "print(mx)"
   ]
  },
  {
   "cell_type": "markdown",
   "metadata": {},
   "source": [
    "Q20. What is the longest word? Give one instance if multiple longest words are found."
   ]
  },
  {
   "cell_type": "code",
   "execution_count": null,
   "metadata": {},
   "outputs": [],
   "source": [
    "mx = 0\n",
    "for i in d:\n",
    "    if len(i) > mx:\n",
    "        mx = len(i)\n",
    "        ins = i\n",
    "print(ins)"
   ]
  }
 ],
 "metadata": {
  "kernelspec": {
   "display_name": "Python 3",
   "language": "python",
   "name": "python3"
  },
  "language_info": {
   "codemirror_mode": {
    "name": "ipython",
    "version": 3
   },
   "file_extension": ".py",
   "mimetype": "text/x-python",
   "name": "python",
   "nbconvert_exporter": "python",
   "pygments_lexer": "ipython3",
   "version": "3.6.4"
  }
 },
 "nbformat": 4,
 "nbformat_minor": 2
}
