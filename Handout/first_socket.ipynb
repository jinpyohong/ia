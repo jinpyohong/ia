{
 "cells": [
  {
   "cell_type": "markdown",
   "metadata": {},
   "source": [
    "# Fisrt Socket Programming"
   ]
  },
  {
   "cell_type": "markdown",
   "metadata": {},
   "source": [
    "## Bytes and Bytesarray Objects\n",
    "`bytes`: immutable sequences of single bytes\n",
    "\n",
    "`bytearray`: mutable counterpart to `bytes` objects"
   ]
  },
  {
   "cell_type": "code",
   "execution_count": 1,
   "metadata": {},
   "outputs": [
    {
     "name": "stdout",
     "output_type": "stream",
     "text": [
      "b'hello, world'\n",
      "12 12\n"
     ]
    },
    {
     "data": {
      "text/plain": [
       "False"
      ]
     },
     "execution_count": 1,
     "metadata": {},
     "output_type": "execute_result"
    }
   ],
   "source": [
    "a = 'hello, world'\n",
    "b = bytes(a, encoding='utf-8')\n",
    "print(b)\n",
    "print(len(a), len(b))\n",
    "a == b"
   ]
  },
  {
   "cell_type": "markdown",
   "metadata": {},
   "source": [
    "> UTF-8 encoding 방식은 영문자(7-bit ASCII)는 그대로 1 byte로 표현된다. 그러나, 8-bit ASCII나 muti-byte code들(한글 완성형 code, MS949 code, unicode 등)은 문자 당 2~4 byte로 표현된다."
   ]
  },
  {
   "cell_type": "code",
   "execution_count": 2,
   "metadata": {},
   "outputs": [
    {
     "name": "stdout",
     "output_type": "stream",
     "text": [
      "b'\\xec\\x95\\x88\\xeb\\x85\\x95, \\xeb\\x8c\\x80\\xed\\x95\\x9c\\xeb\\xaf\\xbc\\xea\\xb5\\xad'\n",
      "8 20\n"
     ]
    },
    {
     "data": {
      "text/plain": [
       "'안녕, 대한민국'"
      ]
     },
     "execution_count": 2,
     "metadata": {},
     "output_type": "execute_result"
    }
   ],
   "source": [
    "h = '안녕, 대한민국'\n",
    "bh = h.encode('utf-8')\n",
    "print(bh)\n",
    "print(len(h), len(bh))\n",
    "bh.decode('utf-8')"
   ]
  },
  {
   "cell_type": "code",
   "execution_count": 3,
   "metadata": {},
   "outputs": [
    {
     "data": {
      "text/plain": [
       "'ec9588eb85952c20eb8c80ed959cebafbceab5ad'"
      ]
     },
     "execution_count": 3,
     "metadata": {},
     "output_type": "execute_result"
    }
   ],
   "source": [
    "ba = bytearray(bh)\n",
    "ba.extend(b'korea')\n",
    "bh.hex()"
   ]
  },
  {
   "cell_type": "markdown",
   "metadata": {},
   "source": [
    "|         | Python2    | Python3 |\n",
    "|---------|------------| --------|\n",
    "| str     | utf-8 or ms949 | unicode|\n",
    "| print   | statement      | function |"
   ]
  },
  {
   "cell_type": "markdown",
   "metadata": {},
   "source": [
    "## First socket program - a client"
   ]
  },
  {
   "cell_type": "code",
   "execution_count": 4,
   "metadata": {},
   "outputs": [
    {
     "name": "stdout",
     "output_type": "stream",
     "text": [
      "<socket.socket fd=45, family=AddressFamily.AF_INET, type=SocketKind.SOCK_STREAM, proto=0, laddr=('0.0.0.0', 0)>\n"
     ]
    },
    {
     "data": {
      "text/plain": [
       "socket.socket"
      ]
     },
     "execution_count": 4,
     "metadata": {},
     "output_type": "execute_result"
    }
   ],
   "source": [
    "import socket\n",
    "s = socket.socket(socket.AF_INET, socket.SOCK_STREAM)  # create a TCP socket object\n",
    "print(s)\n",
    "type(s)"
   ]
  },
  {
   "cell_type": "code",
   "execution_count": 5,
   "metadata": {},
   "outputs": [
    {
     "name": "stdout",
     "output_type": "stream",
     "text": [
      "<socket.socket fd=45, family=AddressFamily.AF_INET, type=SocketKind.SOCK_STREAM, proto=0, laddr=('203.253.70.30', 42232), raddr=('203.253.70.30', 7)>\n"
     ]
    }
   ],
   "source": [
    "s.connect(('np.hufs.ac.kr', 7))    # connect to echo server\n",
    "print(s)"
   ]
  },
  {
   "cell_type": "code",
   "execution_count": 6,
   "metadata": {},
   "outputs": [
    {
     "data": {
      "text/plain": [
       "31"
      ]
     },
     "execution_count": 6,
     "metadata": {},
     "output_type": "execute_result"
    }
   ],
   "source": [
    "# msg = 'Hello, np!'\n",
    "msg = '안녕 대한민국 hollo Korea'\n",
    "s.send(msg.encode('utf-8'))        # bytes type"
   ]
  },
  {
   "cell_type": "code",
   "execution_count": 7,
   "metadata": {},
   "outputs": [
    {
     "name": "stdout",
     "output_type": "stream",
     "text": [
      "안녕 대한민국 hollo Korea\n"
     ]
    }
   ],
   "source": [
    "reply = s.recv(1024)\n",
    "print(reply.decode('utf-8'))       # bytes type"
   ]
  },
  {
   "cell_type": "code",
   "execution_count": 8,
   "metadata": {},
   "outputs": [],
   "source": [
    "s.close()    # teminate the TCP connection"
   ]
  },
  {
   "cell_type": "code",
   "execution_count": 10,
   "metadata": {},
   "outputs": [
    {
     "data": {
      "text/plain": [
       "bytes"
      ]
     },
     "execution_count": 10,
     "metadata": {},
     "output_type": "execute_result"
    }
   ],
   "source": [
    "type(reply)"
   ]
  },
  {
   "cell_type": "markdown",
   "metadata": {},
   "source": [
    "## Fetching a page from web server - using ```urlopen```"
   ]
  },
  {
   "cell_type": "code",
   "execution_count": 18,
   "metadata": {},
   "outputs": [
    {
     "name": "stdout",
     "output_type": "stream",
     "text": [
      "<!DOCTYPE html>\n",
      "<html lang=\"en\" dir=\"ltr\" class=\"client-nojs\">\n",
      "<head>\n",
      "<title>Lectures/IA/2018 - MCLab</title>\n",
      "<meta charset=\"UTF-8\" />\n",
      "<meta name=\"generator\" content=\"MediaWiki 1.21.2\" />\n",
      "<link rel=\"shortcut icon\" href=\"/favicon.ico\" />\n",
      "<link rel=\"search\" type=\"application/opensearchdescription+xml\" href=\"/mediawiki/opensearch_desc.php\" title=\"MCLab (en)\" />\n",
      "<link rel=\"EditURI\" type=\"application/rsd+xml\" href=\"http://mclab.hufs.ac.kr/mediawiki/api.php?action=rsd\" />\n",
      "<link rel=\"alternate\" type=\"a\n"
     ]
    }
   ],
   "source": [
    "import sys\n",
    "from urllib.request import urlopen\n",
    "\n",
    "url = \"http://mclab.hufs.ac.kr/wiki/Lectures/IA/2018\"\n",
    "with urlopen(url) as f:\n",
    "    contents = f.read().decode()\n",
    "print(contents[:500])"
   ]
  },
  {
   "cell_type": "markdown",
   "metadata": {},
   "source": [
    "## Fetching a page from web server - by socket programming"
   ]
  },
  {
   "cell_type": "code",
   "execution_count": 15,
   "metadata": {},
   "outputs": [
    {
     "name": "stdout",
     "output_type": "stream",
     "text": [
      "GET /test/index.html HTTP/1.1\r\n",
      "Host: mclab.hufs.ac.kr\r\n",
      "Connection: close\r\n",
      "\r\n",
      "\n",
      "1448\n",
      "216\n",
      "b'HTTP/1.1 200 OK\\r\\nDate: Thu, 27 Sep 2018 04:25:01 GMT\\r\\nServer: Apache/2.2.22 (Ubuntu)\\r\\nLast-Modified: Tue, 19 Sep 2017 06:13:15 GMT\\r\\nETag: \"1e982f-569-55984c1337a5f\"\\r\\nAccept-Ranges: bytes\\r\\nContent-Length: 1385\\r\\nVary: Accept-Encoding\\r\\nConnection: close\\r\\nContent-Type: text/html\\r\\n\\r\\n<html>\\n<head>\\n<title>Test Page</title>\\n<meta http-equiv=\"content-type\" content=\"text/html; charset=UTF-8\">\\n</head>\\n\\n<body>\\n<h1>Information and Communications Engineering</h1>\\n<p><img src=\"http://ice.hufs.ac.kr/hufs-image01.jpg\" border=\"0\"></p>\\n<p>Welcome to Dept. of Information and Communications Engineering</p>\\n<p></p>\\n<p>\\xed\\x95\\x9c\\xea\\xb5\\xad\\xec\\x99\\xb8\\xea\\xb5\\xad\\xec\\x96\\xb4\\xeb\\x8c\\x80\\xed\\x95\\x99\\xea\\xb5\\x90 \\xec\\xa0\\x95\\xeb\\xb3\\xb4\\xed\\x86\\xb5\\xec\\x8b\\xa0\\xea\\xb3\\xb5\\xed\\x95\\x99\\xea\\xb3\\xbc</p>\\n\\n<h2>Blue Sky</h2>\\n<h3>SKY 2</h3>\\n<p><img src=\"s3test2.gif\" border=\"0\"></p>\\n\\n<h3>SKY 3</h3>\\n<p><img src=\"s3test3.jpg\" border=\"0\"></p>\\n    <tr>\\n        <td width=\"0\"><font size=\"1\">&nbsp;</font></td>\\n        <td width=\"0\"><font size=\"1\">&nbsp;</font></td>\\n            <p><span style=\"font-size: 22pt;\"><font color=\"#17365d\" face=\"Impact\">SKY 4</font></span></p>\\n            <p><font size=\"1\"><img src=\"s3test4.jpg\" border=\"0\"></font></p>\\n        <td width=\"0\"><font size=\"1\">&nbsp;</font></td>\\n        <td width=\"1\"><font size=\"1\">&nbsp;</font></td>\\n    </tr>\\n    <tr>\\n        <td width=\"0\"><font size=\"1\">&nbsp;</font></td>\\n        <td width=\"0\"><font size=\"1\">&nbsp;</font></td>\\n            <p><span style=\"font-size: 22pt;\"><font color=\"#17365d\" face=\"Impact\">SKY 5</font></span></p>\\n            <p><font size=\"1\"><img src=\"s3test5.jpg\" border=\"0\"></font></p>\\n        <td width=\"0\"><font size=\"1\">&nbsp;</font></td>\\n        <td width=\"1\"><font size=\"1\">&nbsp;</font></td>\\n    </tr>\\n</tbody></table>\\n</html>\\n'\n"
     ]
    }
   ],
   "source": [
    "from urllib.request import urlparse\n",
    "import socket\n",
    "\n",
    "template = \"GET {path} HTTP/1.1\\r\\nHost: {host}\\r\\nConnection: close\\r\\n\\r\\n\"\n",
    "url = \"http://mclab.hufs.ac.kr/test/index.html\"\n",
    "r = urlparse(url)\n",
    "host, port = r.hostname, r.port if r.port else 80\n",
    "path = r.path + '?' + r.query if r.query else r.path\n",
    "request = template.format(path=path, host=host)\n",
    "\n",
    "sock = socket.socket(socket.AF_INET, socket.SOCK_STREAM)\n",
    "sock.connect((host, port))\n",
    "print(request)\n",
    "sock.send(request.encode('utf-8'))\n",
    "\n",
    "chunks = []\n",
    "while True:\n",
    "    chunk = sock.recv(4096)\n",
    "    if not chunk: break       # server closes\n",
    "    print(len(chunk))\n",
    "    chunks.append(chunk)\n",
    "sock.close()\n",
    "\n",
    "response = b''.join(chunks)\n",
    "print(response)"
   ]
  },
  {
   "cell_type": "markdown",
   "metadata": {},
   "source": [
    "> Internet에서 줄바꿈 표준은 `b'\\r\\n'`이다. 하지만, 많은 web server들은 `b'\\n'`만 있어도 OK.\n",
    ">\n",
    "> response message에는 \n",
    "> - status line: `HTTP/1.1 200 OK` (200은 request가 성공적으로 처리됐다는 뜻)\n",
    "> - header lines\n",
    "> `b'\\r\\n\\r\\n'` - blank line (한줄 띄기)\n",
    "> 이어서 실제 download된 web contents가 있다.\n",
    "\n",
    "Contents를 가져오려면, `b'\\r\\n\\r\\n'` 다음 byte부터 끝까지 분리하면 된다."
   ]
  },
  {
   "cell_type": "code",
   "execution_count": 23,
   "metadata": {},
   "outputs": [
    {
     "name": "stdout",
     "output_type": "stream",
     "text": [
      "HTTP/1.1 200 OK\r\n",
      "\n",
      "Date: Thu, 27 Sep 2018 04:25:01 GMT\r\n",
      "Server: Apache/2.2.22 (Ubuntu)\r\n",
      "Last-Modified: Tue, 19 Sep 2017 06:13:15 GMT\r\n",
      "ETag: \"1e982f-569-55984c1337a5f\"\r\n",
      "Accept-Ranges: bytes\r\n",
      "Content-Length: 1385\r\n",
      "Vary: Accept-Encoding\r\n",
      "Connection: close\r\n",
      "Content-Type: text/html\r\n",
      "\n",
      "<html>\n",
      "<head>\n",
      "<title>Test Page</title>\n",
      "<meta http-equiv=\"content-type\" content=\"text/html; charset=UTF-8\">\n",
      "</head>\n",
      "\n",
      "<body>\n",
      "<h1>Information and Communications Engineering</h1>\n",
      "<p><img src=\"http://ice.hufs.ac.kr/hufs-image01.jpg\" border=\"0\"></p>\n",
      "<p>Welcome to Dept. of Information and Communications Engineering</p>\n",
      "<p></p>\n",
      "<p>한국외국어대학교 정보통신공학과</p>\n",
      "\n",
      "<h2>Blue Sky</h2>\n",
      "<h3>SKY 2</h3>\n",
      "<p><img src=\"s3test2.gif\" border=\"0\"></p>\n",
      "\n",
      "<h3>SKY 3</h3>\n",
      "<p><img src=\"s3test3.jpg\" border=\"0\"></p>\n",
      "    <tr>\n",
      "        <td width=\"0\"><font size=\"1\">&nbsp;</font></td>\n",
      "        <td width=\"0\"><font size=\"1\">&nbsp;</font></td>\n",
      "            <p><span style=\"font-size: 22pt;\"><font color=\"#17365d\" face=\"Impact\">SKY 4</font></span></p>\n",
      "            <p><font size=\"1\"><img src=\"s3test4.jpg\" border=\"0\"></font></p>\n",
      "        <td width=\"0\"><font size=\"1\">&nbsp;</font></td>\n",
      "        <td width=\"1\"><font size=\"1\">&nbsp;</font></td>\n",
      "    </tr>\n",
      "    <tr>\n",
      "        <td width=\"0\"><font size=\"1\">&nbsp;</font></td>\n",
      "        <td width=\"0\"><font size=\"1\">&nbsp;</font></td>\n",
      "            <p><span style=\"font-size: 22pt;\"><font color=\"#17365d\" face=\"Impact\">SKY 5</font></span></p>\n",
      "            <p><font size=\"1\"><img src=\"s3test5.jpg\" border=\"0\"></font></p>\n",
      "        <td width=\"0\"><font size=\"1\">&nbsp;</font></td>\n",
      "        <td width=\"1\"><font size=\"1\">&nbsp;</font></td>\n",
      "    </tr>\n",
      "</tbody></table>\n",
      "</html>\n",
      "\n"
     ]
    }
   ],
   "source": [
    "eol = response.find(b'\\r\\n') + 2\n",
    "status, remainder = response[:eol], response[eol:]\n",
    "eoh = remainder.find(b'\\r\\n\\r\\n') + 2\n",
    "headers, contents = remainder[:eoh], remainder[eoh+2:]\n",
    "print(status.decode())\n",
    "print(headers.decode())\n",
    "print(contents.decode())"
   ]
  },
  {
   "cell_type": "markdown",
   "metadata": {},
   "source": [
    "## Fetching a page from web server by converting socket to file-like object"
   ]
  },
  {
   "cell_type": "code",
   "execution_count": 41,
   "metadata": {
    "scrolled": true
   },
   "outputs": [
    {
     "name": "stdout",
     "output_type": "stream",
     "text": [
      "200 OK\n",
      "\n",
      "{'Date': 'Thu, 27 Sep 2018 05:52:37 GMT', 'Server': 'Apache/2.2.22 (Ubuntu)', 'Last-Modified': 'Tue, 19 Sep 2017 06:13:15 GMT', 'ETag': '\"1e982f-569-55984c1337a5f\"', 'Accept-Ranges': 'bytes', 'Content-Length': '1385', 'Vary': 'Accept-Encoding', 'Connection': 'close', 'Content-Type': 'text/html'}\n",
      "\n",
      "<html>\n",
      "<head>\n",
      "<title>Test Page</title>\n",
      "<meta http-equiv=\"content-type\" content=\"text/html; charset=UTF-8\">\n",
      "</head>\n",
      "\n",
      "<body>\n",
      "<h1>Information and Communications Engineering</h1>\n",
      "<p><img src=\"http://ice.hufs.ac.kr/hufs-image01.jpg\" border=\"0\"></p>\n",
      "<p>Welcome to Dept. of Information and Communications Engineering</p>\n",
      "<p></p>\n",
      "<p>한국외국어대학교 정보통신공학과</p>\n",
      "\n",
      "<h2>Blue Sky</h2>\n",
      "<h3>SKY 2</h3>\n",
      "<p><img src=\"s3test2.gif\" border=\"0\"></p>\n",
      "\n",
      "<h3>SKY 3</h3>\n",
      "<p><img src=\"s3test3.jpg\" border=\"0\"></p>\n",
      "    <tr>\n",
      "        <td width=\"0\"><font size=\"1\">&nbsp;</font></td>\n",
      "        <td width=\"0\"><font size=\"1\">&nbsp;</font></td>\n",
      "            <p><span style=\"font-size: 22pt;\"><font color=\"#17365d\" face=\"Impact\">SKY 4</font></span></p>\n",
      "            <p><font size=\"1\"><img src=\"s3test4.jpg\" border=\"0\"></font></p>\n",
      "        <td width=\"0\"><font size=\"1\">&nbsp;</font></td>\n",
      "        <td width=\"1\"><font size=\"1\">&nbsp;</font></td>\n",
      "    </tr>\n",
      "    <tr>\n",
      "        <td width=\"0\"><font size=\"1\">&nbsp;</font></td>\n",
      "        <td width=\"0\"><font size=\"1\">&nbsp;</font></td>\n",
      "            <p><span style=\"font-size: 22pt;\"><font color=\"#17365d\" face=\"Impact\">SKY 5</font></span></p>\n",
      "            <p><font size=\"1\"><img src=\"s3test5.jpg\" border=\"0\"></font></p>\n",
      "        <td width=\"0\"><font size=\"1\">&nbsp;</font></td>\n",
      "        <td width=\"1\"><font size=\"1\">&nbsp;</font></td>\n",
      "    </tr>\n",
      "</tbody></table>\n",
      "</html>\n",
      "\n"
     ]
    }
   ],
   "source": [
    "import socket\n",
    "\n",
    "template = \"GET {path} HTTP/1.1\\r\\nHost: {host}\\r\\nConnection: close\\r\\n\\r\\n\"\n",
    "url = \"http://mclab.hufs.ac.kr/test/index.html\"\n",
    "\n",
    "r = urlparse(url)\n",
    "host, port = r.hostname, r.port if r.port else 80\n",
    "path = r.path + '?' + r.query if r.query else r.path\n",
    "\n",
    "with socket.socket(socket.AF_INET, socket.SOCK_STREAM) as sock:\n",
    "    sock.connect((host, port))\n",
    "    infile = sock.makefile('rb')    # convert to file-like object\n",
    "    request = template.format(path=path, host=host)\n",
    "    sock.sendall(request.encode()) \n",
    "    status_line = infile.readline().decode()\n",
    "    protocol, code, phrase = status_line[:-2].split(maxsplit=2)\n",
    "    headers = {}\n",
    "    for line in infile:\n",
    "        if line == b'\\r\\n':       # empty line reached\n",
    "            break\n",
    "        header = line[:-2].decode()\n",
    "        key, value = header.split(':', maxsplit=1)\n",
    "        headers[key] = value.lstrip()   # remove leading white spaces\n",
    "    contents = infile.read().decode()\n",
    "\n",
    "print(code, phrase); print()\n",
    "print(headers); print()\n",
    "print(contents)"
   ]
  },
  {
   "cell_type": "markdown",
   "metadata": {},
   "source": [
    "## An OO HTTP client implementation"
   ]
  },
  {
   "cell_type": "code",
   "execution_count": 24,
   "metadata": {},
   "outputs": [
    {
     "name": "stdout",
     "output_type": "stream",
     "text": [
      "aaea\r\n",
      "<!DOCTYPE html>\n",
      "<html lang=\"en\" dir=\"ltr\" class=\"client-nojs\">\n",
      "<head>\n",
      "<title>Lectures/IA/2018 - MCLab</title>\n",
      "<meta charset=\"UTF-8\" />\n",
      "<meta name=\"generator\" content=\"MediaWiki 1.21.2\" />\n",
      "<link rel=\"shortcut icon\" href=\"/favicon.ico\" />\n",
      "<link rel=\"search\" type=\"application/opensearchdescription+xml\" href=\"/mediawiki/opensearch_desc.php\" title=\"MCLab (en)\" />\n",
      "<link rel=\"EditURI\" type=\"application/rsd+xml\" href=\"http://mclab.hufs.ac.kr/mediawiki/api.php?action=rsd\" />\n",
      "<link rel=\"alternate\" t\n"
     ]
    },
    {
     "data": {
      "text/plain": [
       "{'Cache-Control': 'private, must-revalidate, max-age=0',\n",
       " 'Connection': 'close',\n",
       " 'Content-Type': 'text/html; charset=UTF-8',\n",
       " 'Content-language': 'en',\n",
       " 'Date': 'Mon, 14 May 2018 08:10:19 GMT',\n",
       " 'Expires': 'Thu, 01 Jan 1970 00:00:00 GMT',\n",
       " 'Last-Modified': 'Mon, 14 May 2018 04:04:45 GMT',\n",
       " 'Server': 'Apache/2.2.22 (Ubuntu)',\n",
       " 'Transfer-Encoding': 'chunked',\n",
       " 'Vary': 'Accept-Encoding,Cookie',\n",
       " 'X-Content-Type-Options': 'nosniff',\n",
       " 'X-Powered-By': 'PHP/5.3.10-1ubuntu3.10'}"
      ]
     },
     "execution_count": 24,
     "metadata": {},
     "output_type": "execute_result"
    }
   ],
   "source": [
    "import socket\n",
    "\n",
    "class HTTPcli:\n",
    "    template = \"GET {path} HTTP/1.1\\r\\nHost: {host}\\r\\nConnection: close\\r\\n\\r\\n\"\n",
    "\n",
    "    def __init__(self, url):\n",
    "        r = urlparse(url)\n",
    "        self.host, self.port = r.hostname, r.port if r.port else 80\n",
    "        self.path = r.path + '?' + r.query if r.query else r.path\n",
    "        self.request = HTTPcli.template.format(path=self.path, host=self.host) \n",
    "            \n",
    "    def read(self):\n",
    "        with socket.socket(socket.AF_INET, socket.SOCK_STREAM) as sock:\n",
    "            sock.connect((host, port))\n",
    "            self.infile = sock.makefile('rb')    # convert to file-like object\n",
    "            request = template.format(path=path, host=host)\n",
    "            sock.sendall(request.encode())\n",
    "\n",
    "            self.status = self.infile.readline().decode().split()[1]\n",
    "            self._proc_headers()\n",
    "            contents = self.infile.read()\n",
    "        return contents\n",
    "\n",
    "    def _proc_headers(self):\n",
    "        self.headers = {}\n",
    "        for line in self.infile:\n",
    "            if line == b'\\r\\n':\n",
    "                 break\n",
    "            matched = re.search(r'([\\w-]+)\\s*:\\s*(.*)\\s*\\r\\n$', line.decode())\n",
    "            if matched: \n",
    "                key, value = matched.groups()\n",
    "                self.headers[key] = value   \n",
    "    def get_headers(self):\n",
    "        return self.headers\n",
    "    \n",
    "    def get_header(self, key):\n",
    "        return self.headers.get(key)\n",
    "\n",
    "cli = HTTPcli(\"http://mclab.hufs.ac.kr/wiki/Lectures/IA/2018\")\n",
    "contents = cli.read()\n",
    "print(contents[:500].decode())\n",
    "cli.get_headers()"
   ]
  }
 ],
 "metadata": {
  "kernelspec": {
   "display_name": "Python 3",
   "language": "python",
   "name": "python3"
  },
  "language_info": {
   "codemirror_mode": {
    "name": "ipython",
    "version": 3
   },
   "file_extension": ".py",
   "mimetype": "text/x-python",
   "name": "python",
   "nbconvert_exporter": "python",
   "pygments_lexer": "ipython3",
   "version": "3.6.4"
  }
 },
 "nbformat": 4,
 "nbformat_minor": 2
}
