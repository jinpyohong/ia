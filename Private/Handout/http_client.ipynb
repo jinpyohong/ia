{
 "cells": [
  {
   "cell_type": "markdown",
   "metadata": {},
   "source": [
    "## Persistent와 Non-Persistent HTTP, 그리고 Web Page 완성하기\n",
    "### - Fetching the base HTML and included objects "
   ]
  },
  {
   "cell_type": "markdown",
   "metadata": {},
   "source": [
    "## Let's start with OOP\n",
    "module ```mylib.py:```\n",
    "- 먼저 Request class와 Connection class를 정의해 보자.\n",
    "- 주어진 server와 TCP connection을 열고 Connection object를 return하는 함수를 생각해 보자."
   ]
  },
  {
   "cell_type": "code",
   "execution_count": 9,
   "metadata": {},
   "outputs": [],
   "source": [
    "from urllib.request import urlparse\n",
    "import socket\n",
    "\n",
    "class Request:\n",
    "    def __init__(self, url, headers=None):\n",
    "        \"\"\"Create Request object from url\"\"\"\n",
    "        r = urlparse(url)\n",
    "        if r.scheme != 'http': raise NotImplementedError(r.scheme)\n",
    "        self.server = r.hostname, r.port if r.port else 80\n",
    "        self.path = r.path + '?' + r.query if r.query else r.path\n",
    "        self.headers = {'Host': r.hostname}\n",
    "        if headers:\n",
    "            self.add_headers(headers)\n",
    "\n",
    "    def add_headers(self, headers):\n",
    "        \"\"\"Add new headers of dict type\n",
    "        \"\"\"\n",
    "        self.headers.update(headers)\n",
    "\n",
    "    def build(self):\n",
    "        \"\"\"Build a request message\n",
    "        \"\"\"\n",
    "        l = []\n",
    "        l.append('GET {} HTTP/1.1'.format(self.path))\n",
    "        for key, value in self.headers.items():\n",
    "            l.append('{}: {}'.format(key, value))\n",
    "        message = '\\r\\n'.join(l) + '\\r\\n\\r\\n'\n",
    "        return message.encode('utf-8')\n",
    "\n",
    "class Response:\n",
    "    def __init__(self, status, headers, contents):\n",
    "        self.status, self.headers, self.contents = status, headers, contents\n",
    "\n",
    "class Connection:\n",
    "    def __init__(self, server, sock, infile):\n",
    "        \"\"\"Session open by http_open function\n",
    "        \"\"\"\n",
    "        self.server, self.sock, self.infile = server, sock, infile\n",
    "\n",
    "    def close(self):\n",
    "        if not self.sock._closed:\n",
    "            self.infile.close()\n",
    "            self.sock.close()\n",
    "\n",
    "    def send(self, request):\n",
    "        message = request.build()\n",
    "        print('Sending request:', message, sep='\\n')\n",
    "        return self.sock.sendall(message)\n",
    "\n",
    "    def get_headers(self):\n",
    "        \"\"\"Parse HTTP response message and get status and headers from it\n",
    "        \"\"\"\n",
    "\n",
    "        def parse_headers(file):\n",
    "            \"\"\"extract headers as a dict\n",
    "            \"\"\"\n",
    "            headers = {}\n",
    "            for line in file:\n",
    "                if line == b'\\r\\n':  # end of headers\n",
    "                    break\n",
    "                header = line.decode().strip()  # remove leading and trailing white spaces\n",
    "                key, value = header.split(':', maxsplit=1)\n",
    "                headers[key] = value.strip()\n",
    "            return headers\n",
    "\n",
    "        status_line = self.infile.readline()\n",
    "        if status_line.startswith(b'HTTP/1.1'):\n",
    "            status, status_phrase = status_line.decode().strip().split(maxsplit=2)[1:]\n",
    "        else:\n",
    "            raise SyntaxError('Not starting with status line')\n",
    "        print('Status:', status, status_phrase)\n",
    "        headers = parse_headers(self.infile)\n",
    "        print('Headers:', headers)\n",
    "        return status, headers\n",
    "\n",
    "    def read(self):\n",
    "        \"\"\"Read contents according to header definitions\"\"\"\n",
    "\n",
    "        def read_chunked(infile):\n",
    "            # Chunked transfer encoding for streaming data\n",
    "            # See https://en.wikipedia.org/wiki/Chunked_transfer_encoding\n",
    "            chunks = []\n",
    "            while True:\n",
    "                hex_str = infile.readline().strip()\n",
    "                chunk_len = int(hex_str, 16)\n",
    "                print(\"chunk\", chunk_len)\n",
    "                if chunk_len == 0:\n",
    "                    break\n",
    "                chunk = infile.read(chunk_len)\n",
    "                chunks.append(chunk)\n",
    "                infile.readline()  # skip CRLF\n",
    "            contents = b''.join(chunks)\n",
    "            infile.readline()  # skip CRLF\n",
    "            return contents\n",
    "\n",
    "        status, headers = self.get_headers()\n",
    "        content_len = headers.get('Content-Length')\n",
    "        if content_len:\n",
    "            # If Content-Length header exists, read the content-length bytes\n",
    "            contents = self.infile.read(int(content_len))\n",
    "        elif headers.get('Transfer-Encoding') == 'chunked':\n",
    "            contents = read_chunked(self.infile)\n",
    "        else:\n",
    "            # otherwiese, read until server closing\n",
    "            contents = self.infile.read()\n",
    "        print('Contents:')\n",
    "        print(contents[:40])\n",
    "        print('...')\n",
    "        print(contents[-40:])\n",
    "        return Response(status, headers, contents)\n",
    "\n",
    "def http_open(server):\n",
    "    print('open new connection to server', server)\n",
    "    sock = socket.socket(socket.AF_INET, socket.SOCK_STREAM)\n",
    "    sock.connect(server)\n",
    "    infile = sock.makefile('rb')  # convert incoming socket to file-like object\n",
    "    return Connection(server, sock, infile)"
   ]
  },
  {
   "cell_type": "markdown",
   "metadata": {},
   "source": [
    "### Non-persistent HTTP\n",
    "위 module을 활용해서 non-persistent HTTP mode로 web contents를 가져오자.\n",
    "\n",
    "> Request object에서 header들은 ```dict``` type으로 표현된다.  ```add_headers``` method로 header들을 추가 할 수 있으며, ```build``` method로 request message를 생성할 수 있다.\n",
    "\n",
    "> server로 하여금 response를 보낸 후 즉각 connection을 close할 것을 요청하기 위한 header를 추가했다. \n",
    "\n",
    "위 모듈을 Python IDE에서 사용하려면 import하라.\n",
    "```Python\n",
    "from mylib import Request, http_open\n",
    "```"
   ]
  },
  {
   "cell_type": "code",
   "execution_count": 15,
   "metadata": {
    "scrolled": true
   },
   "outputs": [
    {
     "name": "stdout",
     "output_type": "stream",
     "text": [
      "{'Host': 'mclab.hufs.ac.kr'}\n",
      "('mclab.hufs.ac.kr', 80)\n",
      "b'GET /wiki/Lectures/CN/2018 HTTP/1.1\\r\\nHost: mclab.hufs.ac.kr\\r\\n\\r\\n'\n"
     ]
    }
   ],
   "source": [
    "# url = \"http://mclab.hufs.ac.kr/test/index.html\"\n",
    "url = \"http://mclab.hufs.ac.kr/wiki/Lectures/CN/2018\"\n",
    "request = Request(url) # non_persistent\n",
    "print(request.headers)\n",
    "print(request.server)\n",
    "print(request.build())"
   ]
  },
  {
   "cell_type": "markdown",
   "metadata": {},
   "source": [
    "Web server와 TCP 연결해서 request message를 보내자. ```send``` method는 ```Request``` object에서 request message를 생성하여 socket으로 송신한다.\n",
    "\n",
    "Response message는 open된 connection으로 먼저 status와 header들을 가져와야 한다.\n",
    "- status: ```int```, headers: ```dict``` type\n",
    "\n",
    "Header에는 Content-Length 등 실제 content를 분리하는데 필요한 정보가 들어 있다.\n",
    "Non-persistent mode인 경우는 더 이상 connection을 유지할 필요가 없기 때문에 connection을 close해 줘야 한다."
   ]
  },
  {
   "cell_type": "code",
   "execution_count": 16,
   "metadata": {},
   "outputs": [
    {
     "name": "stdout",
     "output_type": "stream",
     "text": [
      "open new connection to server ('mclab.hufs.ac.kr', 80)\n",
      "Sending request:\n",
      "b'GET /wiki/Lectures/CN/2018 HTTP/1.1\\r\\nHost: mclab.hufs.ac.kr\\r\\n\\r\\n'\n",
      "Status: 200 OK\n",
      "Headers: {'Date': 'Thu, 11 Oct 2018 01:23:55 GMT', 'Server': 'Apache/2.2.22 (Ubuntu)', 'X-Powered-By': 'PHP/5.3.10-1ubuntu3.10', 'X-Content-Type-Options': 'nosniff', 'Content-language': 'en', 'Vary': 'Accept-Encoding,Cookie', 'Expires': 'Thu, 01 Jan 1970 00:00:00 GMT', 'Cache-Control': 'private, must-revalidate, max-age=0', 'Last-Modified': 'Thu, 11 Oct 2018 00:37:42 GMT', 'Transfer-Encoding': 'chunked', 'Content-Type': 'text/html; charset=UTF-8'}\n",
      "chunk 32011\n",
      "chunk 0\n",
      "Contents:\n",
      "b'<!DOCTYPE html>\\n<html lang=\"en\" dir=\"ltr'\n",
      "...\n",
      "b'ved in 0.132 secs. -->\\n\\t</body>\\n</html>\\n'\n"
     ]
    }
   ],
   "source": [
    "conn = http_open(request.server)\n",
    "conn.send(request)\n",
    "response = conn.read()\n",
    "conn.close()"
   ]
  },
  {
   "cell_type": "code",
   "execution_count": 17,
   "metadata": {},
   "outputs": [
    {
     "name": "stdout",
     "output_type": "stream",
     "text": [
      "200\n",
      "{'Date': 'Thu, 11 Oct 2018 01:23:55 GMT', 'Server': 'Apache/2.2.22 (Ubuntu)', 'X-Powered-By': 'PHP/5.3.10-1ubuntu3.10', 'X-Content-Type-Options': 'nosniff', 'Content-language': 'en', 'Vary': 'Accept-Encoding,Cookie', 'Expires': 'Thu, 01 Jan 1970 00:00:00 GMT', 'Cache-Control': 'private, must-revalidate, max-age=0', 'Last-Modified': 'Thu, 11 Oct 2018 00:37:42 GMT', 'Transfer-Encoding': 'chunked', 'Content-Type': 'text/html; charset=UTF-8'}\n",
      "b'<!DOCTYPE html>\\n<html lang=\"en\" dir=\"ltr\" class=\"client-nojs\">\\n<head>\\n<title>Lec'\n"
     ]
    }
   ],
   "source": [
    "print(response.status)\n",
    "print(response.headers)\n",
    "print(response.contents[:80])"
   ]
  },
  {
   "cell_type": "markdown",
   "metadata": {},
   "source": [
    "### Persistent HTTP mode를 이용할 경우\n",
    "HTTP/1.1에서는 default가 persistent mode이므로 추가 header 없이 `Request` object을 생성하면 충분하다.\n",
    "\n",
    "다만, open된 connection은 다시 사용될 수 있으므로 close해서는 안된다."
   ]
  },
  {
   "cell_type": "code",
   "execution_count": 20,
   "metadata": {},
   "outputs": [
    {
     "name": "stdout",
     "output_type": "stream",
     "text": [
      "open new connection to server ('mclab.hufs.ac.kr', 80)\n",
      "Sending request:\n",
      "b'GET /test/index.html HTTP/1.1\\r\\nHost: mclab.hufs.ac.kr\\r\\n\\r\\n'\n",
      "Status: 200 OK\n",
      "Headers: {'Date': 'Thu, 11 Oct 2018 01:35:43 GMT', 'Server': 'Apache/2.2.22 (Ubuntu)', 'Last-Modified': 'Tue, 19 Sep 2017 06:13:15 GMT', 'ETag': '\"1e982f-569-55984c1337a5f\"', 'Accept-Ranges': 'bytes', 'Content-Length': '1385', 'Vary': 'Accept-Encoding', 'Content-Type': 'text/html'}\n",
      "Contents:\n",
      "b'<html>\\n<head>\\n<title>Test Page</title>\\n<'\n",
      "...\n",
      "b'/td>\\n    </tr>\\n</tbody></table>\\n</html>\\n'\n",
      "('mclab.hufs.ac.kr', 80)\n"
     ]
    }
   ],
   "source": [
    "base_url = \"http://mclab.hufs.ac.kr/test/index.html\"\n",
    "request = Request(base_url)\n",
    "conn = http_open(request.server)\n",
    "conn.send(request)\n",
    "base_html = conn.read()\n",
    "print(conn.server)"
   ]
  },
  {
   "cell_type": "markdown",
   "metadata": {},
   "source": [
    "같은 server에 존재하는 object인 경우, \n",
    "위 connection을 사용하면 새로 connection 만드는데 걸리는 시간(RTT)을 절약할 수 있다."
   ]
  },
  {
   "cell_type": "code",
   "execution_count": 21,
   "metadata": {
    "scrolled": false
   },
   "outputs": [
    {
     "name": "stdout",
     "output_type": "stream",
     "text": [
      "Sending request:\n",
      "b'GET /test/s3test2.gif HTTP/1.1\\r\\nHost: mclab.hufs.ac.kr\\r\\n\\r\\n'\n",
      "Status: 200 OK\n",
      "Headers: {'Date': 'Thu, 11 Oct 2018 01:35:47 GMT', 'Server': 'Apache/2.2.22 (Ubuntu)', 'Last-Modified': 'Thu, 03 Oct 2013 05:45:45 GMT', 'ETag': '\"1ea143-d272-4e7cfb2748beb\"', 'Accept-Ranges': 'bytes', 'Content-Length': '53874', 'Content-Type': 'image/gif'}\n",
      "Contents:\n",
      "b'GIF89a\\x90\\x01,\\x01\\xf7\\x00\\x00$,I\\x8f\\x93\\xa4,J\\x9c\\xc7\\xc6\\xccq\\x93\\xd4[p\\x9cJWl\\x99\\xaf\\xdbMq\\xc4'\n",
      "...\n",
      "b'8\\xe1\\x0fv`q\\x84\\xdb_n\\xe1\\x11\\xd6N\\\\\\x86`[&C\\xfa\\x93[5\\xad\\x02]\\xae\\xd7e^\\xe6z\\x95\\x80-\\x08\\x08\\x00;'\n"
     ]
    }
   ],
   "source": [
    "obj_url = 'http://mclab.hufs.ac.kr/test/s3test2.gif'\n",
    "# obj_url = 'http://ice.hufs.ac.kr/hufs-image01.jpg'\n",
    "obj_req = Request(obj_url)\n",
    "if conn.server == obj_req.server:\n",
    "    obj_conn = conn  # reuse this connection\n",
    "else:\n",
    "    obj_conn = http_open(obj_req.server) # new connection    \n",
    "obj_conn.send(obj_req)\n",
    "image = obj_conn.read()"
   ]
  },
  {
   "cell_type": "code",
   "execution_count": 22,
   "metadata": {},
   "outputs": [
    {
     "data": {
      "text/plain": [
       "b'<html>\\n<head>\\n<title>Test Page</title>\\n<meta http-equiv=\"content-type\" content=\"text/html; charset=UTF-8\">\\n</head>\\n\\n<body>\\n<h1>Information and Communications Engineering</h1>\\n<p><img src=\"http://ice.hufs.ac.kr/hufs-image01.jpg\" border=\"0\"></p>\\n<p>Welcome to Dept. of Information and Communications Engineering</p>\\n<p></p>\\n<p>\\xed\\x95\\x9c\\xea\\xb5\\xad\\xec\\x99\\xb8\\xea\\xb5\\xad\\xec\\x96\\xb4\\xeb\\x8c\\x80\\xed\\x95\\x99\\xea\\xb5\\x90 \\xec\\xa0\\x95\\xeb\\xb3\\xb4\\xed\\x86\\xb5\\xec\\x8b\\xa0\\xea\\xb3\\xb5\\xed\\x95\\x99\\xea\\xb3\\xbc</p>\\n\\n<h2>Blue Sky</h2>\\n<h3>SKY 2</h3>\\n<p><img src=\"s3test2.gif\" border=\"0\"></p>\\n\\n<h3>SKY 3</h3>\\n<p><img src=\"s3test3.jpg\" border=\"0\"></p>\\n    <tr>\\n        <td width=\"0\"><font size=\"1\">&nbsp;</font></td>\\n        <td width=\"0\"><font size=\"1\">&nbsp;</font></td>\\n            <p><span style=\"font-size: 22pt;\"><font color=\"#17365d\" face=\"Impact\">SKY 4</font></span></p>\\n            <p><font size=\"1\"><img src=\"s3test4.jpg\" border=\"0\"></font></p>\\n        <td width=\"0\"><font size=\"1\">&nbsp;</font></td>\\n        <td width=\"1\"><font size=\"1\">&nbsp;</font></td>\\n    </tr>\\n    <tr>\\n        <td width=\"0\"><font size=\"1\">&nbsp;</font></td>\\n        <td width=\"0\"><font size=\"1\">&nbsp;</font></td>\\n            <p><span style=\"font-size: 22pt;\"><font color=\"#17365d\" face=\"Impact\">SKY 5</font></span></p>\\n            <p><font size=\"1\"><img src=\"s3test5.jpg\" border=\"0\"></font></p>\\n        <td width=\"0\"><font size=\"1\">&nbsp;</font></td>\\n        <td width=\"1\"><font size=\"1\">&nbsp;</font></td>\\n    </tr>\\n</tbody></table>\\n</html>\\n'"
      ]
     },
     "execution_count": 22,
     "metadata": {},
     "output_type": "execute_result"
    }
   ],
   "source": [
    "base_html.contents"
   ]
  },
  {
   "cell_type": "markdown",
   "metadata": {},
   "source": [
    "### Base HTML Contents에서 Image object의 URL 추출하기\n",
    "HTML contents를 scan하면서 `img` tag 내의 `src` attribute를 extract하면 된다. Regular expression을 사용하여 간단히 수행할 수 있다."
   ]
  },
  {
   "cell_type": "code",
   "execution_count": 23,
   "metadata": {},
   "outputs": [
    {
     "name": "stdout",
     "output_type": "stream",
     "text": [
      "['http://ice.hufs.ac.kr/hufs-image01.jpg', 's3test2.gif', 's3test3.jpg', 's3test4.jpg', 's3test5.jpg']\n"
     ]
    }
   ],
   "source": [
    "from urllib.request import urlopen\n",
    "import re\n",
    "\n",
    "pattern = re.compile(r'<img.*?src=\\\"(.*?)\\\".*?>')\n",
    "urls = pattern.findall(base_html.contents.decode())\n",
    "print(urls)"
   ]
  },
  {
   "cell_type": "markdown",
   "metadata": {},
   "source": [
    "### Converting relative URL to absolute URL\n",
    "위의 URL들은 base URL에 relative하게 표시될 수도 있다. 이들을 absolute URL로 변환하면, `Request` object을 만들 수 있고, 같은 server에 존재하는지 여부도 확인할 수 있겠다."
   ]
  },
  {
   "cell_type": "code",
   "execution_count": 24,
   "metadata": {},
   "outputs": [
    {
     "name": "stdout",
     "output_type": "stream",
     "text": [
      "http://mclab.hufs.ac.kr/test/s3test2.gif\n",
      "http://ice.hufs.ac.kr/hufs-image01.jpg\n"
     ]
    }
   ],
   "source": [
    "from urllib.parse import urljoin\n",
    "\n",
    "print(urljoin(base_url, 's3test2.gif'))\n",
    "print(urljoin(base_url, 'http://ice.hufs.ac.kr/hufs-image01.jpg'))"
   ]
  },
  {
   "cell_type": "code",
   "execution_count": 25,
   "metadata": {},
   "outputs": [
    {
     "name": "stdout",
     "output_type": "stream",
     "text": [
      "['http://ice.hufs.ac.kr/hufs-image01.jpg', 'http://mclab.hufs.ac.kr/test/s3test2.gif', 'http://mclab.hufs.ac.kr/test/s3test3.jpg', 'http://mclab.hufs.ac.kr/test/s3test4.jpg', 'http://mclab.hufs.ac.kr/test/s3test5.jpg']\n"
     ]
    }
   ],
   "source": [
    "absolute_urls = [urljoin(base_url, url) for url in urls]\n",
    "print(absolute_urls)"
   ]
  },
  {
   "cell_type": "markdown",
   "metadata": {},
   "source": [
    "주의:\n",
    "> 다른 일로 지체(예를 들어 0.5초 지연)하게 되면, server가 connection을 close할 수 있다.\n",
    "> 따라서, 이 connection을 사용하려면, 같은 server에 존재하는 object들을 먼저 처리해야 안전하다.\n",
    "> 예을 들어, mclab.hufs.ac.kr에 있는 URL들에 대해 먼저 request를 보내야 할 것이다."
   ]
  },
  {
   "cell_type": "markdown",
   "metadata": {},
   "source": [
    "### Pipelining in Persistent HTTP\n",
    "Persistent HTTP mode에서 object들에 대한 request/response 순서는 다음과 같다.\n",
    "> request-1 >> response-1 >> ... >> request-n >> response-n\n",
    "\n",
    "만일, base html과 같은 server에 존재하는 object들에 대해서는 \n",
    "다음과 같이 request들을 모두 보낸 후\n",
    "> request-1 >> ... >> request-n\n",
    "\n",
    "response messgage를 순서대로 받을 수 있다.\n",
    "> response-1 >> ... >> response-n\n",
    "\n",
    "Pipelining 방식으로 주고 받을 때, delay가 감소할까? 보통 naver와 같은 포털의 경우 한 개의 web page를 rendering하기 위해서 같은 server에서 수십개의 image와 javescript들을 fetch해야 한다."
   ]
  }
 ],
 "metadata": {
  "kernelspec": {
   "display_name": "Python 3",
   "language": "python",
   "name": "python3"
  },
  "language_info": {
   "codemirror_mode": {
    "name": "ipython",
    "version": 3
   },
   "file_extension": ".py",
   "mimetype": "text/x-python",
   "name": "python",
   "nbconvert_exporter": "python",
   "pygments_lexer": "ipython3",
   "version": "3.6.4"
  }
 },
 "nbformat": 4,
 "nbformat_minor": 2
}
