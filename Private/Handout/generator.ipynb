{
 "cells": [
  {
   "cell_type": "markdown",
   "metadata": {},
   "source": [
    "## Generators"
   ]
  },
  {
   "cell_type": "markdown",
   "metadata": {},
   "source": [
    "#### A Function returns a list containing Fibonacci series\n",
    "data sequence를 모두 생성하여 return한다. 즉, memory에 모든 데이터가 존재한다."
   ]
  },
  {
   "cell_type": "code",
   "execution_count": 1,
   "metadata": {},
   "outputs": [
    {
     "data": {
      "text/plain": [
       "[0, 1, 1, 2, 3, 5, 8, 13, 21, 34, 55, 89, 144, 233, 377, 610, 987, 1597]"
      ]
     },
     "execution_count": 1,
     "metadata": {},
     "output_type": "execute_result"
    }
   ],
   "source": [
    "def fib(n):\n",
    "    \"\"\"return a Fibonacci series up to n.\"\"\"\n",
    "    l = []\n",
    "    a, b = 0, 1\n",
    "    while a < n:\n",
    "        l.append(a)\n",
    "        a, b = b, a+b\n",
    "    return l\n",
    "\n",
    "fib(2000)"
   ]
  },
  {
   "cell_type": "markdown",
   "metadata": {},
   "source": [
    "#### Gererator function\n",
    "`return` 대신 `yield` statement가 있는 function이다.\n",
    "\n",
    "- `yield` statement로 그 function의 state를 save한 후 return한다. \n",
    "- 아 generator를 다시 (`next()`로) call되면 state는 복구된다. (그전 data value들을 모두 기억한다) \n",
    "- `yield` 의 다음 statement에서 resume된다.\n",
    "\n",
    "Generator는 모든 data sequence를 생성하여 저장하는 것이 아니라, 필요한 data만 바로 산출한다.\n",
    "- generator function을 call하는 일은 사실, generator object를 create하는 일이다.\n",
    "- for loop에서 iterate될 때 필요한 data를 산출한다."
   ]
  },
  {
   "cell_type": "code",
   "execution_count": 13,
   "metadata": {},
   "outputs": [
    {
     "data": {
      "text/plain": [
       "<generator object gen_fib at 0x000002AE32977480>"
      ]
     },
     "execution_count": 13,
     "metadata": {},
     "output_type": "execute_result"
    }
   ],
   "source": [
    "def gen_fib(n):\n",
    "    \"\"\"generate a Fibonacci series up to n.\"\"\"\n",
    "    a, b = 0, 1\n",
    "    while a < n:\n",
    "        yield a\n",
    "        a, b = b, a+b\n",
    "\n",
    "gen_fib(2000)"
   ]
  },
  {
   "cell_type": "code",
   "execution_count": 25,
   "metadata": {},
   "outputs": [
    {
     "name": "stdout",
     "output_type": "stream",
     "text": [
      "0 1 1 2 3 5 8 13 21 34 55 89 144 233 377 610 987 1597 "
     ]
    }
   ],
   "source": [
    "for i in gen_fib(2000):\n",
    "    print(i, end=' ')"
   ]
  },
  {
   "cell_type": "code",
   "execution_count": 26,
   "metadata": {},
   "outputs": [
    {
     "name": "stdout",
     "output_type": "stream",
     "text": [
      "[0, 1, 1, 2, 3, 5, 8, 13, 21, 34, 55, 89, 144, 233, 377, 610, 987]\n"
     ]
    }
   ],
   "source": [
    "print(list(gen_fib(1000)))  # store all the generated numbers in the list"
   ]
  },
  {
   "cell_type": "markdown",
   "metadata": {},
   "source": [
    "## Iterables\n",
    "`for` loop으로 반복 가능한 objects\n",
    "- Strings, tuples, lists, dictionaries, and sets\n",
    "- `range`, `zip`, `enumerate`, ...\n",
    "- generators, generator expressions\n",
    "\n",
    "Iterator: `__iter__`, `__next__` method를 구현한 object. (`iter`, `next` function 사용 가능)"
   ]
  },
  {
   "cell_type": "code",
   "execution_count": 19,
   "metadata": {},
   "outputs": [
    {
     "name": "stdout",
     "output_type": "stream",
     "text": [
      "0\n",
      "1\n",
      "1\n",
      "2\n"
     ]
    },
    {
     "ename": "StopIteration",
     "evalue": "",
     "output_type": "error",
     "traceback": [
      "\u001b[1;31m---------------------------------------------------------------------------\u001b[0m",
      "\u001b[1;31mStopIteration\u001b[0m                             Traceback (most recent call last)",
      "\u001b[1;32m<ipython-input-19-68864edfd6e2>\u001b[0m in \u001b[0;36m<module>\u001b[1;34m\u001b[0m\n\u001b[0;32m      4\u001b[0m \u001b[0mprint\u001b[0m\u001b[1;33m(\u001b[0m\u001b[0mnext\u001b[0m\u001b[1;33m(\u001b[0m\u001b[0mit\u001b[0m\u001b[1;33m)\u001b[0m\u001b[1;33m)\u001b[0m      \u001b[1;31m# get next item\u001b[0m\u001b[1;33m\u001b[0m\u001b[1;33m\u001b[0m\u001b[0m\n\u001b[0;32m      5\u001b[0m \u001b[0mprint\u001b[0m\u001b[1;33m(\u001b[0m\u001b[0mnext\u001b[0m\u001b[1;33m(\u001b[0m\u001b[0mit\u001b[0m\u001b[1;33m)\u001b[0m\u001b[1;33m)\u001b[0m      \u001b[1;31m# get next item\u001b[0m\u001b[1;33m\u001b[0m\u001b[1;33m\u001b[0m\u001b[0m\n\u001b[1;32m----> 6\u001b[1;33m \u001b[0mprint\u001b[0m\u001b[1;33m(\u001b[0m\u001b[0mnext\u001b[0m\u001b[1;33m(\u001b[0m\u001b[0mit\u001b[0m\u001b[1;33m)\u001b[0m\u001b[1;33m)\u001b[0m      \u001b[1;31m# get next item\u001b[0m\u001b[1;33m\u001b[0m\u001b[1;33m\u001b[0m\u001b[0m\n\u001b[0m",
      "\u001b[1;31mStopIteration\u001b[0m: "
     ]
    }
   ],
   "source": []
  },
  {
   "cell_type": "markdown",
   "metadata": {},
   "source": [
    "> next item이 없으면(또는 generator function의 마지막에 이르게 되면) `StopIteration` exception을 발생시킨다. 이을 처리하지 않으면 프로그램은 종료된다.\n",
    "\n",
    "발생한 exception을 catch하면 (아무 일도 하지 않았지만) 문제가 해결될 것이다.\n",
    "\n",
    "## for loop과 iterable\n",
    "```Python\n",
    "for i in gen_fib(5):\n",
    "    print(i)\n",
    "```"
   ]
  },
  {
   "cell_type": "markdown",
   "metadata": {},
   "source": [
    "`for` statement는 iterable(generator) object에 대해 `next()`로\n",
    "next item을 받아 오는 일을 반복 수행하고, StopIteration으로 loop을 빠져 나오게 한다."
   ]
  },
  {
   "cell_type": "code",
   "execution_count": 20,
   "metadata": {},
   "outputs": [
    {
     "name": "stdout",
     "output_type": "stream",
     "text": [
      "0\n",
      "1\n",
      "1\n",
      "2\n",
      "3\n"
     ]
    }
   ],
   "source": [
    "it = iter(gen_fib(5))   # convert generator to iterator\n",
    "try:\n",
    "    while True:\n",
    "        i = next(it)\n",
    "        print(i)\n",
    "except StopIteration:    # excepion handler\n",
    "    pass                 # do nothing"
   ]
  },
  {
   "cell_type": "markdown",
   "metadata": {},
   "source": [
    "## Generator Expressions"
   ]
  },
  {
   "cell_type": "code",
   "execution_count": 27,
   "metadata": {},
   "outputs": [
    {
     "name": "stdout",
     "output_type": "stream",
     "text": [
      "0 1 4 9 16 25 36 49 64 81 "
     ]
    }
   ],
   "source": [
    "g = (i*i for i in range(10))\n",
    "for i in g:\n",
    "    print(i, end=' ')"
   ]
  },
  {
   "cell_type": "code",
   "execution_count": 28,
   "metadata": {},
   "outputs": [
    {
     "data": {
      "text/plain": [
       "285"
      ]
     },
     "execution_count": 28,
     "metadata": {},
     "output_type": "execute_result"
    }
   ],
   "source": [
    "sum(i*i for i in range(10))                 # sum of squares"
   ]
  },
  {
   "cell_type": "code",
   "execution_count": 29,
   "metadata": {},
   "outputs": [
    {
     "data": {
      "text/plain": [
       "260"
      ]
     },
     "execution_count": 29,
     "metadata": {},
     "output_type": "execute_result"
    }
   ],
   "source": [
    "xvec = [10, 20, 30]\n",
    "yvec = [7, 5, 3]\n",
    "sum(x*y for x,y in zip(xvec, yvec))         # dot product"
   ]
  },
  {
   "cell_type": "code",
   "execution_count": 15,
   "metadata": {
    "scrolled": true
   },
   "outputs": [
    {
     "name": "stdout",
     "output_type": "stream",
     "text": [
      "{0: 0.0, 1: 0.01745240643728351, 2: 0.03489949670250097, 3: 0.05233595624294383, 4: 0.0697564737441253, 5: 0.08715574274765817, 6: 0.10452846326765346, 7: 0.12186934340514748, 8: 0.13917310096006544, 9: 0.15643446504023087, 10: 0.17364817766693033, 11: 0.1908089953765448, 12: 0.20791169081775931, 13: 0.224951054343865, 14: 0.24192189559966773, 15: 0.25881904510252074, 16: 0.27563735581699916, 17: 0.29237170472273677, 18: 0.3090169943749474, 19: 0.32556815445715664, 20: 0.3420201433256687, 21: 0.35836794954530027, 22: 0.374606593415912, 23: 0.3907311284892737, 24: 0.40673664307580015, 25: 0.42261826174069944, 26: 0.4383711467890774, 27: 0.45399049973954675, 28: 0.4694715627858908, 29: 0.48480962024633706, 30: 0.49999999999999994, 31: 0.5150380749100542, 32: 0.5299192642332049, 33: 0.5446390350150271, 34: 0.5591929034707469, 35: 0.573576436351046, 36: 0.5877852522924731, 37: 0.6018150231520483, 38: 0.6156614753256582, 39: 0.6293203910498374, 40: 0.6427876096865393, 41: 0.6560590289905072, 42: 0.6691306063588582, 43: 0.6819983600624985, 44: 0.6946583704589973, 45: 0.7071067811865475, 46: 0.7193398003386511, 47: 0.7313537016191705, 48: 0.7431448254773941, 49: 0.754709580222772, 50: 0.766044443118978, 51: 0.7771459614569708, 52: 0.788010753606722, 53: 0.7986355100472928, 54: 0.8090169943749475, 55: 0.8191520442889918, 56: 0.8290375725550417, 57: 0.8386705679454239, 58: 0.848048096156426, 59: 0.8571673007021122, 60: 0.8660254037844386, 61: 0.8746197071393957, 62: 0.8829475928589269, 63: 0.8910065241883678, 64: 0.898794046299167, 65: 0.9063077870366499, 66: 0.9135454576426009, 67: 0.9205048534524403, 68: 0.9271838545667874, 69: 0.9335804264972017, 70: 0.9396926207859083, 71: 0.9455185755993167, 72: 0.9510565162951535, 73: 0.9563047559630354, 74: 0.9612616959383189, 75: 0.9659258262890683, 76: 0.9702957262759965, 77: 0.9743700647852352, 78: 0.9781476007338056, 79: 0.981627183447664, 80: 0.984807753012208, 81: 0.9876883405951378, 82: 0.9902680687415703, 83: 0.992546151641322, 84: 0.9945218953682733, 85: 0.9961946980917455, 86: 0.9975640502598242, 87: 0.9986295347545738, 88: 0.9993908270190958, 89: 0.9998476951563913, 90: 1.0}\n"
     ]
    }
   ],
   "source": [
    "from math import pi, sin\n",
    "sine_table = {x: sin(x*pi/180) for x in range(0, 91)}\n",
    "print(sine_table)"
   ]
  },
  {
   "cell_type": "code",
   "execution_count": 26,
   "metadata": {},
   "outputs": [],
   "source": [
    "with open(\"alice_in_wonderland.txt\") as f:\n",
    "    page = f.read()"
   ]
  },
  {
   "cell_type": "code",
   "execution_count": 27,
   "metadata": {},
   "outputs": [
    {
     "data": {
      "text/plain": [
       "144391"
      ]
     },
     "execution_count": 27,
     "metadata": {},
     "output_type": "execute_result"
    }
   ],
   "source": [
    "len(page)"
   ]
  },
  {
   "cell_type": "code",
   "execution_count": 28,
   "metadata": {},
   "outputs": [
    {
     "name": "stdout",
     "output_type": "stream",
     "text": [
      "5294\n"
     ]
    }
   ],
   "source": [
    "unique_words = set(word  for word in page.split())\n",
    "print(len(unique_words))"
   ]
  },
  {
   "cell_type": "code",
   "execution_count": 31,
   "metadata": {},
   "outputs": [
    {
     "data": {
      "text/plain": [
       "['f', 'l', 'o', 'g']"
      ]
     },
     "execution_count": 31,
     "metadata": {},
     "output_type": "execute_result"
    }
   ],
   "source": [
    "data = 'golf'\n",
    "list(data[i] for i in range(len(data)-1, -1, -1))"
   ]
  },
  {
   "cell_type": "markdown",
   "metadata": {},
   "source": [
    "## Exercise implement range() generator function\n",
    "\n",
    "Q1. list를 return하는 `lrange()` function을 작성하고 시험하라."
   ]
  },
  {
   "cell_type": "code",
   "execution_count": 17,
   "metadata": {},
   "outputs": [
    {
     "name": "stdout",
     "output_type": "stream",
     "text": [
      "Test at line 12 ok.\n",
      "Test at line 13 ok.\n"
     ]
    }
   ],
   "source": [
    "def lrange1(start, stop, step):\n",
    "    if step == 0:\n",
    "        raise ValueError('step must be non-zero')\n",
    "    l = []\n",
    "    while (step > 0 and start < stop) or (step < 0 and start > stop):\n",
    "        l.append(start)\n",
    "        start += step  \n",
    "    return l\n",
    "\n",
    "from unit_test import test\n",
    "\n",
    "test(lrange1(-1, 7, 2) == [-1, 1, 3, 5])\n",
    "test(lrange1(10, 1, -2) == [10, 8, 6, 4, 2])"
   ]
  },
  {
   "cell_type": "markdown",
   "metadata": {},
   "source": [
    "Q2.\n",
    "- 3번째 argument가 생략되면 `lrange1(start, stop, 1)`\n",
    "- 2번째 3번째 argument가 생략되면 `lrange1(0, start, 1)`\n",
    "\n",
    "를 call하는 함수 lrange(start, stop, step)을 작성하라."
   ]
  },
  {
   "cell_type": "code",
   "execution_count": 23,
   "metadata": {},
   "outputs": [
    {
     "name": "stdout",
     "output_type": "stream",
     "text": [
      "0 1 2 3 \n",
      "Test at line 15 ok.\n",
      "Test at line 16 ok.\n",
      "Test at line 17 ok.\n"
     ]
    }
   ],
   "source": [
    "def lrange(start, stop=None, step=1):\n",
    "    if step == 0:\n",
    "        raise ValueError('step must be non-zero')\n",
    "    if stop is None:\n",
    "        start, stop = 0, start\n",
    "    l = []\n",
    "    while (step > 0 and start < stop) or (step < 0 and start > stop):\n",
    "        l.append(start)\n",
    "        start += step  \n",
    "    return l\n",
    "\n",
    "for i in lrange(4):\n",
    "    print(i, end=' ')\n",
    "print()\n",
    "test(sum(i for i in lrange(1, 11)) == 55)\n",
    "test(lrange(-1, 7, 2) == list(range(-1, 7, 2)))\n",
    "test(lrange(10, 1, -2) == list(range(10, 1, -2)))"
   ]
  },
  {
   "cell_type": "markdown",
   "metadata": {},
   "source": [
    "Q3. 위 두 함수를 합쳐 `range()`와 같이 동작하는 `xrange()` generator 함수를 작성하라."
   ]
  },
  {
   "cell_type": "code",
   "execution_count": 31,
   "metadata": {},
   "outputs": [
    {
     "name": "stdout",
     "output_type": "stream",
     "text": [
      "<generator object xrange at 0x000002AE337F34F8>\n",
      "Test at line 22 ok.\n",
      "Test at line 23 ok.\n",
      "Test at line 24 ok.\n",
      "Test at line 25 ok.\n",
      "Test at line 26 ok.\n"
     ]
    }
   ],
   "source": [
    "import sys\n",
    "\n",
    "def test(did_pass):\n",
    "    \"\"\"  Print the result of a test.  \"\"\"\n",
    "    linenum = sys._getframe(1).f_lineno   # Get the caller's line number.\n",
    "    if did_pass:\n",
    "        msg = \"Test at line {0} ok.\".format(linenum)\n",
    "    else:\n",
    "        msg = (\"Test at line {0} FAILED.\".format(linenum))\n",
    "    print(msg)\n",
    "    \n",
    "def xrange(start, stop=None, step=1):\n",
    "    if step == 0:\n",
    "        raise ValueError('step must be non-zero')\n",
    "    if stop is None:\n",
    "        start, stop = 0, start\n",
    "    while (step > 0 and start < stop) or (step < 0 and start > stop):\n",
    "        yield start\n",
    "        start += step  \n",
    "\n",
    "print(xrange(4))\n",
    "test(list(xrange(4)) == [0, 1, 2, 3])\n",
    "test(list(xrange(4)) == list(range(4)))\n",
    "test(sum(i for i in xrange(1, 11)) == 55)\n",
    "test(list(xrange(-1, 7, 2)) == list(range(-1, 7, 2)))\n",
    "test(list(xrange(10, 1, -2)) == list(range(10, 1, -2)))"
   ]
  }
 ],
 "metadata": {
  "kernelspec": {
   "display_name": "Python 3",
   "language": "python",
   "name": "python3"
  },
  "language_info": {
   "codemirror_mode": {
    "name": "ipython",
    "version": 3
   },
   "file_extension": ".py",
   "mimetype": "text/x-python",
   "name": "python",
   "nbconvert_exporter": "python",
   "pygments_lexer": "ipython3",
   "version": "3.7.3"
  }
 },
 "nbformat": 4,
 "nbformat_minor": 2
}
