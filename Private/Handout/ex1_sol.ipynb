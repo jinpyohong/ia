{
 "cells": [
  {
   "cell_type": "markdown",
   "metadata": {},
   "source": [
    "# Solutions of Ex-1. Python Data Structure\n",
    "IDLE Shell을 실행시켜 interactive mode에서 coding하면서 맞는 답을 찾아 보자. 각 물음에 대해 문제를 해결하는 code와 결과를 copy하여, 문항 아래에 붙여 넣은 후 이 파일을 제출한다.\n",
    "\n",
    "서술문:\n",
    "The prices of fruits in the market are as follows:"
   ]
  },
  {
   "cell_type": "code",
   "execution_count": null,
   "metadata": {},
   "outputs": [],
   "source": [
    "prices = {'apple': 1500, 'orange': 1000, 'pear': 2000, 'banana' : 500, 'pineapple': 3000}"
   ]
  },
  {
   "cell_type": "markdown",
   "metadata": {},
   "source": [
    "I put the following fruits into my basket."
   ]
  },
  {
   "cell_type": "code",
   "execution_count": null,
   "metadata": {},
   "outputs": [],
   "source": [
    "my_basket = ['apple', 'orange', 'apple', 'pear', 'orange', 'banana']"
   ]
  },
  {
   "cell_type": "markdown",
   "metadata": {},
   "source": [
    "1.\tHow many fruits in my basket?"
   ]
  },
  {
   "cell_type": "code",
   "execution_count": null,
   "metadata": {},
   "outputs": [],
   "source": [
    "len(my_basket)"
   ]
  },
  {
   "cell_type": "markdown",
   "metadata": {},
   "source": [
    "2.\tAre there any oranges in my basket?"
   ]
  },
  {
   "cell_type": "code",
   "execution_count": null,
   "metadata": {},
   "outputs": [],
   "source": [
    "'orange' in my_basket"
   ]
  },
  {
   "cell_type": "markdown",
   "metadata": {},
   "source": [
    "참고: 'Yes', 'No'로 답하기"
   ]
  },
  {
   "cell_type": "code",
   "execution_count": null,
   "metadata": {},
   "outputs": [],
   "source": [
    "# if statement\n",
    "if 'orange' in my_basket:\n",
    "    answer = 'Yes'\n",
    "else:\n",
    "    answer = 'No'\n",
    "answer"
   ]
  },
  {
   "cell_type": "code",
   "execution_count": null,
   "metadata": {},
   "outputs": [],
   "source": [
    "# if expression\n",
    "answer = 'Yes' if 'orange' in my_basket else 'No'\n",
    "answer"
   ]
  },
  {
   "cell_type": "markdown",
   "metadata": {},
   "source": [
    "참고: True는 1, False는 0로 인식된다."
   ]
  },
  {
   "cell_type": "code",
   "execution_count": null,
   "metadata": {},
   "outputs": [],
   "source": [
    "# using tuple indexing\n",
    "answer = ('No', 'Yes')\n",
    "answer['orange' in my_basket]"
   ]
  },
  {
   "cell_type": "markdown",
   "metadata": {},
   "source": [
    "더 줄여서"
   ]
  },
  {
   "cell_type": "code",
   "execution_count": null,
   "metadata": {},
   "outputs": [],
   "source": [
    "('No', 'Yes')['orange' in my_basket]"
   ]
  },
  {
   "cell_type": "markdown",
   "metadata": {},
   "source": [
    "3.\tAre there any apples or oranges in my basket?"
   ]
  },
  {
   "cell_type": "code",
   "execution_count": null,
   "metadata": {},
   "outputs": [],
   "source": [
    "'apple' in my_basket or 'orange' in my_basket"
   ]
  },
  {
   "cell_type": "markdown",
   "metadata": {},
   "source": [
    "4.\tPut a pineapple into my basket if it is not in the basket? "
   ]
  },
  {
   "cell_type": "code",
   "execution_count": null,
   "metadata": {},
   "outputs": [],
   "source": [
    "if 'pineapple' not in my_basket:\n",
    "    my_basket.append('pineapple')\n",
    "my_basket"
   ]
  },
  {
   "cell_type": "markdown",
   "metadata": {},
   "source": [
    "5.\tWhat kinds of fruits are in my basket?"
   ]
  },
  {
   "cell_type": "code",
   "execution_count": null,
   "metadata": {},
   "outputs": [],
   "source": [
    "set(my_basket)"
   ]
  },
  {
   "cell_type": "markdown",
   "metadata": {},
   "source": [
    "6.\tShow the name of fruits in my basket ending with ‘e’. (Do not show the same names twice)"
   ]
  },
  {
   "cell_type": "code",
   "execution_count": null,
   "metadata": {},
   "outputs": [],
   "source": [
    "l = []\n",
    "for fruit in set(my_basket):\n",
    "    if fruit.endswith('e'):\n",
    "        l.append(fruit)\n",
    "l"
   ]
  },
  {
   "cell_type": "code",
   "execution_count": null,
   "metadata": {},
   "outputs": [],
   "source": [
    "# Alternative solution using list comprehension\n",
    "[fruit for fruit in set(my_basket) if fruit.endswith('e')]"
   ]
  },
  {
   "cell_type": "code",
   "execution_count": null,
   "metadata": {},
   "outputs": [],
   "source": [
    "# Althernative solution using set comprehension\n",
    "{fruit for fruit in my_basket if fruit.endswith('e')}"
   ]
  },
  {
   "cell_type": "markdown",
   "metadata": {},
   "source": [
    "7.\tHow many apples are in my basket?"
   ]
  },
  {
   "cell_type": "code",
   "execution_count": null,
   "metadata": {},
   "outputs": [],
   "source": [
    "my_basket.count('apple')"
   ]
  },
  {
   "cell_type": "markdown",
   "metadata": {},
   "source": [
    "8.\tCount the number for each kind of fruits in my basket. (You may represent them as a dict)"
   ]
  },
  {
   "cell_type": "code",
   "execution_count": null,
   "metadata": {},
   "outputs": [],
   "source": [
    "fruits_count = {}\n",
    "for fruit in my_basket:\n",
    "    if fruit in fruits_count:\n",
    "        fruits_count[fruit] = fruits_count[fruit] + 1\n",
    "        # shortly, \n",
    "        # fruits_count[fruit] += 1\n",
    "    else:\n",
    "        fruits_count[fruit] = 0\n",
    "fruits_count"
   ]
  },
  {
   "cell_type": "code",
   "execution_count": null,
   "metadata": {},
   "outputs": [],
   "source": [
    "# using dict.get method\n",
    "fruits_count = {}\n",
    "for fruit in my_basket:\n",
    "    fruits_count[fruit] = fruits_count.get(fruit, 0) + 1\n",
    "fruits_count"
   ]
  },
  {
   "cell_type": "markdown",
   "metadata": {},
   "source": [
    "9.\tHow much do I pay for the fruits in my basket."
   ]
  },
  {
   "cell_type": "code",
   "execution_count": null,
   "metadata": {},
   "outputs": [],
   "source": [
    "total_payment = 0\n",
    "for fruit, count in fruits_count.items():\n",
    "    total_payment += prices[fruit] * count\n",
    "total_payment"
   ]
  },
  {
   "cell_type": "code",
   "execution_count": null,
   "metadata": {},
   "outputs": [],
   "source": [
    "# using sum and list comprehension\n",
    "sum([prices[fruit] * count for fruit, count in fruits_count.items()])"
   ]
  },
  {
   "cell_type": "code",
   "execution_count": null,
   "metadata": {},
   "outputs": [],
   "source": [
    "# using generator expression\n",
    "sum(prices[fruit] * count for fruit, count in fruits_count.items())"
   ]
  }
 ],
 "metadata": {
  "kernelspec": {
   "display_name": "Python 3",
   "language": "python",
   "name": "python3"
  },
  "language_info": {
   "codemirror_mode": {
    "name": "ipython",
    "version": 3
   },
   "file_extension": ".py",
   "mimetype": "text/x-python",
   "name": "python",
   "nbconvert_exporter": "python",
   "pygments_lexer": "ipython3",
   "version": "3.7.3"
  }
 },
 "nbformat": 4,
 "nbformat_minor": 2
}
