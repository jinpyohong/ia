{
 "cells": [
  {
   "cell_type": "markdown",
   "metadata": {},
   "source": [
    "# Ex-2. Python loop and function"
   ]
  },
  {
   "cell_type": "markdown",
   "metadata": {},
   "source": [
    "## 스스로 tester 작성하기: 예제\n",
    "다음과 같이 test function이 주어져 있다:"
   ]
  },
  {
   "cell_type": "code",
   "execution_count": 36,
   "metadata": {},
   "outputs": [],
   "source": [
    "import sys\n",
    "\n",
    "def test(did_pass):\n",
    "    \"\"\"  Print the result of a test.  \"\"\"\n",
    "    linenum = sys._getframe(1).f_lineno   # Get the caller's line number.\n",
    "    if did_pass:\n",
    "        msg = \"Test at line {0} ok.\".format(linenum)\n",
    "    else:\n",
    "        msg = (\"Test at line {0} FAILED.\".format(linenum))\n",
    "    print(msg)"
   ]
  },
  {
   "cell_type": "markdown",
   "metadata": {},
   "source": [
    "#### Q1. 절대값을 구하는 function `ablsolute_value`를 작성해서 다음과 같이 test해 보자.\n",
    "모든 test case가 통과될 때 까지 code를 수정한다."
   ]
  },
  {
   "cell_type": "code",
   "execution_count": 37,
   "metadata": {},
   "outputs": [
    {
     "name": "stdout",
     "output_type": "stream",
     "text": [
      "Test at line 8 ok.\n",
      "Test at line 9 ok.\n",
      "Test at line 10 ok.\n",
      "Test at line 11 ok.\n",
      "Test at line 12 ok.\n"
     ]
    }
   ],
   "source": [
    "def absolute_value(n):   # Buggy version\n",
    "    \"\"\" Compute the absolute value of n \"\"\"\n",
    "    if n < 0:\n",
    "        return -n\n",
    "    elif n >= 0:\n",
    "        return n\n",
    "    \n",
    "test(absolute_value(17) == 17)\n",
    "test(absolute_value(-17) == 17)\n",
    "test(absolute_value(0) == 0)\n",
    "test(absolute_value(3.14) == 3.14)\n",
    "test(absolute_value(-3.14) == 3.14)"
   ]
  },
  {
   "cell_type": "markdown",
   "metadata": {},
   "source": [
    "## 다음 물음에 답하여 code를 작성하고, 함께 test case들도 작성한다."
   ]
  },
  {
   "cell_type": "markdown",
   "metadata": {},
   "source": [
    "#### Q2. 정수를 매개 변수로 받아 각 자리를 제곱한 뒤 모두 더하는 `sum_of_digit_square` function을 작성하라. \n",
    "Parameter: 789 -> Output: 49+64+81=194"
   ]
  },
  {
   "cell_type": "code",
   "execution_count": 38,
   "metadata": {
    "scrolled": true
   },
   "outputs": [
    {
     "name": "stdout",
     "output_type": "stream",
     "text": [
      "Test at line 8 ok.\n",
      "Test at line 9 ok.\n"
     ]
    }
   ],
   "source": [
    "def sum_of_digit_square(n):\n",
    "    text = str(abs(n))\n",
    "    ans = 0\n",
    "    for letter in text:\n",
    "        ans += int(letter)**2\n",
    "    return ans\n",
    "\n",
    "test(sum_of_digit_square(789) == 7**2 + 8**2 + 9**2)\n",
    "test(sum_of_digit_square(-123) == 1**2 + 2**2 + 3**2 )"
   ]
  },
  {
   "cell_type": "markdown",
   "metadata": {},
   "source": [
    "#### Q3. 2이상의 자연수를 매개 변수로 받아 소수인지 검사하는 `is_prime` function을 작성하라."
   ]
  },
  {
   "cell_type": "code",
   "execution_count": 39,
   "metadata": {},
   "outputs": [
    {
     "name": "stdout",
     "output_type": "stream",
     "text": [
      "Test at line 7 ok.\n",
      "Test at line 8 ok.\n",
      "Test at line 9 ok.\n",
      "Test at line 10 ok.\n",
      "Test at line 11 ok.\n"
     ]
    }
   ],
   "source": [
    "def is_prime(n):\n",
    "    import math\n",
    "    if n % 2 == 0 and n > 2: \n",
    "        return False\n",
    "    return all(n % i for i in range(3, int(math.sqrt(n)) + 1, 2))\n",
    "    \n",
    "test(is_prime(0) == True)\n",
    "test(is_prime(5) == True)\n",
    "test(is_prime(12) == False)\n",
    "test(is_prime(13) == True)\n",
    "test(is_prime(1033) == True)"
   ]
  },
  {
   "cell_type": "markdown",
   "metadata": {},
   "source": [
    "#### Q4. 2이상의 자연수를 인자로 받아, 아래와 같은 문양을 출력하는 `star_pattern` void function을 작성하라."
   ]
  },
  {
   "cell_type": "markdown",
   "metadata": {},
   "source": [
    "input: 5일 떄, 다음을 출력\n",
    "```python\n",
    "* \n",
    "* * \n",
    "* * * \n",
    "* * * * \n",
    "* * * * * \n",
    "* * * * \n",
    "* * * \n",
    "* * \n",
    "*\n",
    "```"
   ]
  },
  {
   "cell_type": "code",
   "execution_count": 40,
   "metadata": {},
   "outputs": [
    {
     "name": "stdout",
     "output_type": "stream",
     "text": [
      "\n",
      "* \n",
      "* * \n",
      "* * * \n",
      "* * * * \n",
      "* * * * * \n",
      "* * * * \n",
      "* * * \n",
      "* * \n",
      "* \n",
      "\n",
      "* \n",
      "* * \n",
      "* * * \n",
      "* * * * \n",
      "* * * * * \n",
      "* * * * * * \n",
      "* * * * * \n",
      "* * * * \n",
      "* * * \n",
      "* * \n",
      "* \n"
     ]
    }
   ],
   "source": [
    "def star_pattern(n):\n",
    "    for i in range(n):\n",
    "        for j in range(i):\n",
    "            print ('* ', end=\"\")\n",
    "        print('')\n",
    "\n",
    "    for i in range(n,0,-1):\n",
    "        for j in range(i):\n",
    "            print('* ', end=\"\")\n",
    "        print('')\n",
    "        \n",
    "star_pattern(5)\n",
    "star_pattern(6)"
   ]
  },
  {
   "cell_type": "markdown",
   "metadata": {},
   "source": [
    "#### Q5. 자연수를 매개 변수로 받아 가장 가까운 완전 제곱수를 출력하는 `perfect_square` function을 작성하라."
   ]
  },
  {
   "cell_type": "code",
   "execution_count": 41,
   "metadata": {},
   "outputs": [
    {
     "name": "stdout",
     "output_type": "stream",
     "text": [
      "Test at line 4 ok.\n",
      "Test at line 5 ok.\n",
      "Test at line 6 ok.\n",
      "Test at line 7 ok.\n"
     ]
    }
   ],
   "source": [
    "def perfect_square(n):\n",
    "    return round(math.sqrt(n))\n",
    "\n",
    "test(perfect_square(15) == 4)\n",
    "test(perfect_square(31) == 6)\n",
    "test(perfect_square(41) == 6)\n",
    "test(perfect_square(99) == 10)"
   ]
  },
  {
   "cell_type": "markdown",
   "metadata": {},
   "source": [
    "#### Q6. 자연수를 매개 변수로 받아 각 자리의 수를 더하여 새로운 수를 구하고, 이를 반복하여 한 자리 수를 만들어 출력하는 `unit_place_value` function을 작성하라.\n",
    "(e.g., 75 -> 7+5=12 -> 1+2=3)."
   ]
  },
  {
   "cell_type": "code",
   "execution_count": 42,
   "metadata": {},
   "outputs": [
    {
     "name": "stdout",
     "output_type": "stream",
     "text": [
      "Test at line 6 ok.\n",
      "Test at line 7 ok.\n",
      "Test at line 8 ok.\n",
      "Test at line 9 ok.\n"
     ]
    }
   ],
   "source": [
    "''''''발생자''''''\n",
    "def unit_place_value(n):\n",
    "    while 10<n:\n",
    "        n = sum(int(s) for s in str(n))\n",
    "    return n\n",
    "    \n",
    "test(unit_place_value(75) == 3)\n",
    "test(unit_place_value(3942) == 9)\n",
    "test(unit_place_value(32) == 5)\n",
    "test(unit_place_value(9) == 9)"
   ]
  },
  {
   "cell_type": "markdown",
   "metadata": {},
   "source": [
    "#### Q7. 자연수를 매개 변수로 받아 해당 숫자까지의 팩토리얼을 계산하는 `recursive_factorial` recursive function을 작성하라."
   ]
  },
  {
   "cell_type": "code",
   "execution_count": 43,
   "metadata": {},
   "outputs": [
    {
     "name": "stdout",
     "output_type": "stream",
     "text": [
      "Test at line 10 ok.\n",
      "Test at line 11 ok.\n",
      "Test at line 12 ok.\n",
      "Test at line 13 ok.\n"
     ]
    }
   ],
   "source": [
    "def recursive_factorial(n):\n",
    "    if not isinstance(n, int) or n < 0:\n",
    "        raise ValueError(\"Must be non-negative integer\")\n",
    "    if n == 0 or n == 1:\n",
    "        return 1\n",
    "    else:\n",
    "        return n*recursive_factorial(n-1)\n",
    "    \n",
    "import math\n",
    "test(recursive_factorial(5) == math.factorial(5))\n",
    "test(recursive_factorial(8) == math.factorial(8))\n",
    "test(recursive_factorial(2) == math.factorial(2))\n",
    "test(recursive_factorial(10) == math.factorial(10))"
   ]
  },
  {
   "cell_type": "markdown",
   "metadata": {},
   "source": [
    "#### Q8. 자연수를 매개 변수로 받아 해당 숫자까지의 팩토리얼을 계산하는 `non_recursive_factorial` non recursive function을 작성하라."
   ]
  },
  {
   "cell_type": "code",
   "execution_count": 44,
   "metadata": {},
   "outputs": [
    {
     "name": "stdout",
     "output_type": "stream",
     "text": [
      "Test at line 8 ok.\n",
      "Test at line 9 ok.\n",
      "Test at line 10 ok.\n",
      "Test at line 11 ok.\n"
     ]
    }
   ],
   "source": [
    "def non_recursive_factorial(n):\n",
    "    result = 1\n",
    "    for i in range(2, n+1):\n",
    "        result *= i\n",
    "    return result\n",
    "    \n",
    "import math\n",
    "test(non_recursive_factorial(5) == math.factorial(5))\n",
    "test(non_recursive_factorial(8) == math.factorial(8))\n",
    "test(non_recursive_factorial(2) == math.factorial(2))\n",
    "test(non_recursive_factorial(10) == math.factorial(10))"
   ]
  },
  {
   "cell_type": "markdown",
   "metadata": {},
   "source": [
    "#### Q9. 두 자연수를 매개 변수로 받아 최대공약수를 구하는 `my_gcd` function을 작성하라."
   ]
  },
  {
   "cell_type": "code",
   "execution_count": 45,
   "metadata": {},
   "outputs": [
    {
     "name": "stdout",
     "output_type": "stream",
     "text": [
      "Test at line 9 ok.\n",
      "Test at line 10 ok.\n",
      "Test at line 11 ok.\n",
      "Test at line 12 ok.\n"
     ]
    }
   ],
   "source": [
    "'''이방식은 디게 common한 방식'''\n",
    "def my_gcd(a, b):\n",
    "    while b:\n",
    "        gcd= a%b\n",
    "        a, b = b, gcd\n",
    "    return abs(a)\n",
    "\n",
    "import math\n",
    "test(my_gcd(12, 16) == math.gcd(12,16))\n",
    "test(my_gcd(16, 12) == math.gcd(16, 12))\n",
    "test(my_gcd(9, 6) == math.gcd(9, 6))\n",
    "test(my_gcd(-12, -38) == math.gcd(-12, -38))"
   ]
  },
  {
   "cell_type": "markdown",
   "metadata": {},
   "source": [
    "#### Q10. 임의의 정수가 들어있는 set을 input으로 입력받아, 가장 큰 세 숫자만을 가지고 있는 set을 반환하는 `max_of_three` function을 작성하라."
   ]
  },
  {
   "cell_type": "code",
   "execution_count": 51,
   "metadata": {},
   "outputs": [
    {
     "name": "stdout",
     "output_type": "stream",
     "text": [
      "Test at line 10 ok.\n",
      "Test at line 11 ok.\n"
     ]
    }
   ],
   "source": [
    "'''다들 sort를 써야겠다고는 생각했을거에요\n",
    "sorted 와 sort의 차이 '''\n",
    "def max_of_three(s):\n",
    "    return set(sorted(s)[-3:])\n",
    "\n",
    "test(max_of_three({1, 2, 3, 4, 5}) == {3, 4, 5})\n",
    "test(max_of_three({-100, 42, 32, -4, -1}) == {42, 32, -1})"
   ]
  },
  {
   "cell_type": "markdown",
   "metadata": {},
   "source": [
    "#### Q11. 임의의 정수가 들어있는 리스트를 input으로 입력받아, 전부 곱한 결과를 반환하는 `mult_of_list` function을 작성하라."
   ]
  },
  {
   "cell_type": "code",
   "execution_count": null,
   "metadata": {},
   "outputs": [],
   "source": [
    "'''기존의 방식은 너무 쉬우니까 다른방식으로 해볼게요 datetime\n",
    "\n",
    "'''\n",
    "def mult_of_list(l):\n",
    "    nums = str(l)\n",
    "    return eval(nums.replace(',','*'))[0]\n",
    "\n",
    "test(mult_of_list([1, 2, 3, 4]) == 24)\n",
    "test(mult_of_list([1, 20, -3, 4]) == -240)\n",
    "test(mult_of_list([1, 0, -33, 9999]) == 0)"
   ]
  },
  {
   "cell_type": "markdown",
   "metadata": {},
   "source": [
    "#### Q12. 임의의 정수가 들어있는 리스트를 input으로 입력받아, 그 중 짝수만을 가진 리스트를 반환하는 `even_filter` function을 작성하라."
   ]
  },
  {
   "cell_type": "code",
   "execution_count": null,
   "metadata": {},
   "outputs": [],
   "source": [
    "'''짝수를 구분하려면 2로 나눠서 나머지가 없어야하잖아요\n",
    "그래서 x%2==0를 하셨을거에요\n",
    "다른 solution을 제시하자면, divmod, not x%2'''\n",
    "def even_filter(l):\n",
    "    return [x for x in l if not x%2]\n",
    "\n",
    "test(even_filter([1, 2, 3, 4, 5, 6, 7, 8, 9]) == [2, 4, 6, 8])\n",
    "test(even_filter([1, 3, 5, 7, 9]) == [])"
   ]
  },
  {
   "cell_type": "code",
   "execution_count": null,
   "metadata": {},
   "outputs": [],
   "source": []
  }
 ],
 "metadata": {
  "kernelspec": {
   "display_name": "Python 3",
   "language": "python",
   "name": "python3"
  },
  "language_info": {
   "codemirror_mode": {
    "name": "ipython",
    "version": 3
   },
   "file_extension": ".py",
   "mimetype": "text/x-python",
   "name": "python",
   "nbconvert_exporter": "python",
   "pygments_lexer": "ipython3",
   "version": "3.6.4"
  }
 },
 "nbformat": 4,
 "nbformat_minor": 2
}
